{
 "cells": [
  {
   "cell_type": "markdown",
   "metadata": {
    "deletable": false,
    "editable": false,
    "run_control": {
     "frozen": true
    }
   },
   "source": [
    "# <center> Chapitre 6 : Gamme d'exercices  </center>\n",
    "\n",
    "Il s'agit de toute une gamme d'exercices de révision sur les chapitres 1 à 6 à faire selon la maîtrise que vous avez acquise des différentes notions. Certains exercices sont simples et d'autres plus complexes.\n",
    "\n",
    "N'hésitez pas à solliciter vos enseignants sur les points, algorithmes ou exercices que vous n'auriez pas compris."
   ]
  },
  {
   "cell_type": "markdown",
   "metadata": {
    "deletable": false,
    "editable": false,
    "run_control": {
     "frozen": true
    }
   },
   "source": [
    "### Alternatives et expressions booléennes\n",
    "\n",
    "On définit trois variables `naissance`, `genre` et `niveauSonore` décrivant respectivement l'année de naissance d'une personne, son genre (caractère `'F'` pour féminin  ou `'M'` pour masculin) et un niveau sonore.\n",
    "\t\n",
    "On suppose que l'accès aux pièces d'un bâtiment est soumis à un contrôle informatique qui dépend de critères différents selon les pièces. Ces critères s'expriment à partir de renseignements d'âge, de genre et de niveau sonore dans la pièce.\n",
    "\n",
    "#### Question 1 \n",
    "\n",
    "Pour chacune des pièces décrites ci-dessous, exprimer les conditions d'accès sous forme d'*expressions booléennes* en étant le plus concis possible.\n",
    "\n",
    "Par exemple, **Pièce Bleue**: L'accès est autorisé si le niveau sonore dans la pièce est strictement inférieur à 2 dB. La condition s'exprime alors ainsi: `niveauSonore < 2.0`\n",
    "\n",
    "- **a) Pièce Verte :** L'accès est autorisé aux femmes si le niveau sonore est supérieur ou égal à 15dB, sinon il est interdit.\n",
    "- **b) Pièce Orange :** L'accès est autorisé aux hommes nés entre 1940 et 1960, sinon il est interdit.\n",
    "- **c) Pièce Rouge :** L'accès est autorisé s'il s'agit d'un homme de strictement moins de 18 ans ou de strictement plus de 65 ans, sinon il est interdit.\n",
    "- **d) Pièce Violette :** L'accès est autorisé à tout le monde si la pièce est silencieuse (c'est-à-dire quand le niveau sonore atteint 0 dB). Si le niveau sonore est strictement inférieur à 20 dB, les femmes nées avant 1967 sont admises."
   ]
  },
  {
   "cell_type": "code",
   "execution_count": null,
   "metadata": {},
   "outputs": [],
   "source": [
    "#-------------------------#\n",
    "#    Écrire le code ici   #\n",
    "#-------------------------#\n",
    "\n",
    "\n"
   ]
  },
  {
   "cell_type": "markdown",
   "metadata": {
    "deletable": false,
    "editable": false,
    "run_control": {
     "frozen": true
    }
   },
   "source": [
    "#### Question 2 \n",
    "On veut définir une fonction `accesOrange` prenant en paramètres le genre et l'année de naissance d'une personne et qui renvoie le booléen `True` si la condition d'accès à la pièce orange  est vérifiée et `False` sinon.\n",
    "\n",
    "Ecrire la fonction `accesOrange` ainsi que son docstring. Comment accède-t-on au docstring de cette fonction."
   ]
  },
  {
   "cell_type": "code",
   "execution_count": null,
   "metadata": {},
   "outputs": [],
   "source": [
    "#-------------------------#\n",
    "#    Écrire le code ici   #\n",
    "#-------------------------#\n",
    "\n",
    "\n"
   ]
  },
  {
   "cell_type": "markdown",
   "metadata": {
    "deletable": false,
    "editable": false,
    "run_control": {
     "frozen": true
    }
   },
   "source": [
    "#### Question 3 \n",
    "Ecrire une fonction de tests unitaires de la fonction `accesOrange` et appeler cette fonction."
   ]
  },
  {
   "cell_type": "code",
   "execution_count": null,
   "metadata": {},
   "outputs": [],
   "source": [
    "#-------------------------#\n",
    "#    Écrire le code ici   #\n",
    "#-------------------------#\n",
    "\n",
    "\n"
   ]
  },
  {
   "cell_type": "markdown",
   "metadata": {
    "deletable": false,
    "editable": false,
    "run_control": {
     "frozen": true
    }
   },
   "source": [
    "#### Question 4 \n",
    "Ecrire un programme principal complet qui demande (sans vérifier) l'année de naissance et le genre d'une personne et qui affiche le message `Accès autorisé` ou `Accès refusé` en fonction du résultat de la fonction `accesOrange`. A titre d'exemples, voici 2 exécutions qui précisent le fonctionnement et les affichages du programme.\n",
    "\n",
    "1ère exécution:\n",
    "```\n",
    "Entrer l'année de naissance :\n",
    "1920\n",
    "Entrer le genre [M/F] :\n",
    "F\n",
    "!!! Accès refusé !!!\n",
    "```\n",
    "\n",
    "2ème exécution:\n",
    "```\n",
    "Entrer l'année de naissance :\n",
    "1950\n",
    "Entrer le genre [M/F] :\n",
    "H\n",
    "!!! Accès autorisé !!!\n",
    "```"
   ]
  },
  {
   "cell_type": "code",
   "execution_count": null,
   "metadata": {},
   "outputs": [],
   "source": [
    "#-------------------------#\n",
    "#    Écrire le code ici   #\n",
    "#-------------------------#\n",
    "\n",
    "\n"
   ]
  },
  {
   "cell_type": "markdown",
   "metadata": {},
   "source": [
    "### Fonctions d'affichage \n",
    "\n",
    "#### Question 1\n",
    "\n",
    "- Définir une fonction `b1` qui affiche 3 fois `bonjour`.\n",
    "- Utiliser cette fonction pour afficher 6 fois `bonjour`."
   ]
  },
  {
   "cell_type": "code",
   "execution_count": null,
   "metadata": {},
   "outputs": [],
   "source": [
    "#-------------------------#\n",
    "#    Écrire le code ici   #\n",
    "#-------------------------#\n",
    "\n",
    "\n",
    "\n"
   ]
  },
  {
   "cell_type": "markdown",
   "metadata": {
    "deletable": false,
    "editable": false,
    "run_control": {
     "frozen": true
    }
   },
   "source": [
    "#### Question 2\n",
    "\n",
    "- Définir une fonction `b2` prenant en paramètre un entier naturel `n` et affichant `n` fois le message `bonjour`.\n",
    "- Appeler la fonction `b2` pour afficher 6 fois `bonjour`."
   ]
  },
  {
   "cell_type": "code",
   "execution_count": null,
   "metadata": {},
   "outputs": [],
   "source": [
    "#-------------------------#\n",
    "#    Écrire le code ici   #\n",
    "#-------------------------#\n",
    "\n",
    "\n"
   ]
  },
  {
   "cell_type": "markdown",
   "metadata": {
    "deletable": false,
    "editable": false,
    "run_control": {
     "frozen": true
    }
   },
   "source": [
    "#### Question 3\n",
    "\n",
    "- Définir une fonction `b3` prenant en paramètre un entier `n` et une chaîne de caractères `message` et affichant `n` fois le message.\n",
    "- Utiliser la fonction `b3` pour afficher 4 fois `hello` et 5 fois `buongiorno`."
   ]
  },
  {
   "cell_type": "code",
   "execution_count": null,
   "metadata": {},
   "outputs": [],
   "source": [
    "#-------------------------#\n",
    "#    Écrire le code ici   #\n",
    "#-------------------------#\n",
    "\n",
    "\n",
    "\n"
   ]
  },
  {
   "cell_type": "markdown",
   "metadata": {
    "deletable": false,
    "editable": false,
    "run_control": {
     "frozen": true
    }
   },
   "source": [
    "## Simulation d'une partie de ping-pong \n",
    "\n",
    "On veut simuler une partie de ping-pong entre deux joueurs A et B de forces égales. On propose pour cela de simuler chaqu point avec la fonction `randint(0,1` qui renvoie au hasard soit 0, soit 1 (quand on obtient 1, on considère que le joueur A a gagné ce point, et quand on obtient 0, que c'est le joueur B qui a gagné le\n",
    "point).\n",
    "\n",
    "Pour gagner une partie, il faut avoir marqué au moins 21 points, et avoir deux points de plus que son adversaire.\n",
    "\n",
    "#### Question 1\n",
    "Ecrire une fonction `gagne` prenant en paramètre le score du joueur A et le score du joueur B. Cette fonction doit retourner 1 si le joueur A a gagné la partie, -1 si le joueur B a gagné la partie et 0 si la partie n'est pas terminée."
   ]
  },
  {
   "cell_type": "code",
   "execution_count": null,
   "metadata": {},
   "outputs": [],
   "source": [
    "#-------------------------#\n",
    "#    Écrire le code ici   #\n",
    "#-------------------------#\n",
    "\n",
    "\n"
   ]
  },
  {
   "cell_type": "markdown",
   "metadata": {},
   "source": [
    "#### Question 2\n",
    "\n",
    "Ecrire une boucle qui simule le déroulement de la totalité (jusqu'à ce que l'un des deux joueurs ait gagné) d'une partie en comptant les points 1, 2, 3, 4, ... On stockera les points du\n",
    "joueur A dans une variable `pointA` et ceux du joueur B dans une variable `pointB`. Cette boucle pourra, pour déterminer si la parti doit continuer utiliser la fonction `gagne` définie à la\n",
    "question précédente, même si aucune réponse ou une réponse fausse  été donnée à cette question.\n",
    "\n",
    "**N.B.** : On n'oubliera pas d'importer la ou les bibliothèques utilisées dans le programme."
   ]
  },
  {
   "cell_type": "code",
   "execution_count": null,
   "metadata": {},
   "outputs": [],
   "source": [
    "#-------------------------#\n",
    "#    Écrire le code ici   #\n",
    "#-------------------------#\n",
    "\n",
    "\n"
   ]
  },
  {
   "cell_type": "markdown",
   "metadata": {
    "deletable": false,
    "editable": false,
    "run_control": {
     "frozen": true
    }
   },
   "source": [
    "#### Question 3\n",
    "\n",
    "Ecrire les instructions permettant d'afficher,  quand on connaît les valeurs de `pointA` et `pointB`, qui  du joueur A ou du joueur B a gagné la partie ou si la partie n'est pas terminée. \n",
    "\n",
    "On pourra à nouveau utiliser la fonction `gagne` pour savoir à quel stade la partie en est (Y a-t-il un gagnant ou la partie continue-t-elle ? S'il y a un gagnant lequel des deux joueurs est-ce ?)."
   ]
  },
  {
   "cell_type": "code",
   "execution_count": null,
   "metadata": {},
   "outputs": [],
   "source": [
    "#-------------------------#\n",
    "#    Écrire le code ici   #\n",
    "#-------------------------#\n",
    "\n",
    "\n"
   ]
  },
  {
   "cell_type": "markdown",
   "metadata": {
    "deletable": false,
    "editable": false,
    "run_control": {
     "frozen": true
    }
   },
   "source": [
    "### Nombres d'Armstrong \n",
    "\n",
    "Un [nombre d'Armstrong](https://fr.wikipedia.org/wiki/Nombre_narcissique) est un nombre égal à la somme de ses chiffres élevés à la puissance le nombre de ses chiffres.\n",
    "\n",
    "- 9 est un nombre d'Armstrong car `9 = 9^1 = 9`\n",
    "- 10  n'est pas un nombre d'Armstrong car  `10 != 1^2 + 0^2 = 1`\n",
    "- 153 est un nombre d'Armstrong `153 = 1^3 + 5^3 + 3^3 = 1 + 125 + 27 = 153`\n",
    "- 154 n'est pas un nombre d'Armstrong car `154 != 1^3 + 5^3 + 4^3 = 1 + 125 + 64 = 190`\n",
    "\n",
    "**NB :** L'instruction `ceil(log(x,10))` permet de connaître le nombre de chiffres de l'écriture en base 10 d'un nombre strictement positif `x`.\n",
    "\n",
    "Définir la fonction `is_armstrong_number` prenant en paramètre un entier et retournant `True` si ce dernier est un chiffre, et `False` sinon."
   ]
  },
  {
   "cell_type": "markdown",
   "metadata": {
    "deletable": false,
    "editable": false,
    "run_control": {
     "frozen": true
    }
   },
   "source": [
    "- L'appel de la fonction `is_armstrong_number` avec la valeur 0 doit retourner `True`.\n",
    "- L'appel de la fonction `is_armstrong_number` avec la valeur 153 doit retourner `True`.\n",
    "- L'appel de la fonction `is_armstrong_number` avec la valeur 154 doit retourner `False`.\n",
    "\n",
    "Vous vérifierez la correction de votre fonction grâce aux tests unitaires fournis."
   ]
  },
  {
   "cell_type": "code",
   "execution_count": null,
   "metadata": {},
   "outputs": [],
   "source": [
    "#-------------------------#\n",
    "#    Écrire le code ici   #\n",
    "#-------------------------#\n",
    "\n",
    "\n"
   ]
  },
  {
   "cell_type": "code",
   "execution_count": null,
   "metadata": {
    "deletable": false,
    "editable": false
   },
   "outputs": [],
   "source": [
    "########################\n",
    "# Tests unitaires     #\n",
    "#######################\n",
    "\n",
    "def test_is_armstrong_number():\n",
    "    assert is_armstrong_number(0)\n",
    "    assert is_armstrong_number(5)\n",
    "    assert not is_armstrong_number(10)\n",
    "    assert is_armstrong_number(153)\n",
    "    assert is_armstrong_number(9474)\n",
    "    assert not is_armstrong_number(9475)\n",
    "    assert is_armstrong_number(9926315)\n",
    "    assert not is_armstrong_number(9926314)\n",
    "    print(\"Test de la fonction is_armstrong_number : ok\")\n",
    "    \n",
    "test_is_armstrong_number()"
   ]
  },
  {
   "cell_type": "markdown",
   "metadata": {
    "deletable": false,
    "editable": false,
    "run_control": {
     "frozen": true
    }
   },
   "source": [
    "### Différences de carrés \n",
    "\n",
    "Définir la fonction `difference_carres` prenant en paramètre un entier naturel `N` calculant la différence entre le carré de la somme et la somme des carrés des `N` premiers entiers naturels.\n",
    "\n",
    "Le carré de la somme des 10 premiers entiers naturels est :\n",
    "$$(1 + 2 + ... + 10)² = 55² = 3025.$$\n",
    "\n",
    "La somme des carrés des 10 premiers entiers naturels est :\n",
    "\n",
    "$$1² + 2² + ... + 10² = 385.$$\n",
    "\n",
    "La différence entre le carré de la somme des 10 premiers entiers naturels et la somme des carrés des 10 premiers entiers naturels est $3025 - 385 = 2640$."
   ]
  },
  {
   "cell_type": "markdown",
   "metadata": {
    "deletable": false,
    "editable": false,
    "run_control": {
     "frozen": true
    }
   },
   "source": [
    "- L'appel de la fonction `difference_carres` avec la valeur 3 doit retourner 22.\n",
    "- L'appel de la fonction `difference_carres` avec la valeur 5 doit retourner 170.\n",
    "\n",
    "Vous vérifierez la correction de votre fonction grâce aux tests unitaires fournis."
   ]
  },
  {
   "cell_type": "code",
   "execution_count": null,
   "metadata": {},
   "outputs": [],
   "source": [
    "#-------------------------#\n",
    "#    Écrire le code ici   #\n",
    "#-------------------------#\n",
    "\n",
    "\n"
   ]
  },
  {
   "cell_type": "code",
   "execution_count": null,
   "metadata": {
    "deletable": false,
    "editable": false
   },
   "outputs": [],
   "source": [
    "########################\n",
    "# Tests unitaires     #\n",
    "#######################\n",
    "def test_difference_carres():\n",
    "    assert difference_carres(1) == 0\n",
    "    assert difference_carres(3) == 22\n",
    "    assert difference_carres(5) == 170\n",
    "    assert difference_carres(100) == 25164150\n",
    "    print(\"Test de la fonction difference_carres : ok\")\n",
    "\n",
    "test_difference_carres()"
   ]
  },
  {
   "cell_type": "markdown",
   "metadata": {
    "deletable": false,
    "editable": false,
    "run_control": {
     "frozen": true
    }
   },
   "source": [
    "### Nombre parfait\n",
    "\n",
    "Un entier naturel est *parfait* s'il est égal à la somme de ses diviseurs stricts (ie, différents de lui-même). Par exemple, 28 est parfait car ses diviseurs stricts sont : 1, 2, 4, 7 et 14. Leur somme est égale à 28.\n",
    "\n",
    "Définir une fonction `parfait` prenant en paramètre un entier naturel et retournant `True` si ce dernier est parfait, et `False` sinon."
   ]
  },
  {
   "cell_type": "code",
   "execution_count": null,
   "metadata": {},
   "outputs": [],
   "source": [
    "#-------------------------#\n",
    "#    Écrire le code ici   #\n",
    "#-------------------------#\n",
    "\n",
    "\n"
   ]
  },
  {
   "cell_type": "code",
   "execution_count": null,
   "metadata": {
    "deletable": false,
    "editable": false
   },
   "outputs": [],
   "source": [
    "#######################\n",
    "# Tests unitaires     #\n",
    "#######################\n",
    "def test_parfait():\n",
    "    assert parfait(6)\n",
    "    assert not parfait(7)\n",
    "    assert parfait(28)\n",
    "    assert parfait(33550336)\n",
    "    assert not parfait(3453234)\n",
    "    print(\"Test de la fonction parfait : ok\")\n",
    "test_parfait()"
   ]
  }
 ],
 "metadata": {
  "kernelspec": {
   "display_name": "Python 3",
   "language": "python",
   "name": "python3"
  },
  "language_info": {
   "codemirror_mode": {
    "name": "ipython",
    "version": 3
   },
   "file_extension": ".py",
   "mimetype": "text/x-python",
   "name": "python",
   "nbconvert_exporter": "python",
   "pygments_lexer": "ipython3",
   "version": "3.7.4"
  },
  "latex_envs": {
   "LaTeX_envs_menu_present": true,
   "autoclose": false,
   "autocomplete": true,
   "bibliofile": "biblio.bib",
   "cite_by": "apalike",
   "current_citInitial": 1,
   "eqLabelWithNumbers": true,
   "eqNumInitial": 1,
   "hotkeys": {
    "equation": "Ctrl-E",
    "itemize": "Ctrl-I"
   },
   "labels_anchors": false,
   "latex_user_defs": false,
   "report_style_numbering": false,
   "user_envs_cfg": false
  }
 },
 "nbformat": 4,
 "nbformat_minor": 2
}
