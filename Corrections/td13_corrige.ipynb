{
 "cells": [
  {
   "cell_type": "markdown",
   "metadata": {
    "deletable": false,
    "editable": false,
    "run_control": {
     "frozen": true
    }
   },
   "source": [
    "# <center>Chapitre 13 : Chaînes de caractères -TD Corrigé</center>"
   ]
  },
  {
   "cell_type": "markdown",
   "metadata": {
    "deletable": false,
    "editable": false,
    "solution2": "hidden",
    "solution2_first": true
   },
   "source": [
    "### Exercice 1 : Insertions de symboles * \n",
    "\n",
    "- Ecrire une fonction qui prend une chaîne en paramètre et qui renvoie une chaîne dans laquelle ont été insérées des tirets bas (`_`) entre chaque lettre de la chaîne d'origine.\n",
    "Par exemple, si on lui passe la chaîne `bonjour`, la fonction retourne la chaîne `b_o_n_j_o_u_r`.\n",
    "\n",
    "- Ecrire une fonction de tests unitaires permettant de vérifier que la fonction fait ce qui est attendu."
   ]
  },
  {
   "cell_type": "code",
   "execution_count": null,
   "metadata": {
    "deletable": false,
    "editable": false,
    "solution2": "hidden"
   },
   "outputs": [],
   "source": [
    "#------------------------------#\n",
    "#    CORRECTION  ! ! ! ! ! !   #\n",
    "#------------------------------#\n",
    "def tiret(s) :\n",
    "    stiret=''\n",
    "    i=0\n",
    "    while i < len(s) :\n",
    "        stiret+= s[i]\n",
    "        if i<len(s)-1 :\n",
    "            stiret += '_'\n",
    "        i=i+1\n",
    "    return stiret\n",
    "\n",
    "#----------------------------------#\n",
    "# Tests unitaires                  #\n",
    "#----------------------------------#\n",
    "def test_tiret():\n",
    "    assert tiret('bonjour') == 'b_o_n_j_o_u_r'\n",
    "    print(\"Test de la fonction tiret : ok\")\n",
    "\n",
    "test_tiret()"
   ]
  },
  {
   "cell_type": "markdown",
   "metadata": {
    "deletable": false,
    "editable": false,
    "run_control": {
     "frozen": true
    },
    "solution2": "hidden",
    "solution2_first": true
   },
   "source": [
    "### Exercice 2 : Enumeration dans une phrase*\n",
    "\n",
    "#### Question 1 : Nombre de mots\n",
    "- Définir une fonction `compteMots(phrase)` qui renvoie le\n",
    "nombre de mots contenus dans la phrase `phrase` (une phrase est un\n",
    "chaîne de caractères qui contient éventuellement des espaces). <br> \n",
    "On considère comme mots les ensembles de caractères inclus entre des espaces. On suppose qu'il n'y a jamais deux espaces consécutifs.\n",
    "\n",
    "- Ecrire une fonction de tests unitaires permettant de vérifier que la fonction fait ce qui est attendu."
   ]
  },
  {
   "cell_type": "code",
   "execution_count": null,
   "metadata": {
    "solution2": "hidden"
   },
   "outputs": [],
   "source": [
    "#------------------------------#\n",
    "#    CORRECTION  ! ! ! ! ! !   #\n",
    "#------------------------------#\n",
    "def compteMots(phrase):\n",
    "    #comptage du nombre de mots dans la phrase phrase \n",
    "    if len(phrase) ==0:\n",
    "        return 0 \n",
    "    \n",
    "    phrase=phrase.strip() \n",
    "    # Pour enlever les espaces au début et à la fin \n",
    "    nm = 1\n",
    "    i=0\n",
    "    while i < len(phrase):\n",
    "        if phrase[i] == \" \": \n",
    "            nm = nm + 1\n",
    "        i+=1\n",
    "    return nm\n",
    "\n",
    "#plus simple\n",
    "def compteMots1(phrase):\n",
    "    return len(phrase.split())\n",
    "\n",
    "# ------------  TEST/EXEMPLE ---------- #\n",
    "def test_compteMots():\n",
    "    assert compteMots(\"il était une fois\")== 4\n",
    "    assert compteMots(\"je suis étudiant à Villetaneuse\")==5\n",
    "    print(\"test ok\")\n",
    "    \n",
    "test_compteMots()"
   ]
  },
  {
   "cell_type": "markdown",
   "metadata": {
    "deletable": false,
    "editable": false,
    "run_control": {
     "frozen": true
    },
    "solution2": "hidden",
    "solution2_first": true
   },
   "source": [
    "#### Question 2 :  Test des majuscules\n",
    "- Ecrire une fonction `estUneMaj()` qui renvoie `True` si l'argument transmis est une majuscule et `False` dans le cas contraire.  On ne tiendra pas compte des majuscules accentuées.\n",
    "- Ecrire une fonction de tests unitaires permettant de vérifier que la fonction fait ce qui est attendu."
   ]
  },
  {
   "cell_type": "code",
   "execution_count": null,
   "metadata": {
    "deletable": false,
    "editable": false,
    "solution2": "hidden"
   },
   "outputs": [],
   "source": [
    "#------------------------------#\n",
    "#    CORRECTION  ! ! ! ! ! !   #\n",
    "#------------------------------#\n",
    "def estUneMaj(car):\n",
    "    #renvoie True si le caractère car est une majuscule\" \n",
    "     return car >= 'A' and car <='Z'\n",
    "    \n",
    "# ------------  TEST/EXEMPLE ---------- #\n",
    "def test_estUneMaj():\n",
    "    assert estUneMaj('K')==True\n",
    "    assert estUneMaj('k')==False\n",
    "    assert estUneMaj('1')==False\n",
    "    assert estUneMaj(' ')==False\n",
    "    print(\"test ok\")\n",
    "    \n",
    "test_estUneMaj()"
   ]
  },
  {
   "cell_type": "markdown",
   "metadata": {
    "deletable": false,
    "editable": false,
    "run_control": {
     "frozen": true
    },
    "solution2": "hidden",
    "solution2_first": true
   },
   "source": [
    "#### Question 3 : Décomposition d'une phrase en mots\n",
    "- Ecrire une fonction qui prend en paramètre une chaîne de caractères et retourne un tableau formé des mots de phrases (*i.e.*, des suites de caractères séparés par un espace)\n",
    "- Ecrire une fonction de tests unitaires permettant de verifier que la fonction fait ce qui est attendu."
   ]
  },
  {
   "cell_type": "code",
   "execution_count": 11,
   "metadata": {
    "solution2": "hidden"
   },
   "outputs": [],
   "source": [
    "#------------------------------#\n",
    "#    CORRECTION  ! ! ! ! ! !   #\n",
    "#------------------------------#\n",
    "def chaineTableau1(ch):\n",
    "    #convertit la chaine ch en une liste de mots\"\n",
    "    liste =[]\n",
    "    ct =''\n",
    "    i=0\n",
    "    while i<len(ch):\n",
    "        if ch[i] == \" \":\n",
    "            liste+=[ct]\n",
    "            ct = \"\"\n",
    "        else:\n",
    "            ct = ct + ch[i]\n",
    "        i+=1\n",
    "     # Ne pas oublier le mot restant après le dernier espace ! :\n",
    "    if ct!='': # vérifier si ct n'est pas une chaine vide\n",
    "        liste+=[ct]\n",
    "    return liste\n",
    "\n",
    "# plus simple\n",
    "def chaineTableau(chaine):\n",
    "    return chaine.split()"
   ]
  },
  {
   "cell_type": "code",
   "execution_count": 12,
   "metadata": {
    "deletable": false,
    "editable": false,
    "solution2": "hidden"
   },
   "outputs": [
    {
     "name": "stdout",
     "output_type": "stream",
     "text": [
      "test ok\n"
     ]
    }
   ],
   "source": [
    "# ------------  TEST/EXEMPLE ---------- #\n",
    "def test_chaineTableau():\n",
    "    assert chaineTableau(\"il était une fois\")== ['il','était','une','fois']\n",
    "    assert chaineTableau(\"je suis étudiant à Villetaneuse\")==['je','suis','étudiant','à','Villetaneuse']\n",
    "    print(\"test ok\")\n",
    "test_chaineTableau()"
   ]
  },
  {
   "cell_type": "markdown",
   "metadata": {
    "deletable": false,
    "editable": false,
    "run_control": {
     "frozen": true
    },
    "solution2": "hidden",
    "solution2_first": true
   },
   "source": [
    "#### Question 4 : Nombre de mots commençant par une majuscule\n",
    "- En utilisant les fonctions précédemment définies, écrire une fonction `compteMaj()` qui renvoie le nombre de mots commençant par majuscule dans une phrase passée  en argument.\n",
    "- Ecrire une fonction de tests unitaires permettant de vérifier que cette fonction satisfait les spécifications indiquées."
   ]
  },
  {
   "cell_type": "code",
   "execution_count": null,
   "metadata": {
    "deletable": false,
    "editable": false,
    "solution2": "hidden"
   },
   "outputs": [],
   "source": [
    "#------------------------------#\n",
    "#    CORRECTION  ! ! ! ! ! !   #\n",
    "#------------------------------#\n",
    "def compteMaj(ch):\n",
    "    #comptage des mots débutant par une majuscule dans la chaine ch\"\n",
    "    c= 0\n",
    "    lst = chaineTableau(ch) \n",
    "    i=0\n",
    "    while i< len(lst):\n",
    "        mot=lst[i]\n",
    "        if estUneMaj(mot[0]):\n",
    "            c = c +1\n",
    "        i+=1\n",
    "    return c\n",
    "\n",
    "# ------------  TEST/EXEMPLE ---------- #\n",
    "def test_compteMaj():\n",
    "    assert compteMaj('World Wildlife Fund')==3\n",
    "    assert compteMaj('Il était une fois')==1\n",
    "    assert compteMaj('12355')==0\n",
    "    assert compteMaj('')==0\n",
    "    print(\"test ok\")\n",
    "    \n",
    "test_compteMaj()"
   ]
  },
  {
   "cell_type": "markdown",
   "metadata": {
    "deletable": false,
    "editable": false,
    "run_control": {
     "frozen": true
    },
    "solution2": "hidden",
    "solution2_first": true
   },
   "source": [
    "#### Question 5 : Proportion de mots commençant par une majuscule\n",
    "- En utilisant les fonctions précédemment définies, écrire une\n",
    "fonction `proportionMaj()}` qui affiche la proportion de mots commençant par une majuscule parmi tous les mots d'une phrase. \n",
    "- Ecrire une fonction de tests unitaires permettant de vérifier que cette fonction satisfait les spécifications indiquées."
   ]
  },
  {
   "cell_type": "code",
   "execution_count": null,
   "metadata": {
    "deletable": false,
    "editable": false,
    "solution2": "hidden"
   },
   "outputs": [],
   "source": [
    "#------------------------------#\n",
    "#    CORRECTION  ! ! ! ! ! !   #\n",
    "#------------------------------#\n",
    "def proportionMaj(ch):\n",
    "    nbmajs=compteMaj(ch)\n",
    "    nbmots= compteMots(ch)\n",
    "    res=nbmajs*100.0/nbmots\n",
    "    return res\n",
    "\n",
    "# ------------  TEST/EXEMPLE ---------- #\n",
    "def test_proportionMaj():\n",
    "    assert proportionMaj('World Wildlife Fund')==100\n",
    "    assert proportionMaj('Il était une fois')== 25\n",
    "    assert proportionMaj('12355')==0\n",
    "    print(\"test ok\")\n",
    "    \n",
    "test_proportionMaj()"
   ]
  },
  {
   "cell_type": "markdown",
   "metadata": {
    "deletable": false,
    "editable": false,
    "run_control": {
     "frozen": true
    },
    "solution2": "shown",
    "solution2_first": true
   },
   "source": [
    "#### Question 6 : Somme des longueurs des mots \n",
    "- En utilisant les fonctions précédemment définies, écrire une fonction `longueurMots()` qui renvoie la somme des longueurs des mots d'une phrase passée en argument.\n",
    "- Ecrire une fonction de tests unitaires permettant de vérifier que cette fonction satisfait les spécifications indiquées."
   ]
  },
  {
   "cell_type": "code",
   "execution_count": null,
   "metadata": {
    "deletable": false,
    "editable": false,
    "solution2": "shown"
   },
   "outputs": [],
   "source": [
    "#------------------------------#\n",
    "#    CORRECTION  ! ! ! ! ! !   #\n",
    "#------------------------------#\n",
    "def longueurMots(ch):\n",
    "    somme= 0\n",
    "    lst = chaineTableau(ch) \n",
    "    i=0\n",
    "    while i<len(lst):\n",
    "        somme+= len(lst[i])\n",
    "        i+=1\n",
    "    return somme\n",
    "\n",
    "# ------------  TEST/EXEMPLE ---------- #\n",
    "def test_longueurMots():\n",
    "    assert longueurMots(\"il était une fois\")== 14\n",
    "    assert longueurMots(\"je suis étudiant à Villetaneuse\")==27\n",
    "    print(\"test ok\")\n",
    "    \n",
    "test_longueurMots()"
   ]
  },
  {
   "cell_type": "markdown",
   "metadata": {
    "deletable": false,
    "editable": false,
    "run_control": {
     "frozen": true
    },
    "solution2": "hidden",
    "solution2_first": true
   },
   "source": [
    "#### Question 7 : Longueur moyenne des mots \n",
    "\n",
    "- En utilisant les fonctions précédemment définies, écrire une\n",
    "fonction `longueurMoy()` qui retourne la longueur moyenne des mots d'une phrase passée en argument.\n",
    "- Ecrire une fonction de tests unitaires permettant de vérifier que cette fonction satisfait les spécifications indiquées."
   ]
  },
  {
   "cell_type": "code",
   "execution_count": null,
   "metadata": {
    "deletable": false,
    "editable": false,
    "solution2": "hidden"
   },
   "outputs": [],
   "source": [
    "#------------------------------#\n",
    "#    CORRECTION  ! ! ! ! ! !   #\n",
    "#------------------------------#\n",
    "def longueurMoy(ch):\n",
    "    lgmots=longueurMots(ch)\n",
    "    nbmots= compteMots(ch)\n",
    "    res=float(lgmots)/nbmots\n",
    "    return res\n",
    "\n",
    "# ------------  TEST/EXEMPLE ---------- #\n",
    "from math import *\n",
    "\n",
    "def test_longueurMoy():\n",
    "    assert isclose(longueurMoy(\"il était une fois\"),14/4)\n",
    "    assert isclose(longueurMoy(\"je suis étudiant à Villetaneuse\"),27/5)\n",
    "    print(\"test ok\")\n",
    "    \n",
    "test_longueurMoy()"
   ]
  },
  {
   "cell_type": "markdown",
   "metadata": {
    "deletable": false,
    "editable": false,
    "run_control": {
     "frozen": true
    },
    "solution2": "hidden",
    "solution2_first": true
   },
   "source": [
    "#### Question 8 : Programme principal \n",
    "\n",
    "- Ecrire un programme qui permet la saisie d'une phrase, affiche la proportion de mots commençant par une majuscule ainsi que  la longueur moyenne des mots de la phrase.  "
   ]
  },
  {
   "cell_type": "code",
   "execution_count": null,
   "metadata": {
    "deletable": false,
    "editable": false,
    "solution2": "hidden"
   },
   "outputs": [],
   "source": [
    "#------------------------------#\n",
    "#    CORRECTION  ! ! ! ! ! !   #\n",
    "#------------------------------#\n",
    "phrase=input('Phrase ?') \n",
    "proportionMaj(phrase)\n",
    "print('la longueur moyenne des mots de la phrase est ', longueurMoy(phrase))"
   ]
  }
 ],
 "metadata": {
  "kernelspec": {
   "display_name": "Python 3",
   "language": "python",
   "name": "python3"
  },
  "language_info": {
   "codemirror_mode": {
    "name": "ipython",
    "version": 3
   },
   "file_extension": ".py",
   "mimetype": "text/x-python",
   "name": "python",
   "nbconvert_exporter": "python",
   "pygments_lexer": "ipython3",
   "version": "3.7.4"
  },
  "latex_envs": {
   "LaTeX_envs_menu_present": true,
   "autoclose": false,
   "autocomplete": true,
   "bibliofile": "biblio.bib",
   "cite_by": "apalike",
   "current_citInitial": 1,
   "eqLabelWithNumbers": true,
   "eqNumInitial": 1,
   "hotkeys": {
    "equation": "Ctrl-E",
    "itemize": "Ctrl-I"
   },
   "labels_anchors": false,
   "latex_user_defs": false,
   "report_style_numbering": false,
   "user_envs_cfg": false
  },
  "toc": {
   "base_numbering": 1,
   "nav_menu": {},
   "number_sections": true,
   "sideBar": true,
   "skip_h1_title": false,
   "title_cell": "Table of Contents",
   "title_sidebar": "Contents",
   "toc_cell": false,
   "toc_position": {},
   "toc_section_display": true,
   "toc_window_display": false
  }
 },
 "nbformat": 4,
 "nbformat_minor": 2
}
