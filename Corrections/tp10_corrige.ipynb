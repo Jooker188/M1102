{
 "cells": [
  {
   "cell_type": "markdown",
   "metadata": {
    "deletable": false,
    "editable": false,
    "run_control": {
     "frozen": true
    }
   },
   "source": [
    "# <center> Chapitre 10 : Dictionnaires - TP Corrigé </center>"
   ]
  },
  {
   "cell_type": "markdown",
   "metadata": {
    "deletable": false,
    "editable": false,
    "run_control": {
     "frozen": true
    }
   },
   "source": [
    "### Exercice 1 :  Dictionnaire français-anglais *"
   ]
  },
  {
   "cell_type": "markdown",
   "metadata": {
    "deletable": false,
    "editable": false,
    "run_control": {
     "frozen": true
    }
   },
   "source": [
    "#### Question 1  : Création d'un dictionnaire\n",
    "\n",
    "Choisir 5 mots de la langue française et créer un dictionnaire qui associe à chacun de ces mots\n",
    "sa traduction en anglais.\n",
    "Ajouter une entrée au dictionnaire  (un nouveau mot et sa définition)."
   ]
  },
  {
   "cell_type": "code",
   "execution_count": null,
   "metadata": {
    "deletable": false,
    "editable": false
   },
   "outputs": [],
   "source": [
    "#------------------------------#\n",
    "#    CORRECTION  ! ! ! ! ! !   #\n",
    "#------------------------------#\n",
    "print(\"\\n Définition du dictionnaire \\n\")\n",
    "dic={\"chat\":\"cat\",\"chien\":\"dog\",\"vache\":\"cow\",\"tigre\":\"tiger\",\"licorne\":\"unicorn\"}\n",
    "print(dic)\n",
    "print(\"\\n Ajout de souris \\n\")\n",
    "dic [\"souris\"] =\"mouse\"\n",
    "print(dic)"
   ]
  },
  {
   "cell_type": "markdown",
   "metadata": {
    "deletable": false,
    "editable": false,
    "run_control": {
     "frozen": true
    }
   },
   "source": [
    "#### Question 2  : Fonction d'ajout \n",
    "Écrire une fonction `ajoute(mot1, mot2, dico)` qui prend en paramètre un mot en français, sa traduction\n",
    "en anglais et ajoute ces deux mots dans le dictionnaire `dico` uniquement si `mot1` n’est pas déjà une clé\n",
    "du dictionnaire.\n",
    "\n",
    "Tester cette fonction avec des valeurs judicieusement choisies."
   ]
  },
  {
   "cell_type": "code",
   "execution_count": null,
   "metadata": {
    "deletable": false,
    "editable": false
   },
   "outputs": [],
   "source": [
    "#------------------------------#\n",
    "#    CORRECTION  ! ! ! ! ! !   #\n",
    "#------------------------------#\n",
    "def ajoute (mot1 , mot2 , dico):\n",
    "    clefs=list(dico)\n",
    "    i=0\n",
    "    while i<len(clefs) and mot1!=clefs[i]:\n",
    "        i+=1\n",
    "    if i==len(clefs): \n",
    "        dico[mot1] = mot2\n",
    "\n",
    "print(\"\\n Ajout de dragon \\n\")\n",
    "ajoute(\"dragon\",\"dragon\", dic)\n",
    "print(dic)\n",
    "print(\"\\n Second ajout de dragon \\n\")\n",
    "ajoute(\"dragon\",\"smaug\", dic)\n",
    "print(dic)"
   ]
  },
  {
   "cell_type": "markdown",
   "metadata": {
    "deletable": false,
    "editable": false,
    "run_control": {
     "frozen": true
    }
   },
   "source": [
    "#### Question 3  : Affichage des valeurs\n",
    "Écrire une fonction qui affiche à l’écran toutes les valeurs correspondant aux clés qui sont dans\n",
    "votre dictionnaire  et l'utiliser pour réaliser l'affichage des mots anglais du dictionnaire qui a été crée."
   ]
  },
  {
   "cell_type": "code",
   "execution_count": null,
   "metadata": {
    "deletable": false,
    "editable": false
   },
   "outputs": [],
   "source": [
    "#------------------------------#\n",
    "#    CORRECTION  ! ! ! ! ! !   #\n",
    "#------------------------------#\n",
    "def valeurs_sol1 (dico):\n",
    "    clefs = list(dico)\n",
    "    i=0\n",
    "    while i< len(clefs) :\n",
    "        clef=clefs[i]\n",
    "        print (dico[clef])\n",
    "        i+=1\n",
    "        \n",
    "def valeurs_sol2 (dico):\n",
    "    valeurs= list(dico.values())\n",
    "    i=0\n",
    "    while i< len(valeurs) :\n",
    "        print(valeurs[i])\n",
    "        i+=1\n",
    "             \n",
    "def valeurs_sol3 (dico):\n",
    "    valeurs = list(dico.values())\n",
    "    print(valeurs)\n",
    "\n",
    "print (\"\\n Solution 1 \\n\")\n",
    "valeurs_sol1 (dic)\n",
    "print (\"\\n Solution 2 \\n\")\n",
    "valeurs_sol2 (dic)\n",
    "print (\"\\n Solution 3 \\n\")\n",
    "valeurs_sol3 (dic)"
   ]
  },
  {
   "cell_type": "markdown",
   "metadata": {
    "deletable": false,
    "editable": false,
    "run_control": {
     "frozen": true
    }
   },
   "source": [
    "#### Question 4 : Suppression d'entrées du dictionnaire\n",
    "Écrire une fonction `supprime(car, dico)` qui prend en paramètre un caractère `car` et un dictionnaire\n",
    "`dico` et supprime du dictionnaire toutes les entrées correspondant à des clés qui commencent par la\n",
    "lettre `car`.\n",
    "\n",
    "Tester cette fonction sur le dictionnaire."
   ]
  },
  {
   "cell_type": "code",
   "execution_count": null,
   "metadata": {
    "deletable": false,
    "editable": false
   },
   "outputs": [],
   "source": [
    "#------------------------------#\n",
    "#    CORRECTION  ! ! ! ! ! !   #\n",
    "#------------------------------#\n",
    "#suppression d'élément du dictionnaire\n",
    "def supprime1 (car , dico ) :\n",
    "    clefs=list(dico)\n",
    "    i=0\n",
    "    while i<len(clefs) :\n",
    "        clef=clefs[i]\n",
    "        if clef[0] == car :\n",
    "            del(dico[clef])\n",
    "        i+=1\n",
    "\n",
    "#creation d'un nouveau dictionnaire \n",
    "def supprime2 (car,dico) :\n",
    "    new_dict = {}\n",
    "    clefs=list(dico)\n",
    "    i=0\n",
    "    while i<len(clefs) :\n",
    "        clef=clefs[i]\n",
    "        if clef[0] != car :\n",
    "            new_dict[clef] = dico[clef]\n",
    "        i+=1\n",
    "    return new_dict\n",
    "\n",
    "\n",
    "print (\"\\nSuppression d'éléments\\n\")\n",
    "supprime1 (\"c\",dic)\n",
    "print(dic)\n",
    "dic2= supprime2 (\"v\",dic)\n",
    "print(dic2)"
   ]
  },
  {
   "cell_type": "markdown",
   "metadata": {
    "deletable": false,
    "editable": false,
    "run_control": {
     "frozen": true
    }
   },
   "source": [
    "### Exercice 2 : Codage de Morse*"
   ]
  },
  {
   "cell_type": "markdown",
   "metadata": {
    "deletable": false,
    "editable": false,
    "run_control": {
     "frozen": true
    }
   },
   "source": [
    "Le Morse est un schéma de codage qui utilise des tirets et des points pour représenter les chiffres et les lettres. \n",
    "\n",
    "Le dictionnaire ci-dessous donne la correspondance entre les lettres et les chiffres, les tirets et les points. "
   ]
  },
  {
   "cell_type": "code",
   "execution_count": null,
   "metadata": {
    "deletable": false,
    "editable": false
   },
   "outputs": [],
   "source": [
    "morse_code_dict = {'A':'.-'   , 'B':'-...' , 'C':'-.-.' , 'D':'-..'  , 'E':'.'    , 'F':'..-.' , 'G':'--.'  , \n",
    "                   'H':'....' , 'I':'..'   , 'J':'.---' , 'K':'-.-'  , 'L':'.-..' , 'M':'--'   , 'N':'-.'   , \n",
    "                   'O':'---'  , 'P':'.--.' , 'Q':'--.-' , 'R':'.-.'  , 'S':'...'  , 'T':'-'    , 'U':'..-'  , \n",
    "                   'V':'...-' , 'W':'.--'  , 'X':'-..-' , 'Y':'-.--' , 'Z':'--..' , '0':'-----', '1':'.----', \n",
    "                   '2':'..---', '3':'...--', '4':'....-', '5':'.....', '6':'-....', '7':'--...', '8':'---..', \n",
    "                   '9':'----.'}"
   ]
  },
  {
   "cell_type": "markdown",
   "metadata": {
    "deletable": false,
    "editable": false,
    "run_control": {
     "frozen": true
    }
   },
   "source": [
    "Ecrire une fonction `morse` qui prend en paramètre une chaîne de caractères `texte` \n",
    "- transforme les minuscules de cette chaîne en majuscules \n",
    "- traduit chaque lettre et chaque chiffre du texte en code Morse, en laissant un espace entre chaque suite de tirets et de points. \n",
    "- ne tient pas compte des caractères non-alphanumériques\n",
    "- et retourne la chaîne codée. \n",
    "\n",
    "Utiliser cette fonction pour coder en Morse `Hello world !`.\n",
    "\n",
    "**Rappel** : \n",
    "\n",
    "- La méthode `chaine.upper()` retourne la chaine de caractères obtenue à partir de `chaine`en remplaçant les lettres minuscules par des lettres majuscules.\n",
    "- La méthode `chaine.isalnum()` retoune `True` si tous les caractères de `chaine`sont alphanumériques (lettres ou chiffres) et qu'il y a au moins un caractère et `False` dans le cas contraire."
   ]
  },
  {
   "cell_type": "code",
   "execution_count": null,
   "metadata": {
    "deletable": false,
    "editable": false
   },
   "outputs": [],
   "source": [
    "#------------------------------#\n",
    "#    CORRECTION  ! ! ! ! ! !   #\n",
    "#------------------------------#\n",
    "def morse(texte):\n",
    "    # passage de minuscules en majuscules\n",
    "    Texte=texte.upper()\n",
    "    code=\"\"\n",
    "    i=0\n",
    "    while i< len(Texte):\n",
    "        if Texte[i].isalnum() :\n",
    "            code+= morse_code_dict[Texte[i]]+' '\n",
    "        i+=1\n",
    "    return code\n",
    "            \n",
    "print(morse(\"Hello world !\"))\n"
   ]
  },
  {
   "cell_type": "markdown",
   "metadata": {
    "deletable": false,
    "editable": false,
    "run_control": {
     "frozen": true
    }
   },
   "source": [
    "### Exercice 3 : Compétition de patinage artistique **\n",
    "Le but de cet exercice est de gérer les notes moyennes reçues par les participants à une compétition de patinage artistique. L'objectif est de saisir toutes les données de chaque patineur et de déterminer qui est le gagnant (on suppose qu'il y en a un seul). Dans la suite, chaque patineur sera codé sous la forme d'un dictionnaire contenant un nom, une année de naissance et une moyenne.\n",
    "\n",
    "#### Question 1 : Saisie des données d'un patineur \n",
    "On stocke donc les informations pour chaque patineur dans un dictionnaire qui contient trois couples clé-valeur :\n",
    "- La première clé est le `'nom'` du patineur, c'est une chaîne de caractères.\n",
    "- La deuxième clé est l'`'année_naissance'`, c'est un entier.\n",
    "- La troisème clé est la `'moyenne'` qui est flottant aléatoire compris entre 0 et 5.\n",
    "On ne vérifiera pas la validité de la valeur du nom et de l'année de naissance au moment de la saisie, mais on n'oubliera pas de caster les valeurs saisies. La moyenne sera un flottant entre 0 et 5 tiré au hasard. On pensera à importer des fonctions utiles si nécessaire. \n",
    "\n",
    "Un exemple d'un tel dictionnaire est le suivant :\n",
    "```python\n",
    "{'nom': 'Candeloro', 'année_naissance': 1972, 'moyenne': 1.4478}\n",
    "```\n",
    "Écrire une fonction `saisie_patineur()` qui effectue la saisie des données fournies par l'utilisateur pour le nom et l'année de naissance et qui choisit aléatoirement un nombre flottant entre 0 et 5. La fonction retourne un patineur (dictionnaire) avec les infos saisies et choisie aléatoirement.\n",
    "\n",
    "**N.B** : On rappelle que la fonction `random()` de la bibliothèque `random` retourne un nombre flottant aléatoire compris entre 0 et 1 inclus."
   ]
  },
  {
   "cell_type": "code",
   "execution_count": null,
   "metadata": {
    "deletable": false,
    "editable": false
   },
   "outputs": [],
   "source": [
    "from random import *\n",
    "\n",
    "def saisie_patineur():\n",
    "    patineur ={}\n",
    "    patineur['nom']= input(\"Nom \")\n",
    "    patineur['année_naissance'] =int(input(\"Année de naissance \"))\n",
    "    patineur['moyenne']=round(5*random(),4) #ou round(uniform(0,5),4)\n",
    "    return patineur\n",
    "    #round est juste là pour limiter le nombre de chiffres \n",
    "    #après la virgule"
   ]
  },
  {
   "cell_type": "markdown",
   "metadata": {
    "deletable": false,
    "editable": false,
    "run_control": {
     "frozen": true
    }
   },
   "source": [
    "#### Question 2 : Saisie de la liste des participants\n",
    "La liste des participants est stockée sous forme d'un tableau dont les cases sont les patineurs (représentés par les dictionnaires définis à la question précédente).\n",
    "\n",
    "Écrire une fonction `liste_participants()` permettant la saisie des patineurs participant à la compétition et retournant le tableau obtenu. Il y a au moins un participant à la compétition et la saisie se poursuivra tant que l'utilisateur le souhaitera. On pensera à utiliser la fonction `saisie_patineur()` définie à la question précédente."
   ]
  },
  {
   "cell_type": "code",
   "execution_count": null,
   "metadata": {
    "deletable": false,
    "editable": false
   },
   "outputs": [],
   "source": [
    "def liste_participants():\n",
    "    participants=[]\n",
    "    rep='o'\n",
    "    while rep=='o':\n",
    "        participants.append(saisie_patineur())\n",
    "        rep=input(\"Y a-t-il d'autres participants o/n? \")\n",
    "    return participants"
   ]
  },
  {
   "cell_type": "markdown",
   "metadata": {
    "deletable": false,
    "editable": false,
    "run_control": {
     "frozen": true
    }
   },
   "source": [
    "#### Question 3 : Moyennes des patineurs\n",
    "On veut collecter dans un tableau les moyennes obtenues par les participants, ce tableau sera ensuite utilisé pour déterminer qui est le gagnant.\n",
    "\n",
    "Écrire une fonction `moyennes_participants()`qui prend en paramètre une liste des participants à la compétition (c'est-à-dire un tableau de patineurs) et qui renvoie le tableau dont chaque case est la moyenne du patineur correspondant."
   ]
  },
  {
   "cell_type": "code",
   "execution_count": null,
   "metadata": {
    "deletable": false,
    "editable": false
   },
   "outputs": [],
   "source": [
    "def moyennes_participants(participants):\n",
    "    moyennes=[]\n",
    "    i=0\n",
    "    while i<len(participants):\n",
    "        patineur=participants[i]\n",
    "        moyennes.append(patineur['moyenne'])\n",
    "        i+=1\n",
    "    return moyennes"
   ]
  },
  {
   "cell_type": "markdown",
   "metadata": {
    "deletable": false,
    "editable": false,
    "run_control": {
     "frozen": true
    }
   },
   "source": [
    "#### Question 4 :  Vainqueur de la compétition\n",
    "On veut déterminer le vainqueur de la compétition.\n",
    "\n",
    "Écrire une fonction `gagnant()` qui prend en paramètre un tableau de patineurs (on suppose qu'il y a au moins un patineur) et qui retourne le nom du patineur gagnant que l'on suppose unique. "
   ]
  },
  {
   "cell_type": "code",
   "execution_count": null,
   "metadata": {
    "deletable": false,
    "editable": false
   },
   "outputs": [],
   "source": [
    "def gagnant(participants):\n",
    "    moyennes=moyennes_participants(participants)\n",
    "    i=1\n",
    "    gagnant=0\n",
    "    while i< len(participants):\n",
    "        if moyennes[i]> moyennes[gagnant]:\n",
    "            gagnant=i\n",
    "        i+=1\n",
    "    return(participants[gagnant]['nom'])"
   ]
  },
  {
   "cell_type": "markdown",
   "metadata": {
    "deletable": false,
    "editable": false,
    "run_control": {
     "frozen": true
    }
   },
   "source": [
    "#### Question 5 : C'est la compétition ! \n",
    "\n",
    "Écrire un programme principal qui permet \n",
    "- la saisie de la liste des participants à la compétition,\n",
    "- la collecte et l'affichage des moyennes obtenues, \n",
    "- l'affichage du nom du gagnant."
   ]
  },
  {
   "cell_type": "code",
   "execution_count": null,
   "metadata": {
    "deletable": false,
    "editable": false
   },
   "outputs": [],
   "source": [
    "participants = liste_participants()\n",
    "moyennes = moyennes_participants(participants)\n",
    "print(moyennes)\n",
    "print(\"C'est\", gagnant(participants), \"qui a gagné !\")"
   ]
  }
 ],
 "metadata": {
  "kernelspec": {
   "display_name": "Python 3",
   "language": "python",
   "name": "python3"
  },
  "language_info": {
   "codemirror_mode": {
    "name": "ipython",
    "version": 3
   },
   "file_extension": ".py",
   "mimetype": "text/x-python",
   "name": "python",
   "nbconvert_exporter": "python",
   "pygments_lexer": "ipython3",
   "version": "3.7.4"
  },
  "latex_envs": {
   "LaTeX_envs_menu_present": true,
   "autoclose": false,
   "autocomplete": true,
   "bibliofile": "biblio.bib",
   "cite_by": "apalike",
   "current_citInitial": 1,
   "eqLabelWithNumbers": true,
   "eqNumInitial": 1,
   "hotkeys": {
    "equation": "Ctrl-E",
    "itemize": "Ctrl-I"
   },
   "labels_anchors": false,
   "latex_user_defs": false,
   "report_style_numbering": false,
   "user_envs_cfg": false
  },
  "toc": {
   "base_numbering": 1,
   "nav_menu": {},
   "number_sections": true,
   "sideBar": true,
   "skip_h1_title": false,
   "title_cell": "Table of Contents",
   "title_sidebar": "Contents",
   "toc_cell": false,
   "toc_position": {},
   "toc_section_display": true,
   "toc_window_display": false
  }
 },
 "nbformat": 4,
 "nbformat_minor": 2
}
