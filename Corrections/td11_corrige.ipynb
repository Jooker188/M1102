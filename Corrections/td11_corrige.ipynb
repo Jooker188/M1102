{
 "cells": [
  {
   "cell_type": "markdown",
   "metadata": {
    "deletable": false,
    "editable": false,
    "run_control": {
     "frozen": true
    }
   },
   "source": [
    "# <center> Chapitre 11 : Fichiers JSON - TD  Corrigé</center>"
   ]
  },
  {
   "cell_type": "markdown",
   "metadata": {
    "deletable": false,
    "editable": false,
    "run_control": {
     "frozen": true
    }
   },
   "source": [
    "### Exercice 1 : Test de compréhension*"
   ]
  },
  {
   "cell_type": "markdown",
   "metadata": {
    "deletable": false,
    "editable": false,
    "run_control": {
     "frozen": true
    }
   },
   "source": [
    "* Soit le dictionnaire suivant représentant des informations sur les loisirs d'une personne."
   ]
  },
  {
   "cell_type": "code",
   "execution_count": null,
   "metadata": {
    "deletable": false,
    "editable": false
   },
   "outputs": [],
   "source": [
    "personne = {'nom': 'Albert', \n",
    "            'age': 37,\n",
    "            'email': 'albert99@gmail.com', \n",
    "            'loisirs': ['Sport', 'Cinema', 'Lecture', 'Voyage']\n",
    "            }"
   ]
  },
  {
   "cell_type": "markdown",
   "metadata": {
    "deletable": false,
    "editable": false,
    "run_control": {
     "frozen": true
    },
    "solution2": "hidden",
    "solution2_first": true
   },
   "source": [
    "* Ecrire un programme qui permet de stocker ce dictionnaire dans un fichier `files/personne.json`."
   ]
  },
  {
   "cell_type": "code",
   "execution_count": null,
   "metadata": {
    "deletable": false,
    "editable": false,
    "solution2": "hidden"
   },
   "outputs": [],
   "source": [
    "#------------------------------#\n",
    "#    CORRECTION  ! ! ! ! ! !   #\n",
    "#------------------------------#\n",
    "\n",
    "from json import *\n",
    "#ou \n",
    "#import json\n",
    "\n",
    "f_p = open(\"./files/personne.json\",\"w\")\n",
    "\n",
    "dump(personne, f_p, indent=4)\n",
    "#json.dump(personne, f_p, indent=4)\n",
    "\n",
    "f_p.close()"
   ]
  },
  {
   "cell_type": "markdown",
   "metadata": {
    "deletable": false,
    "editable": false,
    "run_control": {
     "frozen": true
    },
    "solution2": "hidden",
    "solution2_first": true
   },
   "source": [
    "* Ecrire les instructions permettant de charger à partir du fichier `files/personne.json` le dictionnaire qui vient d'être sauvegardé et de l'affecter à une variable `dico`."
   ]
  },
  {
   "cell_type": "code",
   "execution_count": null,
   "metadata": {
    "deletable": false,
    "editable": false,
    "solution2": "hidden"
   },
   "outputs": [],
   "source": [
    "#------------------------------#\n",
    "#    CORRECTION  ! ! ! ! ! !   #\n",
    "#------------------------------#\n",
    "from json import *\n",
    "f_p = open (\"./files/personne.json\",\"r\")\n",
    "\n",
    "dico=load(f_p)\n",
    "\n",
    "f_p.close()\n",
    "print(dico)"
   ]
  },
  {
   "cell_type": "markdown",
   "metadata": {
    "deletable": false,
    "editable": false,
    "run_control": {
     "frozen": true
    },
    "solution2": "hidden",
    "solution2_first": true
   },
   "source": [
    "* Comment afficher le type la valeur associée à la clef `'age'`?"
   ]
  },
  {
   "cell_type": "code",
   "execution_count": null,
   "metadata": {
    "deletable": false,
    "editable": false,
    "solution2": "hidden"
   },
   "outputs": [],
   "source": [
    "#------------------------------#\n",
    "#    CORRECTION  ! ! ! ! ! !   #\n",
    "#------------------------------#\n",
    "print(type(dico['age']))"
   ]
  },
  {
   "cell_type": "markdown",
   "metadata": {
    "deletable": false,
    "editable": false,
    "run_control": {
     "frozen": true
    },
    "solution2": "hidden",
    "solution2_first": true
   },
   "source": [
    "* Comment peut-on avoir les informations sur les loisirs de cette personne ?"
   ]
  },
  {
   "cell_type": "code",
   "execution_count": null,
   "metadata": {
    "deletable": false,
    "editable": false,
    "solution2": "hidden"
   },
   "outputs": [],
   "source": [
    "#------------------------------#\n",
    "#    CORRECTION  ! ! ! ! ! !   #\n",
    "#------------------------------#\n",
    "print(dico['loisirs'])"
   ]
  },
  {
   "cell_type": "markdown",
   "metadata": {
    "deletable": false,
    "editable": false,
    "run_control": {
     "frozen": true
    }
   },
   "source": [
    "### Exercice 2 : Planètes et satellites *\n",
    "\n",
    "#### Question 1 : Définition d'un dictionnaire à partir d'un fichier JSON"
   ]
  },
  {
   "cell_type": "markdown",
   "metadata": {
    "deletable": false,
    "editable": false,
    "run_control": {
     "frozen": true
    },
    "solution2": "hidden",
    "solution2_first": true
   },
   "source": [
    "* Ecrire un programme permettant de charger dans un dictionnaire `'lune'` les données stokées dans le fichier `files/lunes.json`. Vérifier que ce dictionnaire contient le nombre de satellites de chaque planète. \n",
    "\n",
    "clef| \"Mercure\"|\"Vénus\"|\"Terre\"|\"Mars\"|\"Jupiter\"|\"Saturne\"|\"Uranus\"|\"Neptune\"|\n",
    "----|----------|-------|-------|------|---------|---------|--------|---------|\n",
    "valeur |0|0|1|2|63|61|27|11|"
   ]
  },
  {
   "cell_type": "code",
   "execution_count": null,
   "metadata": {
    "deletable": false,
    "editable": false,
    "solution2": "hidden"
   },
   "outputs": [],
   "source": [
    "#------------------------------#\n",
    "#    CORRECTION  ! ! ! ! ! !   #\n",
    "#------------------------------#\n",
    "from json import *\n",
    "f_l = open (\"./files/lunes.json\",\"r\")\n",
    "\n",
    "lunes=load(f_l)\n",
    "\n",
    "f_l.close()\n",
    "print(lunes) "
   ]
  },
  {
   "cell_type": "markdown",
   "metadata": {
    "deletable": false,
    "editable": false,
    "run_control": {
     "frozen": true
    },
    "solution2": "hidden",
    "solution2_first": true
   },
   "source": [
    "#### Question  2 : Exploration d'un dictionnaire\n",
    "\n",
    "A partir du dictionnaire défini à la question précédente, proposer un programme permettant de:\n",
    "- afficher le nombre de satellites de `Neptune`,\n",
    "- afficher le nombre moyen de satellites."
   ]
  },
  {
   "cell_type": "code",
   "execution_count": null,
   "metadata": {
    "deletable": false,
    "editable": false,
    "solution2": "hidden"
   },
   "outputs": [],
   "source": [
    "#------------------------------#\n",
    "#    CORRECTION  ! ! ! ! ! !   #\n",
    "#------------------------------#\n",
    "# Affichage de la clef associée à Neptune.\n",
    "print(lunes['Neptune'])\n",
    "\n",
    "# Affichage du nombre moyen de satellites\n",
    "valeurs= list(lunes.values())\n",
    "tot = 0\n",
    "i=0\n",
    "while i<len(valeurs):\n",
    "    tot += valeurs[i]\n",
    "    i+=1\n",
    "print( 'Le nombre moyen de lunes recensées est : ',tot/len(valeurs) )"
   ]
  },
  {
   "cell_type": "markdown",
   "metadata": {
    "deletable": false,
    "editable": false,
    "run_control": {
     "frozen": true
    },
    "solution2": "hidden",
    "solution2_first": true
   },
   "source": [
    "### Exercice 3 : Le chiffrement ROT-13**\n",
    "\n",
    "En cryptographie,le chiffrement de César est une technique de cryptage très simple dans laquelle chaque lettre du texte est remplacée par une autre lettre dans l'alphabet avec un décalage des lettres. Les caractères autres que les lettres sont inchangés/<br>\n",
    "Par exemple, avec un décalage de 3, \"A\" serait remplacé par \"D\", \"B\" deviendrait \"E\", etc.<br> \n",
    "La méthode porte le nom de Jules César, qui l'utilisait pour communiquer avec ses généraux.<br>\n",
    "ROT-13 (\"rotation de 13 cases\") est un exemple très utilisé de ce type de chiffrement où le décalage est de 13. En Python, la clé de chiffrement pour ROT-13 peut être représentée au moyen du dictionnaire suivant stocké dans le fichier `files/rot13.json`.\n",
    "\n",
    "#### Question 1 : Chargement du dictionnaire de codage\n",
    "* Ecrire un programme permettant de stocker les données du fichier `files/rot13.json` dans un dictionnaire `keys`. \n",
    "* Afficher le dictionnaire `keys`."
   ]
  },
  {
   "cell_type": "code",
   "execution_count": null,
   "metadata": {
    "deletable": false,
    "editable": false,
    "solution2": "hidden"
   },
   "outputs": [],
   "source": [
    "#------------------------------#\n",
    "#    CORRECTION  ! ! ! ! ! !   #\n",
    "#------------------------------#\n",
    "from json import *\n",
    "f=open('files/rot13.json','r')\n",
    "keys=load(f)\n",
    "f.close()\n",
    "\n",
    "print(keys)"
   ]
  },
  {
   "cell_type": "markdown",
   "metadata": {
    "deletable": false,
    "editable": false,
    "run_control": {
     "frozen": true
    },
    "solution2": "hidden",
    "solution2_first": true
   },
   "source": [
    "#### Question 2 : Codage d'un message\n",
    "\n",
    "- Ecrire une fonction `cesar(message)` qui permet en utilisant le dictionnaire `keys` de coder un message grâce à ROT-13. \n",
    "\n",
    "- Comment décoder un message chiffré à l'aide ROT-13 ? \n",
    "\n",
    "**NB** :  La méthode `chaine.isalpha()` retourne `True` si `chaine` n'est pas vide et que tous ses caractères sont des lettres et `False` dans le cas contraire. "
   ]
  },
  {
   "cell_type": "code",
   "execution_count": null,
   "metadata": {
    "deletable": false,
    "editable": false,
    "solution2": "hidden"
   },
   "outputs": [],
   "source": [
    "#------------------------------#\n",
    "#    CORRECTION  ! ! ! ! ! !   #\n",
    "#------------------------------#\n",
    "def cesar(message):\n",
    "    result = \"\"\n",
    "    i=0\n",
    "    while  i<len(message):\n",
    "        c=message[i]\n",
    "        if c.isalpha():\n",
    "            result += keys[c]\n",
    "        else: \n",
    "            result += c\n",
    "        i=i+1\n",
    "    return result  "
   ]
  },
  {
   "cell_type": "markdown",
   "metadata": {
    "deletable": false,
    "editable": false,
    "run_control": {
     "frozen": true
    },
    "solution2": "hidden",
    "solution2_first": true
   },
   "source": [
    "#### Question 3 : Coder et décoder un message\n",
    "- Coder le message \"Je suis etudiant a l'IUT\", puis décoder le message pour vérifier."
   ]
  },
  {
   "cell_type": "code",
   "execution_count": null,
   "metadata": {
    "deletable": false,
    "editable": false,
    "solution2": "hidden"
   },
   "outputs": [],
   "source": [
    "#------------------------------#\n",
    "#    CORRECTION  ! ! ! ! ! !   #\n",
    "#------------------------------#\n",
    "texte=cesar(\"Je suis etudiant a l'IUT\")\n",
    "print(texte) \n",
    "print(cesar(texte))"
   ]
  },
  {
   "cell_type": "markdown",
   "metadata": {
    "deletable": false,
    "editable": false,
    "run_control": {
     "frozen": true
    },
    "solution2": "hidden",
    "solution2_first": true
   },
   "source": [
    "# Pour aller plus loin\n",
    "\n",
    "### Exercice 4 : Fichier  JSON*\n",
    "Ecrire un fichier JSON qui est une représentation objet simplifiée d'un cours et de ses élèves.\n",
    "- Commencer par créer le fichier JSON.\n",
    "- Ajouter les attributs suivants dans la racine du JSON :\n",
    "        - cours, de type string.\n",
    "        - semestre, de type number.    \n",
    "        - annee, de type entier.\n",
    "        - etudiants, de type tableau.\n",
    "- Choisir des valeurs associées aux différentes clés."
   ]
  },
  {
   "cell_type": "code",
   "execution_count": null,
   "metadata": {
    "deletable": false,
    "editable": false,
    "solution2": "hidden"
   },
   "outputs": [],
   "source": [
    "#------------------------------#\n",
    "#    CORRECTION  ! ! ! ! ! !   #\n",
    "#------------------------------#\n",
    "{\n",
    "\"cours\": \"Mathématiques\",\n",
    "\"annee\": 2019,\n",
    "\"semestre\": 2,\n",
    "\"etudiants\": [\n",
    " {\n",
    " \"nom\": \"Bertrand\",\n",
    " \"prenom\": \"Mathilde\"\n",
    "},\n",
    "{\n",
    "  \"nom\": \"Martin\",\n",
    " \"prenom\": \"Christian\"\n",
    " },\n",
    "{\n",
    " \"nom\": \"Jean\",\n",
    "   \"prenom\": \"Alexandre\"\n",
    "   }\n",
    "]\n",
    "}"
   ]
  }
 ],
 "metadata": {
  "kernelspec": {
   "display_name": "Python 3",
   "language": "python",
   "name": "python3"
  },
  "language_info": {
   "codemirror_mode": {
    "name": "ipython",
    "version": 3
   },
   "file_extension": ".py",
   "mimetype": "text/x-python",
   "name": "python",
   "nbconvert_exporter": "python",
   "pygments_lexer": "ipython3",
   "version": "3.7.4"
  },
  "latex_envs": {
   "LaTeX_envs_menu_present": true,
   "autoclose": false,
   "autocomplete": true,
   "bibliofile": "biblio.bib",
   "cite_by": "apalike",
   "current_citInitial": 1,
   "eqLabelWithNumbers": true,
   "eqNumInitial": 1,
   "hotkeys": {
    "equation": "Ctrl-E",
    "itemize": "Ctrl-I"
   },
   "labels_anchors": false,
   "latex_user_defs": false,
   "report_style_numbering": false,
   "user_envs_cfg": false
  },
  "toc": {
   "base_numbering": 1,
   "nav_menu": {},
   "number_sections": true,
   "sideBar": true,
   "skip_h1_title": false,
   "title_cell": "Table of Contents",
   "title_sidebar": "Contents",
   "toc_cell": false,
   "toc_position": {},
   "toc_section_display": true,
   "toc_window_display": false
  }
 },
 "nbformat": 4,
 "nbformat_minor": 2
}
