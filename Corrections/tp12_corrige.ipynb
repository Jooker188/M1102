{
 "cells": [
  {
   "cell_type": "markdown",
   "metadata": {},
   "source": [
    "# <center> Chapitre 12 : Boucles imbriquées - TP Corrigé</center>"
   ]
  },
  {
   "cell_type": "markdown",
   "metadata": {
    "deletable": false,
    "editable": false,
    "run_control": {
     "frozen": true
    }
   },
   "source": [
    "### Exercice 1 : Table de multiplication*\n",
    "#### Question 1 : Tables de multiplication de 1 à 10 \n",
    "Ecrire un programme  qui calcule et affiche les tables de multiplication de `1` à `10`. \n",
    "Une exécution de ce programme affichera ce qui suit.\n",
    "````\n",
    "x | 1 2 3 4 5 6 7 8 9 10\n",
    "-----------------------------------\n",
    "1 | 1 2 3 4 5 6 7 8 9 10\n",
    "2 | 2 4 6 8 10 12 14 16 18 20\n",
    "3 | 3 6 9 12 15 18 21 24 27 30\n",
    "4 | 4 8 12 16 20 24 28 32 36 40\n",
    "5 | 5 10 15 20 25 30 35 40 45 50\n",
    "6 | 6 12 18 24 30 36 42 48 54 60\n",
    "7 | 7 14 21 28 35 42 49 56 63 70\n",
    "8 | 8 16 24 32 40 48 56 64 72 80\n",
    "9 | 9 18 27 36 45 54 63 72 81 90\n",
    "10 | 10 20 30 40 50 60 70 80 90 100\n",
    "````\n",
    "**Remarque** : Pour l'affichage, on utilisera la concaténation des chaînes de caractères avec l'opérateur `+`, mais il faut veiller pour cela à caster (avec `str()`) les variables qui ne sont pas des chaînes de caractères. "
   ]
  },
  {
   "cell_type": "code",
   "execution_count": null,
   "metadata": {
    "deletable": false,
    "editable": false
   },
   "outputs": [],
   "source": [
    "#------------------------------#\n",
    "#    CORRECTION  ! ! ! ! ! !   #\n",
    "#------------------------------#\n",
    "#Affichage de la première ligne\n",
    "ligne='x |'\n",
    "i = 1\n",
    "while i <= 10 :\n",
    "    ligne=ligne+' '+str(i)\n",
    "    i+=1\n",
    "print(ligne)   \n",
    "\n",
    "#Affichage de la ligne de tirets\n",
    "ligne=''\n",
    "i = 1\n",
    "while i <= 30 :\n",
    "    ligne=ligne+'-'\n",
    "    i+=1\n",
    "print(ligne)\n",
    "\n",
    "#Affichage des lignes suivantes\n",
    "\n",
    "i=1\n",
    "while(i<=10):\n",
    "    j=1\n",
    "    ligne=str(i)+' | '\n",
    "    while(j<=10):\n",
    "        ligne=ligne+str(i*j)+' '\n",
    "        j+=1\n",
    "    print(ligne)\n",
    "    i+=1"
   ]
  },
  {
   "cell_type": "markdown",
   "metadata": {
    "deletable": false,
    "editable": false,
    "run_control": {
     "frozen": true
    }
   },
   "source": [
    "#### Question 2 : Alignement à l'affichage\n",
    "Modifier le code précédent pour obtenir l'affichage ci-dessous  (la fonction `rjust`peut être fort utile pour cela) :\n",
    "\n",
    "```\n",
    "   X |   1   2   3   4   5   6   7   8   9  10\n",
    "--------------------------------------------------\n",
    "   1 |   1   2   3   4   5   6   7   8   9  10\n",
    "   2 |   2   4   6   8  10  12  14  16  18  20\n",
    "   3 |   3   6   9  12  15  18  21  24  27  30\n",
    "   4 |   4   8  12  16  20  24  28  32  36  40\n",
    "   5 |   5  10  15  20  25  30  35  40  45  50\n",
    "   6 |   6  12  18  24  30  36  42  48  54  60\n",
    "   7 |   7  14  21  28  35  42  49  56  63  70\n",
    "   8 |   8  16  24  32  40  48  56  64  72  80\n",
    "   9 |   9  18  27  36  45  54  63  72  81  90\n",
    "  10 |  10  20  30  40  50  60  70  80  90 100\n",
    "```\n",
    "**Rappel** :\n",
    "L'instruction `chaine.rjust(n)` retourne la chaîne de caractères  `chaine` alignée à droite dans une chaîne de longueur `n`. Si `n` est inférieur à la longueur `chaine`, la chaîne originale est retournée. Afin de pouvoir utiliser `rjust()`, il faut l'importer de la bibliothèque `string` grâce à l'instruction `from string import *`. \n",
    "\n",
    "**Exemple d'utilisation** :"
   ]
  },
  {
   "cell_type": "code",
   "execution_count": null,
   "metadata": {
    "deletable": false,
    "editable": false
   },
   "outputs": [],
   "source": [
    "from string import *\n",
    "uneVar = 'x'\n",
    "print ('x')\n",
    "print (uneVar.rjust(2)) # il est possible d'écrire 'x'.rjust(2) \n",
    "print (uneVar.rjust(3))\n",
    "nb = 1\n",
    "print (str(nb).rjust(3)) \n",
    "nb = 10\n",
    "print (str(nb).rjust(3))\n",
    "nb = 100\n",
    "print (nb)"
   ]
  },
  {
   "cell_type": "code",
   "execution_count": null,
   "metadata": {
    "deletable": false,
    "editable": false
   },
   "outputs": [],
   "source": [
    "#------------------------------#\n",
    "#    CORRECTION  ! ! ! ! ! !   #\n",
    "#------------------------------#\n",
    "#Affichage de la première ligne\n",
    "ligne='X'.rjust(4)+' |'\n",
    "ligne.rjust(3)\n",
    "i = 1\n",
    "while i <= 10 :\n",
    "    ligne=ligne+str(i).rjust(4)\n",
    "    i+=1\n",
    "print(ligne)   \n",
    "\n",
    "#Affichage de la ligne de tirets\n",
    "ligne=''\n",
    "i = 1\n",
    "while i <= 50 :\n",
    "    ligne=ligne+'-'\n",
    "    i+=1\n",
    "print(ligne)\n",
    "\n",
    "#Affichage des lignes suivantes\n",
    "\n",
    "i=1\n",
    "while(i<=10):\n",
    "    j=1\n",
    "    ligne=str(i).rjust(4)+' |'\n",
    "    #ligne.rjust(5)\n",
    "    while(j<=10):\n",
    "        ligne=ligne+str(i*j).rjust(4)\n",
    "        j+=1\n",
    "    print(ligne)\n",
    "    i+=1"
   ]
  },
  {
   "cell_type": "markdown",
   "metadata": {
    "deletable": false,
    "editable": false,
    "run_control": {
     "frozen": true
    }
   },
   "source": [
    "### Exercice 2 : Nombre de façons de rendre la monnaie**\n",
    "#### Question 1 : Nombre de façons de rendre 1€ avec de la monnaie\n",
    "- Ecrire un programme qui affiche toutes les manières possibles\n",
    "d'obtenir 1 €  avec des pièces de 2 centimes, 5 centimes\n",
    "et 10 centimes. On veillera à ne pas afficher les `0` (`20*5 = 100` plutôt que `0*2+20*5*0*10=100`).\n",
    "\n",
    "Le programme calculera et affichera également le nombre de manières d'obtenir ainsi 1 €. "
   ]
  },
  {
   "cell_type": "code",
   "execution_count": null,
   "metadata": {
    "deletable": false,
    "editable": false
   },
   "outputs": [],
   "source": [
    "#------------------------------#\n",
    "#    CORRECTION  ! ! ! ! ! !   #\n",
    "#------------------------------#\n",
    "# nbf =  compteur du nombre de facons de faire la somme \n",
    "# n10 = nombre de pièces de 10 centimes\n",
    "# n5 = nombre de pièces de 5 centimes\n",
    "# n2 = nombre de pièces de 2 centimes\n",
    "nbf=0\n",
    "n2=0\n",
    "while 2*n2<=100 :\n",
    "    n5=0\n",
    "    while 5*n5<=100 :\n",
    "        n10=0\n",
    "        while  10*n10<=100 :\n",
    "            if (2*n2+5*n5+10*n10)==100 :\n",
    "                nbf+=1\n",
    "                if n2!=0 :\n",
    "                    print(n2,\"*2 + \",end='')\n",
    "                if n5!=0 :\n",
    "                    print(n5,\"*5 + \",end='')\n",
    "                if n10!=0 :\n",
    "                    print(n10,\"*10\",end='')\n",
    "                print(' = 100')\n",
    "            n10+=1\n",
    "        n5+=1\n",
    "    n2+=1\n",
    "print('le nombre de façon de rendre 1 euro est égal à ', nbf)"
   ]
  },
  {
   "cell_type": "markdown",
   "metadata": {
    "deletable": false,
    "editable": false,
    "run_control": {
     "frozen": true
    }
   },
   "source": [
    "#### Question 2 : Nombre de façons de rendre n'importe quelle somme en monnaie\n",
    "- Modifier le programme précédent pour qu'il affiche le nombre de manières possibles \n",
    "et toutes ces manières d'obtenir une somme `somme` avec des pièces de 2 centimes, 5\n",
    "centimes et 10 centimes. La `somme` (en centimes) sera saisie par\n",
    "l'utilisateur."
   ]
  },
  {
   "cell_type": "code",
   "execution_count": null,
   "metadata": {
    "deletable": false,
    "editable": false
   },
   "outputs": [],
   "source": [
    "#------------------------------#\n",
    "#    CORRECTION  ! ! ! ! ! !   #\n",
    "#------------------------------#\n",
    "\n",
    "# nbf =  compteur du nombre de facons de faire la somme \n",
    "# n10 = nombre de pièces de 10 centimes\n",
    "# n5 = nombre de pièces de 5 centimes\n",
    "# n2 = nombre de pièces de 2 centimes\n",
    "nbf=0\n",
    "n2=0\n",
    "print('Quelle est la somme à rendre')\n",
    "somme=int(input())\n",
    "while 2*n2<=somme :\n",
    "    n5=0\n",
    "    while 5*n5<=somme :\n",
    "        n10=0\n",
    "        while  10*n10<=somme :\n",
    "            if (2*n2+5*n5+10*n10)==somme :\n",
    "                nbf+=1\n",
    "                if n2!=0 :\n",
    "                    print(n2,\" * 2 + \",end='')\n",
    "                if n5!=0 :\n",
    "                    print(n5,\" * 5 + \",end='')\n",
    "                if n10!=0 :\n",
    "                    print(n10,\" * 10\",end='')\n",
    "                print('= ', somme)\n",
    "            n10+=1\n",
    "        n5+=1\n",
    "    n2+=1\n",
    "print('le nombre de façon de rendre ', somme, '€ est égal à ', nbf)"
   ]
  },
  {
   "cell_type": "markdown",
   "metadata": {
    "deletable": false,
    "editable": false,
    "run_control": {
     "frozen": true
    }
   },
   "source": [
    "### Exercice 3 : Comptage des points à la belote coinchée***\n",
    "\n",
    "La belote coinchée est un jeu qui se joue à 4 joueurs par équipe de 2 et un jeu de 32 cartes. Il se distingue de la belote par un système d'annonces. \n",
    "\n",
    "Tour à tour, avant de commencer à poser les cartes chaque joueur \"passe\" ou \"annonce\" une couleur d'atout et le nombre de points qu'il pense faire en choisissant cet atout. Celui qui propose l'annonce la plus forte définit l'atout pour la partie. \n",
    "\n",
    "Lors du comptage des points en fin de partie, chaque carte remportée par une équipe est convertie en points. Le score d'une équipe correspond au nombre de points associés aux plis qu'elle a remporté. Les règles de calcul sont les suivantes:.\n",
    "\n",
    "<img src=\"img/y7.png\" alt=\"Drawing\" style=\"height: 200px;\"/>\n",
    "\n",
    "#### Question 1  : Les points à l'atout et aux autres couleurs\n",
    "Ecrire les instruction permettant de charger les 2 dictionnaires sockés dans les fichiers ``files/atout.json``et ``files/autre.json`` dont les couples (clef,valeur) sont respectivement la figure portée par la carte et le nombre de points associés à cette figure lorsqu'elle est de la couleur de l'atout ou d'une autre couleur."
   ]
  },
  {
   "cell_type": "code",
   "execution_count": null,
   "metadata": {
    "deletable": false,
    "editable": false
   },
   "outputs": [],
   "source": [
    "#------------------------------#\n",
    "#    CORRECTION  ! ! ! ! ! !   #\n",
    "#------------------------------#\n",
    "from json import *\n",
    "fichier = open (\"./files/atout.json\" , \"rt\" )\n",
    "Atout=load(fichier)\n",
    "fichier.close()\n",
    "\n",
    "fichier = open (\"./files/autre.json\" , \"rt\" )\n",
    "Autre=load(fichier)\n",
    "fichier.close()\n",
    "\n",
    "print (Atout)\n",
    "print (Autre)"
   ]
  },
  {
   "cell_type": "markdown",
   "metadata": {
    "deletable": false,
    "editable": false,
    "run_control": {
     "frozen": true
    }
   },
   "source": [
    "#### Question 2 : Comptage des points d'un ensemble de cartes\n",
    "\n",
    "- Définir une fonction `comptage()` prenant comme paramètres les 2 dictionnaires, une couleur d'atout (sous forme d'une chaîne de caractères) et un tableau de cartes. La fonction renverra le nombre de points associés à cet ensemble de cartes. \n",
    "\n",
    "Les cartes sont représentées par des dictionnaires dont la première clef est la \"figure\" de la carte et vaut `'As', 'Roi', 'Dame', 'Valet', 'Dix', 'Neuf', 'Huit'` ou `'Sept'` et la  deuxième clef est \"couleur\" de la carte  et vaut `'Pique', 'Coeur', 'Carreau'` ou `'Trefle'`.\n",
    "\n",
    "Par exemple, `{'figure': 'Valet', 'couleur':'Coeur'}` et `{'figure':'Dix', 'couleur':'Pique'}` sont deux dictionnaires correspondant à des cartes.\n",
    "\n",
    "- Ecrire une fonction de tests unitaires pour compter les points avec différents tuples de cartes. Utiliser la pour vérifier que la fonction `comptage` satisfait ces tests."
   ]
  },
  {
   "cell_type": "code",
   "execution_count": null,
   "metadata": {
    "deletable": false,
    "editable": false
   },
   "outputs": [],
   "source": [
    "#------------------------------#\n",
    "#    CORRECTION  ! ! ! ! ! !   #\n",
    "#------------------------------#\n",
    "#Fonction de comptage avec commentaires:\n",
    "\n",
    "def comptage(dico_atout, dico_autre, couleur_atout, cartes):\n",
    "\n",
    "    # initialisation du total des points\n",
    "    total = 0\n",
    "\n",
    "    # iteration sur les cartes\n",
    "    i=0\n",
    "    while i<len(cartes):\n",
    "        # Si c'est de l'atout\n",
    "        carte=cartes[i]\n",
    "        c=carte[\"figure\"]\n",
    "\n",
    "        if carte[\"couleur\"] == couleur_atout :\n",
    "\n",
    "        # utilise les regles de conversion pour l'atout\n",
    "            total += dico_atout[c]\n",
    "        else:\n",
    "        # utilise les regles de conversion normale\n",
    "            total += dico_autre[c]\n",
    "        i+=1\n",
    "    # valeur de retour\n",
    "    return total\n",
    "\n",
    "def test_comptage():\n",
    "    assert comptage(Atout,Autre,'Coeur',[{'figure':'Valet','couleur':'Coeur'}]) == 20\n",
    "    assert comptage(Atout,Autre,'Coeur',[{'figure':'Valet','couleur':'Coeur'},{'figure':'Dix','couleur':'Pique'}])==30 \n",
    "    assert comptage(Atout,Autre,'Coeur',[{'figure':'Valet','couleur':'Trefle'}]) == 2\n",
    "    print(\"test de la fonction comptage : ok\")\n",
    "\n",
    "test_comptage()"
   ]
  },
  {
   "cell_type": "markdown",
   "metadata": {
    "deletable": false,
    "editable": false,
    "run_control": {
     "frozen": true
    }
   },
   "source": [
    "#### Question 3  : Nombre total de points du jeu\n",
    "- Calculer le nombre total de points que les joueurs se partagent au cours d'une partie sachant que 10 points sont accordés à l'équipe qui remporte le dernier tour de jeu.\n",
    "- Vérifier que le total est 102 points."
   ]
  },
  {
   "cell_type": "code",
   "execution_count": null,
   "metadata": {
    "deletable": false,
    "editable": false
   },
   "outputs": [],
   "source": [
    "#------------------------------#\n",
    "#    CORRECTION  ! ! ! ! ! !   #\n",
    "#------------------------------# \n",
    "#Calcul de la somme des points en jeu:\n",
    "total = 10 \n",
    "\n",
    "# le bonus pour les gagnats du dernier tour de jeu\n",
    "# comptage des points apportes par les cartes Atout\n",
    "# compte une fois car il y a une seule couleur Atout\n",
    "\n",
    "valeurs_Atout=list(Atout.values())\n",
    "i=0\n",
    "while i < len(valeurs_Atout) :\n",
    "    total += valeurs_Atout[i]\n",
    "    i+=1\n",
    "\n",
    "# Comptage des points apportes par les autres cartes\n",
    "# compte 3 fois car il y a 3 couleurs que ne sont pas de l'Atout\n",
    "valeurs_Autre=list(Autre.values())\n",
    "i=0\n",
    "while i < len(valeurs_Autre) :\n",
    "    total += valeurs_Autre[i]\n",
    "    i+=1\n",
    "\n",
    "# Affichage du nombre de points en jeu\n",
    "print('Total des points mis en jeu = ' + str(total) )"
   ]
  },
  {
   "cell_type": "markdown",
   "metadata": {
    "deletable": false,
    "editable": false,
    "run_control": {
     "frozen": true
    }
   },
   "source": [
    "#### Question 4  : Affichage de la valeur de chaque carte\n",
    "- Définir une fonction ``affiche_carte_point`` qui prend en paramètres les 2 dictionnaires et la couleur d'atout et affiche l'ensemble des 32 cartes et leur valeur.\n",
    "\n",
    "- Utiliser cette fonction pour afficher les points associés à chaque carte quand l'atout est `Coeur`."
   ]
  },
  {
   "cell_type": "code",
   "execution_count": null,
   "metadata": {
    "deletable": false,
    "editable": false
   },
   "outputs": [],
   "source": [
    "#------------------------------#\n",
    "#    CORRECTION  ! ! ! ! ! !   #\n",
    "#------------------------------# \n",
    "#Affichage des cartes et des points associés pour une couleur d'atout donnée. \n",
    "\n",
    "def affiche_carte_point(dico_atout, dico_autre, couleur_atout) :\n",
    "    couleurs = ['Pique','Coeur','Carreau','Trefle']\n",
    "    figures = list(dico_atout)\n",
    "    i=0\n",
    "    while i<len(couleurs) :\n",
    "        j=0\n",
    "        while j< len(figures):\n",
    "            fig=figures[j]\n",
    "            if couleurs[i] == couleur_atout:\n",
    "                print( '('+fig+','+couleurs[i]+')->'+ str(dico_atout[fig]))\n",
    "            else:\n",
    "                print('('+fig+','+couleurs[i]+')->'+ str(dico_autre[fig]))\n",
    "            j+=1\n",
    "        i+=1\n",
    "\n",
    "# exemple d'utilisation \n",
    "affiche_carte_point(Atout,Autre,'Coeur')     "
   ]
  }
 ],
 "metadata": {
  "kernelspec": {
   "display_name": "Python 3",
   "language": "python",
   "name": "python3"
  },
  "language_info": {
   "codemirror_mode": {
    "name": "ipython",
    "version": 3
   },
   "file_extension": ".py",
   "mimetype": "text/x-python",
   "name": "python",
   "nbconvert_exporter": "python",
   "pygments_lexer": "ipython3",
   "version": "3.7.4"
  },
  "latex_envs": {
   "LaTeX_envs_menu_present": true,
   "autoclose": false,
   "autocomplete": true,
   "bibliofile": "biblio.bib",
   "cite_by": "apalike",
   "current_citInitial": 1,
   "eqLabelWithNumbers": true,
   "eqNumInitial": 1,
   "hotkeys": {
    "equation": "Ctrl-E",
    "itemize": "Ctrl-I"
   },
   "labels_anchors": false,
   "latex_user_defs": false,
   "report_style_numbering": false,
   "user_envs_cfg": false
  }
 },
 "nbformat": 4,
 "nbformat_minor": 2
}
