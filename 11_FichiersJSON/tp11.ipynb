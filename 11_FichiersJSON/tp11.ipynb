{
 "cells": [
  {
   "cell_type": "markdown",
   "metadata": {
    "deletable": false,
    "editable": false,
    "run_control": {
     "frozen": true
    }
   },
   "source": [
    "# <center> Chapitre 11 : Fichiers JSON - TP  </center>"
   ]
  },
  {
   "cell_type": "markdown",
   "metadata": {
    "deletable": false,
    "editable": false,
    "run_control": {
     "frozen": true
    }
   },
   "source": [
    "### Exercice 1 : Fréquence des caractères dans un long texte**\n",
    "#### Question 1 :  Longueur d'un texte stocké dans un fichier\n",
    "Écrire une fonction `longueur` qui prend en paramètre le chemin `path` vers un fichier texte et renvoie le nombre de caractères contenu dans ce fichier. \n",
    "\n",
    "Utiliser cette fonction pour afficher la longueur du texte disponible dans le fichier `files/zadig.txt`."
   ]
  },
  {
   "cell_type": "code",
   "execution_count": null,
   "metadata": {},
   "outputs": [],
   "source": [
    "#-------------------------#\n",
    "#    Écrire le code ici   #\n",
    "#-------------------------#\n",
    "\n",
    "\n"
   ]
  },
  {
   "cell_type": "markdown",
   "metadata": {
    "deletable": false,
    "editable": false,
    "run_control": {
     "frozen": true
    }
   },
   "source": [
    "#### Question 2 :  Comptage des caractères dans un texte stocké dans un fichier\n",
    "Écrire une fonction `comptage` qui prend en paramètre le chemin `path` vers un fichier texte et renvoie le dictionnaire contenant comme clefs tous les caractères qui apparaissent dans le texte et comme valeurs leurs nombres d'apparition dans le texte.\n",
    "\n",
    "Utiliser cette fonction fonction pour calculer le dictionnaire associé au texte disponible dans le fichier `files/zadig.txt`.\n",
    "Ce dictionnaire sera stocké dans le fichier `files/comptage_zadig.json`."
   ]
  },
  {
   "cell_type": "code",
   "execution_count": null,
   "metadata": {},
   "outputs": [],
   "source": [
    "#-------------------------#\n",
    "#    Écrire le code ici   #\n",
    "#-------------------------#\n",
    "\n",
    "\n"
   ]
  },
  {
   "cell_type": "markdown",
   "metadata": {
    "deletable": false,
    "editable": false,
    "run_control": {
     "frozen": true
    }
   },
   "source": [
    "#### Question 3 : Calcul des fréquences d'apparition dans le texte. \n",
    "\n",
    "Ecrire une fonction `frequences` qui prend en paramètre le chemin `path` vers un fichier texte et renvoie le dictionnaire contenant comme clefs tous les caractères qui apparaissent dans le texte et comme valeurs leurs fréquence d'apparition dans le texte.\n",
    "\n",
    "**Rappel** : La fréquence d'apparition d'un caractère est égale à \n",
    "```\n",
    "Nombre d'apparitions * 100/ longueur du texte\n",
    "```\n",
    "\n",
    "Utiliser cette fonction pour calculer le dictionnaire associé au texte disponible dans le fichier `files/zadig.txt`.\n",
    "\n",
    "Le résultat de cette analyse sera consigné stocké un fichier JSON `files/zadig_statistiques.json`. "
   ]
  },
  {
   "cell_type": "code",
   "execution_count": null,
   "metadata": {},
   "outputs": [],
   "source": [
    "#-------------------------#\n",
    "#    Écrire le code ici   #\n",
    "#-------------------------#\n",
    "\n",
    "\n"
   ]
  },
  {
   "cell_type": "markdown",
   "metadata": {
    "deletable": false,
    "editable": false,
    "run_control": {
     "frozen": true
    }
   },
   "source": [
    "#### Question 4 : Fréquence maximale d'un caractère \n",
    "\n",
    "Ecrire une fonction `max_freq` qui prend en paramètre le chemin `path` vers un **fichier JSON** contenant un dictionnaire de fréquences et qui renvoie la fréquence maximale d'un caractère de ce dictionnaire. \n",
    "\n",
    "Utiliser cette  fonction pour calculer la fréquence maximale d'un caractère dans le dictionnaire disponible dans le fichier JSON `files/zadig_statistiques.json`. "
   ]
  },
  {
   "cell_type": "code",
   "execution_count": null,
   "metadata": {},
   "outputs": [],
   "source": [
    "#-------------------------#\n",
    "#    Écrire le code ici   #\n",
    "#-------------------------#\n",
    "\n",
    "\n"
   ]
  },
  {
   "cell_type": "markdown",
   "metadata": {
    "deletable": false,
    "editable": false,
    "run_control": {
     "frozen": true
    }
   },
   "source": [
    "### Exercice 2 : Codage de Morse***"
   ]
  },
  {
   "cell_type": "markdown",
   "metadata": {
    "deletable": false,
    "editable": false,
    "run_control": {
     "frozen": true
    }
   },
   "source": [
    "Le Morse est un schéma de codage qui utilise des tirets et des points pour représenter les chiffres et les lettres. \n",
    "\n",
    "Le dictionnaire donnant la correspondance entre les lettres majuscules et les chiffres et leur codage est stocké dans le fichier `files/codage_morse.json`. "
   ]
  },
  {
   "cell_type": "markdown",
   "metadata": {
    "deletable": false,
    "editable": false,
    "run_control": {
     "frozen": true
    }
   },
   "source": [
    "#### Question 1 : Chargement du dictionnaire de codage\n",
    "Ecrire les instructions permettant de charger le fichier `files/codage_morse.json` et d'affecter son contenu à une variable `codage`. Afficher le contenu de `codage`."
   ]
  },
  {
   "cell_type": "code",
   "execution_count": null,
   "metadata": {},
   "outputs": [],
   "source": [
    "#-------------------------#\n",
    "#    Écrire le code ici   #\n",
    "#-------------------------#\n",
    "\n",
    "\n"
   ]
  },
  {
   "cell_type": "markdown",
   "metadata": {
    "deletable": false,
    "editable": false,
    "run_control": {
     "frozen": true
    }
   },
   "source": [
    "#### Question 2 : Codage d'un texte en Morse \n",
    "\n",
    "Ecrire une fonction `morse` qui prend en paramètre un texte, transforme les minuscules en majuscules et renvoie une chîne de caractères correspondant à la traduction de la suite de lettres et de chiffres du texte en code Morse, en ajoutant un espace après chaque suite de tirets et de points y compris à la fin du mot. La fonction ignorera tous les caractères qui ne sont pas des lettres ou des chiffres. (On pourra adapter la fonction définie à l'Exercice 2 du TP 10).\n",
    "\n",
    "Utiliser cette fonction pour coder en Morse `Hello world !`."
   ]
  },
  {
   "cell_type": "code",
   "execution_count": null,
   "metadata": {},
   "outputs": [],
   "source": [
    "#-------------------------#\n",
    "#    Écrire le code ici   #\n",
    "#-------------------------#\n",
    "\n",
    "\n"
   ]
  },
  {
   "cell_type": "markdown",
   "metadata": {
    "deletable": false,
    "editable": false,
    "run_control": {
     "frozen": true
    }
   },
   "source": [
    "#### Question 3 : Construction du dictionnaire de décodage\n",
    "Ecrire les instructions permettant de fabriquer le dictionnaire permettant de décoder le code Morse.\n",
    "\n",
    "**Rappel** : Pour construire un dictionnaire il est possible de fusionner deux tableaux `clefs` et `valeurs` en utilisant la fonction `zip(clefs, valeurs)`."
   ]
  },
  {
   "cell_type": "code",
   "execution_count": null,
   "metadata": {},
   "outputs": [],
   "source": [
    "#-------------------------#\n",
    "#    Écrire le code ici   #\n",
    "#-------------------------#\n",
    "\n",
    "\n"
   ]
  },
  {
   "cell_type": "markdown",
   "metadata": {},
   "source": [
    "#### Question 4 : Décodage d'un texte en Morse \n",
    "\n",
    "Ecrire une fonction `decode_morse` qui prend en paramètre une chaîne de caractères correspondant à un code Morse et renvoie le décodage obtenu en utilisant le dictionnaire `decodage`.\n",
    "\n",
    "Utiliser cette fonction pour de coder le `mot` ci-dessous."
   ]
  },
  {
   "cell_type": "code",
   "execution_count": null,
   "metadata": {
    "deletable": false,
    "editable": false
   },
   "outputs": [],
   "source": [
    "mot =\".... . .-.. .-.. --- .-- --- .-. .-.. -.. \""
   ]
  },
  {
   "cell_type": "code",
   "execution_count": null,
   "metadata": {},
   "outputs": [],
   "source": [
    "#-------------------------#\n",
    "#    Écrire le code ici   #\n",
    "#-------------------------#\n",
    "\n",
    "\n"
   ]
  }
 ],
 "metadata": {
  "kernelspec": {
   "display_name": "Python 3",
   "language": "python",
   "name": "python3"
  },
  "language_info": {
   "codemirror_mode": {
    "name": "ipython",
    "version": 3
   },
   "file_extension": ".py",
   "mimetype": "text/x-python",
   "name": "python",
   "nbconvert_exporter": "python",
   "pygments_lexer": "ipython3",
   "version": "3.7.4"
  },
  "latex_envs": {
   "LaTeX_envs_menu_present": true,
   "autoclose": false,
   "autocomplete": true,
   "bibliofile": "biblio.bib",
   "cite_by": "apalike",
   "current_citInitial": 1,
   "eqLabelWithNumbers": true,
   "eqNumInitial": 1,
   "hotkeys": {
    "equation": "Ctrl-E",
    "itemize": "Ctrl-I"
   },
   "labels_anchors": false,
   "latex_user_defs": false,
   "report_style_numbering": false,
   "user_envs_cfg": false
  },
  "toc": {
   "base_numbering": 1,
   "nav_menu": {},
   "number_sections": true,
   "sideBar": true,
   "skip_h1_title": false,
   "title_cell": "Table of Contents",
   "title_sidebar": "Contents",
   "toc_cell": false,
   "toc_position": {},
   "toc_section_display": true,
   "toc_window_display": false
  }
 },
 "nbformat": 4,
 "nbformat_minor": 2
}
