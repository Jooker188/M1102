{
 "cells": [
  {
   "cell_type": "markdown",
   "metadata": {
    "deletable": false,
    "editable": false,
    "run_control": {
     "frozen": true
    }
   },
   "source": [
    "# <center> Chapitre 11 : Fichiers JSON </center>"
   ]
  },
  {
   "cell_type": "markdown",
   "metadata": {
    "deletable": false,
    "editable": false,
    "run_control": {
     "frozen": true
    }
   },
   "source": [
    "## Le format JSON"
   ]
  },
  {
   "cell_type": "markdown",
   "metadata": {
    "deletable": false,
    "editable": false,
    "run_control": {
     "frozen": true
    }
   },
   "source": [
    "Le format JavaScript Object Notation (JSON) est issu de la notation des objets dans le langage JavaScript. c'est un format de données très répandu permettant de stocker des données sous une forme structurée. Il ne comporte que des associations clés→valeurs (à l’instar des dictionnaires), ainsi que des listes ordonnées de valeurs (comme les listes en Python). Une valeur peut être une autre association clés→valeurs, une liste de valeurs, un entier, un nombre réel, une chaîne de caractères, un booléen ou une valeur nulle.Sa syntaxe est similaire à celle des dictionnaires Python."
   ]
  },
  {
   "cell_type": "code",
   "execution_count": null,
   "metadata": {
    "deletable": false,
    "editable": false
   },
   "outputs": [],
   "source": [
    "{\n",
    "   \"nom cours\" : \"BDP\",\n",
    "   \"theme\" : \"Algorithmique\",\n",
    "   \"etudiants\" : [\n",
    "              {\n",
    "               \"nom\" : \"Martin\",\n",
    "               \"prenom\" : \"Jean\",\n",
    "               \"Dept\" : \"95\" \n",
    "                },\n",
    "                {\n",
    "                \"nom\" : \"Mohamed\",\n",
    "                \"prenom\" : \"Ali\",\n",
    "                \"Dept\" : \"93\" \n",
    "                },\n",
    "                {\n",
    "                  \"nom\" : \"Lina\",\n",
    "                  \"prenom\" : \"Bertrand\",\n",
    "                  \"Dept\" : \"95\" \n",
    "                }\n",
    "              ]\n",
    "\n",
    "}"
   ]
  },
  {
   "cell_type": "markdown",
   "metadata": {
    "deletable": false,
    "editable": false,
    "run_control": {
     "frozen": true
    }
   },
   "source": [
    "**Important** : Pour manipuler les fichiers JSON, on utilise le module `json` de Python grâce à l'instruction ```from json import *``` ou ```import json ```."
   ]
  },
  {
   "cell_type": "markdown",
   "metadata": {
    "deletable": false,
    "editable": false,
    "run_control": {
     "frozen": true
    }
   },
   "source": [
    "### Lire un fichier JSON"
   ]
  },
  {
   "cell_type": "markdown",
   "metadata": {
    "deletable": false,
    "editable": false,
    "run_control": {
     "frozen": true
    }
   },
   "source": [
    "La fonction `load(f)` retourne le dictionnaire correspondant au fichier JSON représenté par la variable de flux `f`.\n",
    "\n",
    ">|  |  |\n",
    ">| :-- | :-- |\n",
    ">| `load(f)` | Retourne  le **dictionnaire** correspondant au fichier JSON représenté par la variable de flux `f`.|\n",
    "\n",
    "**Remarque** : Les clefs et les valeurs du dictionnaire créé par la fonction `load` ne sont pas nécessairement des chaînes de caractères.\n",
    "\n",
    "Voici un exemple d'utilisation de cette fonction."
   ]
  },
  {
   "cell_type": "code",
   "execution_count": null,
   "metadata": {
    "deletable": false,
    "editable": false
   },
   "outputs": [],
   "source": [
    "#1ère possibilité\n",
    "from json import *\n",
    "fichier = open (\"./files/bdp.json\",\"r\")\n",
    "cours = load(fichier)\n",
    "fichier.close()\n",
    "print (cours)\n",
    "\n",
    "print(type(cours))"
   ]
  },
  {
   "cell_type": "code",
   "execution_count": null,
   "metadata": {
    "deletable": false,
    "editable": false
   },
   "outputs": [],
   "source": [
    "#2ème possibilité\n",
    "import  json \n",
    "fichier = open (\"./files/bdp.json\",\"r\")\n",
    "cours = json.load(fichier)\n",
    "fichier.close()\n",
    "print (cours)"
   ]
  },
  {
   "cell_type": "markdown",
   "metadata": {
    "deletable": false,
    "editable": false,
    "run_control": {
     "frozen": true
    }
   },
   "source": [
    "Ainsi il est possible d'accéder aux éléments du dictionnaire comme suit : "
   ]
  },
  {
   "cell_type": "code",
   "execution_count": null,
   "metadata": {
    "deletable": false,
    "editable": false
   },
   "outputs": [],
   "source": [
    "print(cours['nom cours'])"
   ]
  },
  {
   "cell_type": "code",
   "execution_count": null,
   "metadata": {
    "deletable": false,
    "editable": false
   },
   "outputs": [],
   "source": [
    "print (cours['theme'])"
   ]
  },
  {
   "cell_type": "code",
   "execution_count": null,
   "metadata": {
    "deletable": false,
    "editable": false
   },
   "outputs": [],
   "source": [
    "identite=cours['etudiants']\n",
    "print(identite)"
   ]
  },
  {
   "cell_type": "markdown",
   "metadata": {
    "deletable": false,
    "editable": false,
    "run_control": {
     "frozen": true
    }
   },
   "source": [
    "Comme le resultat de la variable `identite` est un tableau, alors il est possible d'accéder aux éléments en utilisant l'accès direct ou en utilisant les boucles. "
   ]
  },
  {
   "cell_type": "code",
   "execution_count": null,
   "metadata": {
    "deletable": false,
    "editable": false
   },
   "outputs": [],
   "source": [
    "iddico=identite[0]\n",
    "print (iddico)\n",
    "print(len(iddico))"
   ]
  },
  {
   "cell_type": "code",
   "execution_count": null,
   "metadata": {
    "deletable": false,
    "editable": false
   },
   "outputs": [],
   "source": [
    "i=0\n",
    "while (i<len(identite)):\n",
    "    print(identite[i])\n",
    "    i=i+1"
   ]
  },
  {
   "cell_type": "markdown",
   "metadata": {
    "deletable": false,
    "editable": false,
    "run_control": {
     "frozen": true
    }
   },
   "source": [
    "Cette écriture est équivalente à une écriture un peu complexe "
   ]
  },
  {
   "cell_type": "code",
   "execution_count": null,
   "metadata": {
    "deletable": false,
    "editable": false
   },
   "outputs": [],
   "source": [
    "print (cours['etudiants'][0])"
   ]
  },
  {
   "cell_type": "markdown",
   "metadata": {
    "deletable": false,
    "editable": false,
    "run_control": {
     "frozen": true
    }
   },
   "source": [
    "Puisque le résultat `iddico` est également un dictionnaire, alors il est possible d'accéder aux éléments: "
   ]
  },
  {
   "cell_type": "code",
   "execution_count": null,
   "metadata": {
    "deletable": false,
    "editable": false
   },
   "outputs": [],
   "source": [
    "print (iddico['nom'])\n",
    "print (iddico['Dept'])\n",
    "print (iddico['prenom'])"
   ]
  },
  {
   "cell_type": "markdown",
   "metadata": {},
   "source": [
    "### Écrire dans un fichier JSON"
   ]
  },
  {
   "cell_type": "markdown",
   "metadata": {
    "deletable": false,
    "editable": false,
    "run_control": {
     "frozen": true
    }
   },
   "source": [
    "La fonction `dumps(dictionnaire,sort_keys=False,indent=n)` transforme un dictionnaire ou une liste passé en paramètre en texte au format JSON. La variable `sort_keys` permet de trier (`True`) ou non (`False`) les clés du dictionnaire dans l’ordre alphabétique mises au format JSON avec une éventuelle indentation de n espaces (`indent=n`).<br>\n",
    "La fonction `dump(dictionnaire, fichier, indent=n)` permet d'enregistrer en texte au format JSON le dictionnaire directement dans le fichier précédemment ouvert, avec une éventuelle indentation."
   ]
  },
  {
   "cell_type": "code",
   "execution_count": null,
   "metadata": {
    "deletable": false,
    "editable": false
   },
   "outputs": [],
   "source": [
    "from json import *\n",
    "cours2 = {'nom cours': 'Java',\n",
    " 'theme': 'Algorithmique',\n",
    " 'etudiants': [{'nom': 'Martin', 'prenom': 'Jean', 'Dept': '95'},\n",
    "  {'nom': 'Mohamed', 'prenom': 'Ali', 'Dept': '93'},\n",
    "  {'nom': 'dupond', 'prenom': 'Bertrand', 'Dept': '95'}]}"
   ]
  },
  {
   "cell_type": "code",
   "execution_count": null,
   "metadata": {
    "deletable": false,
    "editable": false
   },
   "outputs": [],
   "source": [
    "cours2_json = dumps(cours2,sort_keys=True,indent=4)\n",
    "print(cours2_json)"
   ]
  },
  {
   "cell_type": "code",
   "execution_count": null,
   "metadata": {
    "deletable": false,
    "editable": false
   },
   "outputs": [],
   "source": [
    "fichier2 = open (\"./files/coursjava.json\",\"w\")\n",
    "\n",
    "dump(cours2, fichier2, indent=4)\n",
    "\n",
    "fichier2.close()"
   ]
  },
  {
   "cell_type": "markdown",
   "metadata": {
    "deletable": false,
    "editable": false,
    "run_control": {
     "frozen": true
    }
   },
   "source": [
    "- Sur ce thème : **Exercices 1, 2 et 3, TD 11**"
   ]
  }
 ],
 "metadata": {
  "kernelspec": {
   "display_name": "Python 3",
   "language": "python",
   "name": "python3"
  },
  "language_info": {
   "codemirror_mode": {
    "name": "ipython",
    "version": 3
   },
   "file_extension": ".py",
   "mimetype": "text/x-python",
   "name": "python",
   "nbconvert_exporter": "python",
   "pygments_lexer": "ipython3",
   "version": "3.7.4"
  },
  "latex_envs": {
   "LaTeX_envs_menu_present": true,
   "autoclose": false,
   "autocomplete": true,
   "bibliofile": "biblio.bib",
   "cite_by": "apalike",
   "current_citInitial": 1,
   "eqLabelWithNumbers": true,
   "eqNumInitial": 1,
   "hotkeys": {
    "equation": "Ctrl-E",
    "itemize": "Ctrl-I"
   },
   "labels_anchors": false,
   "latex_user_defs": false,
   "report_style_numbering": false,
   "user_envs_cfg": false
  },
  "toc": {
   "base_numbering": 1,
   "nav_menu": {},
   "number_sections": false,
   "sideBar": false,
   "skip_h1_title": false,
   "title_cell": "Table of Contents",
   "title_sidebar": "Contents",
   "toc_cell": false,
   "toc_position": {},
   "toc_section_display": false,
   "toc_window_display": false
  }
 },
 "nbformat": 4,
 "nbformat_minor": 2
}
