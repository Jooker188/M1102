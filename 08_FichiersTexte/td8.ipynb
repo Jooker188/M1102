{
 "cells": [
  {
   "cell_type": "markdown",
   "metadata": {
    "deletable": false,
    "editable": false,
    "run_control": {
     "frozen": true
    }
   },
   "source": [
    "# <center> Chapitre 8 : Fichiers texte - TD </center>"
   ]
  },
  {
   "cell_type": "markdown",
   "metadata": {
    "deletable": false,
    "editable": false,
    "run_control": {
     "frozen": true
    }
   },
   "source": [
    "### Exercice 1 :  Lecture  dans un fichier\n",
    "Ecrire  un programme permettant de lire et de stocker dans une variable `water_index` la valeur entière de l'indicateur d'accès à une eau de qualité - `Access_to_improved_water_2015` (qui correspond à la 3ème colonne de données) de la 2ème ligne (c'est-à-dire la 1ère ligne de *vraies* données) du fichier `files/indicateurs.csv`\n",
    "\n",
    "Lors de l'exécution, le programme doit produire  l'affichage suivant :\n",
    "\n",
    "```python\n",
    "print(water_index)\n",
    "9.0\n",
    "```"
   ]
  },
  {
   "cell_type": "code",
   "execution_count": null,
   "metadata": {},
   "outputs": [],
   "source": [
    "#-------------------------#\n",
    "#    Écrire le code ici   #\n",
    "#-------------------------#\n",
    "\n",
    "\n"
   ]
  },
  {
   "cell_type": "markdown",
   "metadata": {
    "deletable": false,
    "editable": false,
    "run_control": {
     "frozen": true
    }
   },
   "source": [
    "#### Question 2 : Extraire une colonne de données\n",
    "\n",
    "Ecrire un programme permettant d'extraire et de stocker dans un `tab_water` un tableau contenant les indicateurs d'accès à une eau de qualité de l'ensemble des pays listés dans le fichier `files/indicateur.csv`."
   ]
  },
  {
   "cell_type": "code",
   "execution_count": null,
   "metadata": {},
   "outputs": [],
   "source": [
    "#-------------------------#\n",
    "#    Écrire le code ici   #\n",
    "#-------------------------#\n",
    "\n",
    "\n"
   ]
  },
  {
   "cell_type": "markdown",
   "metadata": {
    "deletable": false,
    "editable": false,
    "run_control": {
     "frozen": true
    }
   },
   "source": [
    "#### Question 3 : Statistiques sur l'eau \n",
    "Compléter le programme précédent pour qu'il produise un rapport d'analyse de l'indicateur d'accès à de l'eau de qualité sur tous les pays listés dans le fichier `files/indicateur.csv` en donnant pour cet indicateur :\n",
    "- la valeur minimale,\n",
    "- la valeur maximale,\n",
    "- la moyenne \n",
    "de ces valeurs."
   ]
  },
  {
   "cell_type": "code",
   "execution_count": null,
   "metadata": {},
   "outputs": [],
   "source": [
    "#-------------------------#\n",
    "#    Écrire le code ici   #\n",
    "#-------------------------#\n",
    "\n",
    "\n"
   ]
  },
  {
   "cell_type": "markdown",
   "metadata": {
    "deletable": false,
    "editable": false,
    "run_control": {
     "frozen": true
    }
   },
   "source": [
    "### Exercice 2 :  Écriture/Lecture dans un fichier*\n",
    "\n",
    "#### Question 1\n",
    "Définir un programme \n",
    "- qui écrit dans un fichier tous les entiers strictement inférieurs à 10 000,  chaque entier étant sur une ligne différente du fichier. \n",
    "- puis qui lit le contenu de ce fichier et stocke toutes les valeurs dans un tableau. **NB** : Ce sont des entiers que l'onveut stocker pas des chaînes de caractères.\n",
    "- et qui finalement affiche le tableau obtenu."
   ]
  },
  {
   "cell_type": "code",
   "execution_count": null,
   "metadata": {},
   "outputs": [],
   "source": [
    "#-------------------------#\n",
    "#    Écrire le code ici   #\n",
    "#-------------------------#\n",
    "\n",
    "\n"
   ]
  },
  {
   "cell_type": "markdown",
   "metadata": {
    "deletable": false,
    "editable": false,
    "run_control": {
     "frozen": true
    }
   },
   "source": [
    "#### Question 2\n",
    "Faire la même chose qu'à la question précédente, mais cette fois-ci tous les entiers sont sur une même ligne et sont séparés par un `;`. Le fichier obtenu est un fichier CSV et non plus un fichier texte."
   ]
  },
  {
   "cell_type": "code",
   "execution_count": null,
   "metadata": {},
   "outputs": [],
   "source": [
    "#-------------------------#\n",
    "#    Écrire le code ici   #\n",
    "#-------------------------#\n",
    "\n",
    "\n"
   ]
  },
  {
   "cell_type": "markdown",
   "metadata": {
    "deletable": false,
    "editable": false,
    "run_control": {
     "frozen": true
    }
   },
   "source": [
    "#### Question 3 : Ecriture dans un fichier existant\n",
    "Définir un programme  qui ajoute au fichier de la Question 1 les entiers 10 000 à 10 100 (non inclus),  chaque entier étant sur une ligne différente du fichier. "
   ]
  },
  {
   "cell_type": "code",
   "execution_count": null,
   "metadata": {},
   "outputs": [],
   "source": [
    "#-------------------------#\n",
    "#    Écrire le code ici   #\n",
    "#-------------------------#\n",
    "\n",
    "\n"
   ]
  },
  {
   "cell_type": "markdown",
   "metadata": {
    "deletable": false,
    "editable": false,
    "run_control": {
     "frozen": true
    }
   },
   "source": [
    "# Pour aller plus loin"
   ]
  },
  {
   "cell_type": "markdown",
   "metadata": {
    "deletable": false,
    "editable": false,
    "run_control": {
     "frozen": true
    }
   },
   "source": [
    "### Exercice 3 : Ecriture formatée**\n",
    "\n",
    "#### Question 1 : Créer un fichier CSV\n",
    "Un boutique de sport procède à l'inventaire des articles disponibles et stocke les données recueillies dans le tableau `inventaire` ci-dessous."
   ]
  },
  {
   "cell_type": "code",
   "execution_count": null,
   "metadata": {},
   "outputs": [],
   "source": [
    "inventaire = [[\"Ballon de foot\"     , 2   ,\"bleu\"],\n",
    "              [\"Ballon de volley\"   , 4   ,\"jaune\"],\n",
    "              [\"Boules de pétantque\", 1000, \"gris\"],\n",
    "              [\"Ballons de rugby\"   , 3   ,\"marron\"],\n",
    "              [\"Balles de tennis\"   , 100 , \"jaune\"]]"
   ]
  },
  {
   "cell_type": "markdown",
   "metadata": {
    "deletable": false,
    "editable": false,
    "run_control": {
     "frozen": true
    }
   },
   "source": [
    "Ecrire un programme permettant d'écrire dans un dossier `files/inventaire.csv` début d'inventaire. Il sera précisé sur la première ligne que la première colonne correspond au nom de l'article, la seconde au nombre d'items disponibles et la troisième à la couleur des articles. Le séparateur sera un `;`."
   ]
  },
  {
   "cell_type": "code",
   "execution_count": null,
   "metadata": {},
   "outputs": [],
   "source": [
    "#-------------------------#\n",
    "#    Écrire le code ici   #\n",
    "#-------------------------#\n",
    "\n",
    "\n"
   ]
  },
  {
   "cell_type": "markdown",
   "metadata": {
    "deletable": false,
    "editable": false,
    "run_control": {
     "frozen": true
    }
   },
   "source": [
    "#### Question 2 : Ecrire dans un fichier CSV\n",
    "\n",
    "L'inventaire se poursuit et ilfaut ajouter les données ci-dessous au fichier `files/inventaire.csv`."
   ]
  },
  {
   "cell_type": "code",
   "execution_count": null,
   "metadata": {},
   "outputs": [],
   "source": [
    "inventaire2 = [[\"Ballon de basket\"   , 7   ,\"orange\"],\n",
    "               [\"Ballon de waterpolo\", 8   ,\"blanc\" ],\n",
    "               [\"Boules de bowling\"  , 17  , \"blanc\"],\n",
    "               [\"Balles de golf\"     , 112 , \"jaune\"]]"
   ]
  },
  {
   "cell_type": "markdown",
   "metadata": {
    "deletable": false,
    "editable": false,
    "run_control": {
     "frozen": true
    }
   },
   "source": [
    "- Ecrire les instructions permettant l'ajout de ces données au fichier créé à la Question 1."
   ]
  },
  {
   "cell_type": "code",
   "execution_count": null,
   "metadata": {},
   "outputs": [],
   "source": [
    "#-------------------------#\n",
    "#    Écrire le code ici   #\n",
    "#-------------------------#\n",
    "\n",
    "\n"
   ]
  },
  {
   "cell_type": "markdown",
   "metadata": {
    "deletable": false,
    "editable": false,
    "run_control": {
     "frozen": true
    }
   },
   "source": [
    "#### Question 3 : Analyser les données\n",
    "\n",
    "A partir du fichier `files/inventaire.csv`, indiquer le nombre d'articles en stock. "
   ]
  },
  {
   "cell_type": "code",
   "execution_count": null,
   "metadata": {},
   "outputs": [],
   "source": [
    "#-------------------------#\n",
    "#    Écrire le code ici   #\n",
    "#-------------------------#\n",
    "\n",
    "\n"
   ]
  }
 ],
 "metadata": {
  "kernelspec": {
   "display_name": "Python 3",
   "language": "python",
   "name": "python3"
  },
  "language_info": {
   "codemirror_mode": {
    "name": "ipython",
    "version": 3
   },
   "file_extension": ".py",
   "mimetype": "text/x-python",
   "name": "python",
   "nbconvert_exporter": "python",
   "pygments_lexer": "ipython3",
   "version": "3.7.4"
  },
  "latex_envs": {
   "LaTeX_envs_menu_present": true,
   "autoclose": false,
   "autocomplete": true,
   "bibliofile": "biblio.bib",
   "cite_by": "apalike",
   "current_citInitial": 1,
   "eqLabelWithNumbers": true,
   "eqNumInitial": 1,
   "hotkeys": {
    "equation": "Ctrl-E",
    "itemize": "Ctrl-I"
   },
   "labels_anchors": false,
   "latex_user_defs": false,
   "report_style_numbering": false,
   "user_envs_cfg": false
  },
  "toc": {
   "base_numbering": 1,
   "nav_menu": {},
   "number_sections": true,
   "sideBar": true,
   "skip_h1_title": false,
   "title_cell": "Table of Contents",
   "title_sidebar": "Contents",
   "toc_cell": false,
   "toc_position": {},
   "toc_section_display": true,
   "toc_window_display": false
  }
 },
 "nbformat": 4,
 "nbformat_minor": 2
}
