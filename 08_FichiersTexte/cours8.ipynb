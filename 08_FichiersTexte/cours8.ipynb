{
 "cells": [
  {
   "cell_type": "markdown",
   "metadata": {
    "deletable": false,
    "editable": false,
    "run_control": {
     "frozen": true
    }
   },
   "source": [
    "# <center> Chapitre 8 : Fichiers texte </center>"
   ]
  },
  {
   "cell_type": "markdown",
   "metadata": {
    "deletable": false,
    "editable": false,
    "run_control": {
     "frozen": true
    }
   },
   "source": [
    "# Lecture et écriture dans les fichiers\n",
    "\n",
    "Les outils informatiques ont été développés dans le but de travailler sur de gros volumes de données. Les données ne sont pas saisies par l'utilisateur lors de l'exécution du programme mais le plus souvent lues dans des fichiers, puis stockées dans des structures de données telles que les tableaux ou les dictionnaires. \n",
    "\n",
    "Les fichiers permettent en effet de stocker de façon stable de l'information dans un système informatique. Ces fichiers peuvent prendre différents formats. On n'utilise dans ce cours que trois types de fichiers, mais les règles présentées ici sont assez facilement généralisables à d'autres formats:\n",
    "- les fichiers `texte` non formatés, c'est à dire des fichiers dont le contenu est directement lisible par un être humain qui ouvrirait le fichier avec un éditeur de texte simple ne respectant pas de format particulier,\n",
    "- les fichiers `CSV` qui sont des fichiers texte respectant un format particulier (données adapté aux données tabulaires); plusprécisément, chaque ligne du tableau correspond à une ligne du fichier et sur chaque ligne les valeurs des différentes colonnes sont séparées par un délimiteur (`,`ou `;` en général). Quand le délimiteur est une tabulation (`\\t`) on parle parfois de fichier `TSV`."
   ]
  },
  {
   "cell_type": "markdown",
   "metadata": {
    "deletable": false,
    "editable": false,
    "run_control": {
     "frozen": true
    }
   },
   "source": [
    "**Exemple** : Les 6 premières lignes du fichier texte  `data/indicateurs.csv` au format `CSV` ayant le `;` comme délimiteur"
   ]
  },
  {
   "cell_type": "code",
   "execution_count": null,
   "metadata": {
    "deletable": false,
    "editable": false
   },
   "outputs": [],
   "source": [
    "Pays;Access_to_improved_sanitation_2015;Access_to_improved_water_2015;Population_undernourished_2015;Dependency_ratio_2018;Extremepoverty_2011\n",
    "Afghanistan;31;9;55;3;26;8;82;6741025;56;7\n",
    "Albania;93;2;95;1;5;44;30454434;0;46\n",
    "Algeria;87;6;83;6;5;56;04993325;6;8\n",
    "Angola;51;6;49;14;2;96;39568125;43;37\n",
    "Argentina;96;4;99;1;5;56;31475832;1;41"
   ]
  },
  {
   "cell_type": "markdown",
   "metadata": {
    "deletable": false,
    "editable": false,
    "run_control": {
     "frozen": true
    }
   },
   "source": [
    "- les fichiers `JSON` qui sont aussi des fichiers texte respectant un format particulier adapté aux données de type association clé/valeur (*cf.* Chapitre 11).\n",
    "\n",
    "De nombreux autres types de fichiers existent dont certains sont dans un format binaire (pdf, png, gif). Afin de lire ces fichiers il faut le plus souvent disposer d'une librairie adaptée proposant des fonctions de lecture appropriées au format. Dans ce cas, la documentation de la librairie indique les fonctions d'intéraction existantes et les structures de données qui leur sont associées.\n",
    "\n",
    "## Généralités\n",
    "Afin d'importer des données depuis un fichier vers la mémoire d'un programme, il faut:\n",
    "- un sous-programme:\n",
    "    - interagissant avec le système de fichier pour localiser le fichier dans la mémoire - - sur un disque dur par exemple - et l'*ouvrir* afin de pouvoir lire/écrire son contenu,\n",
    "    - permettant de naviguer dans le fichier *i.e.* de déplacer le curseur de lecture/écriture - pour passer d'un caractère à l'autre, d'un mot à l'autre ou d'une ligne à l'autre, ...\n",
    "    - permettant de stocker dans une variable de la mémoire du programme une donnée lue dans le fichier pour pouvoir le cas échéant l'utiliser dans le programme ou de lire une donnée d'une variable de la mémoire du programme pour l'écrire dans le fichier.\n",
    "- dans le cas des fichiers formatés, il faut aussi un algorithme permettant de lire le contenu du fichier en suivant son format et ainsi structurer dans la mémoire du programmes les différentes informations encodées dans le format.\n",
    "\n",
    "**NB :** Les opérations de lecture/écriture sont exécutées à la position du curseur.\n",
    "\n",
    "## Interaction avec le système de fichiers\n",
    "\n",
    "Pour qu'un programme puisse utiliser les données inscrites dans un fichier, ce dernier doit pouvoir être *accessible* et *lu* par le programme. De façon symétrique, un programme souhaitant *sauvegarder* des données doit pouvoir accéder à l'emplacement du fichier les *écrire* des données dans celui-ci.\n",
    "\n",
    "Dans le cas de la *lecture* comme dans le cas de *l'écriture*, le fichier est identifié par un chemin (appelé `path`) qui est composé de son nom précédé de la séquence des répertoires de l'arborescence du système de fichiers qu'il faut traverser pour l'atteindre. Le chemin peut être donné comme un chemin absolu ou relatif. On n'utilise ici que des chemins relatifs au répertoire contenant le notebook (qui est supposé contenir un répertoire `files/`).\n",
    "\n",
    "### Ouverture d'un fichier \n",
    "La mécanique de la lecture et de l'écriture d'un fichier sont assez similaires et introduites ci-dessous:\n",
    "\n",
    "La première étape consiste à ouvrir le fichier avec la fonction `open()`. \n",
    "\n",
    ">|  |  |\n",
    ">| :-- | :-- |\n",
    ">| `open(file_path,mode)` | Retourne un *objet fichier* (ou *flux*) qui doit être affecté à une variable. Cette variable peut être considérée comme un curseur (de lecture ou d'écriture) placé dans le fichier.|\n",
    "\n",
    "La fonction `open()` prend 2 paramètres:\n",
    "- le premier paramètre est le nom du fichier. Il s'agit d'une chaîne de caractères qui indique le chemin du fichier (`path`).\n",
    "- le second paramètre indique le mode d'ouverture du fichier. Il y a 4 modes d'ouverture de fichier possibles:\n",
    "\n",
    "| Mode  | Description | Remarques |\n",
    "|--------|-------------------|---------------|\n",
    "|`r`     | Read - Valeur par défaut. Ouvre le fichier en lecture et renvoie une erreur si le fichier n'existe pas.| |\n",
    "|`w`     | Write - Ouvre le fichier en écriture et crée le fichier si il ne le trouve pas.| **Attention** Si le fichier prééxiste, le contenu intial du fichier est écrasé par le nouveau contenu.|\n",
    "|`a`     | Append - Ouvre le fichier en écriture à la fin  et crée le fichier si il ne le trouve pas.| **Attention** Si le fichier prééxiste, le contenu intial du fichier est préservé, le nouveau contenu est écrit à la suite du contenu prééxistant.|\n",
    "|`x`     | Create - Crée le fichier ou retourne une erreur si il existe déjà.| |\n",
    "\n",
    "**NB:** Lors de l'ouverture d'un fichier, le curseur est automatiquement positionné au début du fichier *i.e.* devant le premier caratère.\n",
    "\n",
    "Voici un exemple de procédure d'ouverture d'un fichier en lecture"
   ]
  },
  {
   "cell_type": "code",
   "execution_count": null,
   "metadata": {
    "deletable": false,
    "editable": false
   },
   "outputs": [],
   "source": [
    "# Définition du chemin vers le fichier\n",
    "path = \"files/lorem.txt\"\n",
    "# Définition du mode d'ouverture du fichier en lecture\n",
    "mode = 'r'\n",
    "# Ouverture du fichier et association du flux à une variable\n",
    "f_input = open(path, mode)\n",
    "f_input.close() #Il faut fermer le dossier pour exécuter la cellule"
   ]
  },
  {
   "cell_type": "markdown",
   "metadata": {
    "deletable": false,
    "editable": false,
    "run_control": {
     "frozen": true
    }
   },
   "source": [
    "A ce moment de l'exécution du programme une variable `f_input` est définie dans la mémoire et permet d'accéder au contenu du fichier en lecture au moyen de différentes fonctions.\n",
    "\n",
    "### Fermeture du fichier\n",
    "Tout fichier ouvert par un programme (en écriture comme en lecture) **DOIT** être fermé par le programme. Cette fermeture doit avoir lieu au plus tôt, dès que le programme n'a plus à écrire ou lire dans le fichier et dans tout les cas avant la fin de l'exécution du programme. La fermeture du fichier s'opère au moyen de la fonction `close` et du nom de la variable fichier. Il est conseillé d'écrire l'instruction `close` au même moment que l'instruction `open`:\n",
    "\n",
    ">|  |  |\n",
    ">| :-- | :-- |\n",
    ">| `f.close()` | Ferme le flux vers le fichier enregistré dans la variable `f`.|"
   ]
  },
  {
   "cell_type": "markdown",
   "metadata": {
    "deletable": false,
    "editable": false,
    "run_control": {
     "frozen": true
    }
   },
   "source": [
    "Ainsi l'instruction \n",
    "```\n",
    "f_input.close()\n",
    "```\n",
    "permet de fermet le fichier `f_input`."
   ]
  },
  {
   "cell_type": "markdown",
   "metadata": {
    "deletable": false,
    "editable": false,
    "run_control": {
     "frozen": true
    }
   },
   "source": [
    "### Cadre de lecture et d'écriture \n",
    "Entre l'ouverture et la fermeture du fichier, selon le mode d'ouverture choisie, le programme peut lire ou écrire des données dans le fichier."
   ]
  },
  {
   "cell_type": "code",
   "execution_count": null,
   "metadata": {
    "deletable": false,
    "editable": false
   },
   "outputs": [],
   "source": [
    "# ----------- Ouverture du fichier -----------\n",
    "f = open('files/nom_du_fichier', \"r\")\n",
    "\n",
    "# <-----  Ici sont insérées les diverses instructions\n",
    "# <-----  de lecture ou d'écriture dans le fichier\n",
    "\n",
    "f.close()\n",
    "# ----------- Fermeture du fichier -----------"
   ]
  },
  {
   "cell_type": "markdown",
   "metadata": {
    "deletable": false,
    "editable": false,
    "run_control": {
     "frozen": true
    }
   },
   "source": [
    "### Lecture d'un fichier \n",
    "\n",
    "Deux fonctions permettent de lire le contenu d'un fichier. L'une (`readline()`) permet de lire le contenu du fichier ligne à ligne. L'autre (`readlines()`) permet de lire tout le contenu d'un fichier.\n",
    "\n",
    ">|  |  |\n",
    ">| :-- | :-- |\n",
    ">| `f.readline()` | Retourne la **chaîne de caractères** correspondant à la ligne du fichier située à la suite du curseur de la variable de flux `f` et avance le curseur jusqu'au début de la prochaine ligne. Retourne une chaîne vide si le curseur se trouve à la fin du fichier.|\n",
    ">| `f.readlines()` | Retourne un **tableau de chaînes de caractères** dont chaque valeur correspond à une ligne du fichier associé à la variable de flux `f`.|\n",
    "\n",
    "**Remarque** : Ces deux fonction retournent une ou un tableau de *chaînes de caractères*. Si l'on veut lire d'autre *types* de données il faut penser  à *caster* (avec les fonctions `int()`, `float()`, `bool()`,...) \n",
    "Lorsque le curseur de lecture atteint  à la fin du fichier, la fonction `readline` renvoie une chaîne vide `\"\"`.\n",
    "\n",
    "**NB** :  Une ligne vide contient au minimum un caractère, le caractère non imprimé de retour à la ligne `'\\n'`. "
   ]
  },
  {
   "cell_type": "markdown",
   "metadata": {
    "deletable": false,
    "editable": false,
    "run_control": {
     "frozen": true
    }
   },
   "source": [
    "Voici un programme permettant de lire et d'afficher les deux premières lignes du fichier `files/indicateurs.csv`."
   ]
  },
  {
   "cell_type": "code",
   "execution_count": null,
   "metadata": {
    "deletable": false,
    "editable": false
   },
   "outputs": [],
   "source": [
    "# ----------- Ouverture du fichier -----------\n",
    "f_input = open( 'files/indicateurs.csv' , \"r\")\n",
    "\n",
    "ligne_1 = f_input.readline() # Lecture de la première ligne\n",
    "ligne_2 = f_input.readline() # Lecture de la deuxième ligne\n",
    "\n",
    "f_input.close()\n",
    "# ----------- Fermeture du fichier -----------\n",
    "print(ligne_1)              # Affichage de la première ligne\n",
    "print(\"------------\")\n",
    "print(ligne_2)              # Affichage de la deuxième ligne"
   ]
  },
  {
   "cell_type": "code",
   "execution_count": null,
   "metadata": {
    "deletable": false,
    "editable": false
   },
   "outputs": [],
   "source": [
    "# ----------- Ouverture du fichier -----------\n",
    "f_input = open( 'files/indicateurs.csv' , \"r\")\n",
    "\n",
    "# Lecture de tous le fichier, et stockage dans un tableau \n",
    "tab = f_input.readlines() \n",
    "f_input.close()\n",
    "# ----------- Fermeture du fichier -----------\n",
    "print(tab) # Affichage du tableau, chaque élement est une ligne \n"
   ]
  },
  {
   "cell_type": "markdown",
   "metadata": {
    "deletable": false,
    "editable": false,
    "run_control": {
     "frozen": true
    }
   },
   "source": [
    "**Parcours d'un fichier ligne par ligne jusqu'à sa dernière ligne**\n",
    "```\n",
    "f = open(path, mode)\n",
    "li = f.readline()\n",
    "while( '' != li ) :\n",
    "    operations ...\n",
    "    li = f.readline()\n",
    "f.close()```"
   ]
  },
  {
   "cell_type": "markdown",
   "metadata": {
    "deletable": false,
    "editable": false,
    "run_control": {
     "frozen": true
    }
   },
   "source": [
    "#### Fonction utiles lors de la lecture \n",
    "\n",
    ">|  |  |\n",
    ">| :---- | :-- |\n",
    ">| chaine.strip()           | supprime espaces et `'\\n'` en début et fin de `'chaine'` |\n",
    ">| chaine.split(separateur) | sépare la `'chaine'` où il y a un séparateur et retourne le tableau des chaines obtenues. |\n",
    "\n",
    "**Exemples**"
   ]
  },
  {
   "cell_type": "code",
   "execution_count": null,
   "metadata": {
    "deletable": false,
    "editable": false
   },
   "outputs": [],
   "source": [
    "li = \"28;Septembre;2022;13h45;15h45\"\n",
    "print(li)\n",
    "tab_li=li.split(';')\n",
    "print(tab_li)"
   ]
  },
  {
   "cell_type": "code",
   "execution_count": null,
   "metadata": {
    "deletable": false,
    "editable": false
   },
   "outputs": [],
   "source": [
    "chaine = \" Bonjour \\n\"\n",
    "print(chaine)\n",
    "chaine=chaine.strip()\n",
    "print(chaine)"
   ]
  },
  {
   "cell_type": "markdown",
   "metadata": {
    "deletable": false,
    "editable": false,
    "run_control": {
     "frozen": true
    }
   },
   "source": [
    "- Sur ce thème : **Exercice 1, TD 8**."
   ]
  },
  {
   "cell_type": "markdown",
   "metadata": {
    "deletable": false,
    "editable": false,
    "run_control": {
     "frozen": true
    }
   },
   "source": [
    "### Écriture dans un fichier\n",
    "\n",
    "L'écriture des données dans un fichier est une procédure qui suit le modèle suivant :\n",
    "- Ouverture du fichier en écriture :"
   ]
  },
  {
   "cell_type": "code",
   "execution_count": null,
   "metadata": {
    "deletable": false,
    "editable": false
   },
   "outputs": [],
   "source": [
    "f_output = open('files/test_ecriture','w')"
   ]
  },
  {
   "cell_type": "markdown",
   "metadata": {
    "deletable": false,
    "editable": false,
    "run_control": {
     "frozen": true
    }
   },
   "source": [
    "Dès que cette instruction est évaluée, un fichier vide est créé à l'emplacement indiqué dans le système de fichier de l'ordinateur. \n",
    "\n",
    "- Ecriture de texte dans le fichier :\n",
    "\n",
    "Il est alors possible d'écrire dans un fichier au moyen de la fonction `write` et de la variable de flux associée.\n",
    "\n",
    ">|  |  |\n",
    ">| :-- | :-- |\n",
    ">| `f.write(s)` | écrit dans le fichier lié à la variable de flux `f` la chaîne de caractères `s`.|\n",
    "\n",
    "**Remarque** : La fonction `write`n'écrit que des *chaînes de caractères*. Si l'on veut écrire d'autre *types* de données il faut penser à les *caster* (avec la fonction `str()`). \n",
    "\n",
    "**Exemple** : L'instruction suivante écrit la chaîne de caractère `'Bonjour \\n'` dans le fichier `files/test_ecriture'`:"
   ]
  },
  {
   "cell_type": "code",
   "execution_count": null,
   "metadata": {
    "deletable": false,
    "editable": false
   },
   "outputs": [],
   "source": [
    "f_output.write('Bonjour \\n')"
   ]
  },
  {
   "cell_type": "markdown",
   "metadata": {
    "deletable": false,
    "editable": false,
    "run_control": {
     "frozen": true
    }
   },
   "source": [
    "Il est possible que la chaîne `'Bonjour \\n'` ne soit pas écrite immédiatement dans le fichier. Certain langage ne procède à l'écriture effective dans le fichier que lorsqu'il y a suffisament de choses à écrire pour limiter les accès disque qui prennent du temps. Ces systèmes conservent les éléments à écrire dans un tampon et lorsque celui-ci est plein, il écrit dans le fichier le contenu du tampon et vide le tampon. Il est possible de forcer l'écriture du tampon dans le fichier en utilisant la fonction `flush` (par exemple avec une instruction de la forme: `f_output.flush()`)\n",
    "\n",
    ">|  |  |\n",
    ">| :-- | :-- |\n",
    ">| `f.flush()` | écrit le contenu du tampon dans le fichier lié à la  variable de flux  `f` et vide le tampon.|\n",
    "\n",
    "- Fermeture du fichier :\n",
    "\n",
    "Dans tout les cas, lorsque le flux du fichier est fermé, le contenu du tampon est écrit dans le fichier. Ainsi après l'exécution de l'instruction `close`, le fichier contient la chaîne de caractère `'Bonjour \\n'`."
   ]
  },
  {
   "cell_type": "code",
   "execution_count": null,
   "metadata": {
    "deletable": false,
    "editable": false
   },
   "outputs": [],
   "source": [
    "f_output.close()"
   ]
  },
  {
   "cell_type": "markdown",
   "metadata": {
    "deletable": false,
    "editable": false,
    "run_control": {
     "frozen": true
    }
   },
   "source": [
    "Il est possible d'**écrire à la fin d'un fichier existant** au moyen du mode d'ouverture `'a'`(pour append)."
   ]
  },
  {
   "cell_type": "code",
   "execution_count": null,
   "metadata": {
    "deletable": false,
    "editable": false
   },
   "outputs": [],
   "source": [
    "f_output = open( 'files/test_ecriture' , 'a')\n",
    "i = 0\n",
    "while( i < 10 ) :\n",
    "    f_output.write(str(2*i+1)+'\\n')\n",
    "    i += 1\n",
    "f_output.close()"
   ]
  },
  {
   "cell_type": "markdown",
   "metadata": {
    "deletable": false,
    "editable": false,
    "run_control": {
     "frozen": true
    }
   },
   "source": [
    "La fonction `write()` n'ajoute pas de retour à la ligne (`'\\n'`) comme la fonction `print()`. Pour **écrire plusieurs ligne dans un fichier**, il faut écrire explicitement introduire des caractère spéciaux `'\\n'` dans les chaînes de caractères."
   ]
  },
  {
   "cell_type": "markdown",
   "metadata": {
    "deletable": false,
    "editable": false,
    "run_control": {
     "frozen": true
    }
   },
   "source": [
    "A l'issue de ces deux opérations d'écriture dans ce même fichier `'files/test_ecriture'`, le contenu de celui-ci est le suivant:\n",
    "```\n",
    "Bonjour \n",
    "1\n",
    "3\n",
    "5\n",
    "7\n",
    "9\n",
    "11\n",
    "13\n",
    "15\n",
    "17\n",
    "19\n",
    "```"
   ]
  },
  {
   "cell_type": "markdown",
   "metadata": {
    "deletable": false,
    "editable": false,
    "run_control": {
     "frozen": true
    }
   },
   "source": [
    "- Sur ce thème : **Exercice 2, TD8**"
   ]
  },
  {
   "cell_type": "markdown",
   "metadata": {},
   "source": [
    "### Ecriture formatée"
   ]
  },
  {
   "cell_type": "markdown",
   "metadata": {
    "deletable": false,
    "editable": false,
    "run_control": {
     "frozen": true
    }
   },
   "source": [
    "Dans les fichiers tabulaires la première ligne contient en générale la description des données contenues dans le fichier en précisant le nom de chaque colonne. \n",
    "Chaque ligne suivante correspond à la description d'un élément sous forme d'une liste de données, chaque élément sur la ligne correspondant à une valeur pour une colonne donnée. Sur une ligne, les valeurs des différentes colonnes sont séparées par un *séparateur* unique qui facilite le travail de découpage (parsing) lors de la lecture du fichier (ex. une virgule, un point-virgule, une tabulation, un pipe ou tout autre caractère n'entrant pas dans la description des données).\n",
    "\n",
    "Dans certain cas, notamment lorsque l'on conçoit des programmes écrivant des fichiers formatés, on a besoin de chaînes de caractères *modèles* suivant un motif particulier. Ce formatage paramétré des chaînes de caractères est rendu possible par la fonction: `s.format()`.\n",
    "\n",
    ">|  |  |\n",
    ">| :-- | :-- |\n",
    ">| `s.format(params)`| retourne la chaîne de caractères formatée à partir de la *chaîne modèle* `s` en y substituant les *variables motifs* par les valeurs des paramètres `params`. |"
   ]
  },
  {
   "cell_type": "markdown",
   "metadata": {
    "deletable": false,
    "editable": false,
    "run_control": {
     "frozen": true
    }
   },
   "source": [
    "**Exemple** : On souhaite produire un fichier formaté à partir des données suivantes :"
   ]
  },
  {
   "cell_type": "code",
   "execution_count": 2,
   "metadata": {
    "deletable": false,
    "editable": false
   },
   "outputs": [],
   "source": [
    "p = [\n",
    "    ['Rick'  , 'Sanchez'   , \"75\", 'Male', 'Human'],\n",
    "    ['Morty' , 'Smith'     , \"14\", 'Male'  , 'Human'], \n",
    "    ['Summer', 'Smith'     , \"17\", 'Female', 'Human'], \n",
    "    ['Beth'  , 'Smith'     , \"34\", 'Female', 'Human'], \n",
    "    [''      , 'Birdperson', \"-1\", 'Male'  , 'Alien']\n",
    "]"
   ]
  },
  {
   "cell_type": "markdown",
   "metadata": {
    "deletable": false,
    "editable": false,
    "run_control": {
     "frozen": true
    }
   },
   "source": [
    "Cela peut-être fait de la manière  suivante avec la fonction `format`."
   ]
  },
  {
   "cell_type": "code",
   "execution_count": 3,
   "metadata": {
    "deletable": false,
    "editable": false
   },
   "outputs": [],
   "source": [
    "# définition du chemin d'écriture du fichier\n",
    "path = \"./files/rick_morty_1.csv\"\n",
    "# paramétrage du séparateur de colonnes\n",
    "sep = \";\"\n",
    "# définition du format de la ligne\n",
    "li = \"{0}\"+sep+\"{1}\"+sep+\"{2}\"+sep+\"{3}\"+sep+\"{4}\"+\"\\n\"\n",
    "\n",
    "# écriture du fichier\n",
    "f_out = open(path,'w')\n",
    "f_out.write(li.format(\"prenom\",\"nom\",\"age\",\"genre\",\"espèce\"))\n",
    "i=0\n",
    "while i<len(p):\n",
    "    f_out.write(li.format(p[i][0],p[i][1],p[i][2],p[i][3],p[i][4]))\n",
    "    i+=1\n",
    "f_out.close()"
   ]
  }
 ],
 "metadata": {
  "kernelspec": {
   "display_name": "Python 3",
   "language": "python",
   "name": "python3"
  },
  "language_info": {
   "codemirror_mode": {
    "name": "ipython",
    "version": 3
   },
   "file_extension": ".py",
   "mimetype": "text/x-python",
   "name": "python",
   "nbconvert_exporter": "python",
   "pygments_lexer": "ipython3",
   "version": "3.7.4"
  },
  "latex_envs": {
   "LaTeX_envs_menu_present": true,
   "autoclose": false,
   "autocomplete": true,
   "bibliofile": "biblio.bib",
   "cite_by": "apalike",
   "current_citInitial": 1,
   "eqLabelWithNumbers": true,
   "eqNumInitial": 1,
   "hotkeys": {
    "equation": "Ctrl-E",
    "itemize": "Ctrl-I"
   },
   "labels_anchors": false,
   "latex_user_defs": false,
   "report_style_numbering": false,
   "user_envs_cfg": false
  },
  "toc": {
   "base_numbering": 1,
   "nav_menu": {},
   "number_sections": true,
   "sideBar": true,
   "skip_h1_title": false,
   "title_cell": "Table of Contents",
   "title_sidebar": "Contents",
   "toc_cell": false,
   "toc_position": {},
   "toc_section_display": true,
   "toc_window_display": false
  }
 },
 "nbformat": 4,
 "nbformat_minor": 2
}
