{
 "cells": [
  {
   "cell_type": "markdown",
   "metadata": {
    "deletable": false,
    "editable": false,
    "run_control": {
     "frozen": true
    }
   },
   "source": [
    "# <center>Chapitre 12 : Boucles imbriquées</center>"
   ]
  },
  {
   "cell_type": "markdown",
   "metadata": {
    "deletable": false,
    "editable": false,
    "run_control": {
     "frozen": true
    }
   },
   "source": [
    "Le but de ce chapitre est d'apprendre à analyser un problème contenant des\n",
    "répétitions imbriquées et à utiliser des boucles imbriquées pour traiter\n",
    "ces configurations."
   ]
  },
  {
   "cell_type": "markdown",
   "metadata": {
    "deletable": false,
    "editable": false,
    "run_control": {
     "frozen": true
    }
   },
   "source": [
    "## Petit complément sur les boucles simples"
   ]
  },
  {
   "cell_type": "markdown",
   "metadata": {
    "deletable": false,
    "editable": false,
    "run_control": {
     "frozen": true
    }
   },
   "source": [
    "D'un point de vue algorithmique on peut distinguer deux types de boucles simples :\n",
    "\n",
    "* Les __boucles incrémentées à pas constant__ qu'on peut aussi appeler __boucles avec itérateur numérique__.\n",
    "   \n",
    "Ce type de boucle est utilisé lorsque le **nombre d'itération(s) est connu (ou calculé)** à l'avance, c'est-à-dire avant l'entrée dans la boucle. \n",
    "\n",
    "Elle s'écrit de la manière suivante :\n",
    "\n",
    "```python\n",
    "Instructions_ini # initialisation d'un itérateur entier                  \n",
    "while condition : #                 \n",
    "  Instruction 1                    \n",
    "  Instruction 2                    \n",
    "  ...                              \n",
    "  Instruction n    \n",
    "  Instructions_Incr # incrémentation de l'itérateur\n",
    "Instruction n+1                    \n",
    "```\n",
    "\n",
    "* La condition d'arrêt porte généralement sur la variable entière correspondant à l'itérateur. On teste souvent si la variable est inférieure ou supérieure à une borne (la limite). \n",
    "\n",
    "* L'itérateur doit être initialisé avant l'entrée dans la boucle. \n",
    "\n",
    "L'incrémentation de l'itérateur peut prendre plusieurs formes. Il est possible d'opérer des décréments plutôt que des incréments. Il est aussi possible d'incrémenter par des pas différents de 1.\n",
    "\n",
    "**Exemple** :"
   ]
  },
  {
   "cell_type": "code",
   "execution_count": null,
   "metadata": {
    "deletable": false,
    "editable": false
   },
   "outputs": [],
   "source": [
    "it = 1\n",
    "borne=11\n",
    "while it<borne :\n",
    "    print(it)\n",
    "    it+=2\n",
    "    \n",
    "    \n",
    "it=9\n",
    "borne=0\n",
    "while it>borne :\n",
    "    print(it)\n",
    "    it-=2"
   ]
  },
  {
   "cell_type": "markdown",
   "metadata": {
    "deletable": false,
    "editable": false,
    "run_control": {
     "frozen": true
    }
   },
   "source": [
    "Ce type de boucle est par exemple utile pour parcourir un tableau. "
   ]
  },
  {
   "cell_type": "markdown",
   "metadata": {
    "deletable": false,
    "editable": false,
    "run_control": {
     "frozen": true
    }
   },
   "source": [
    "* Les autres boucles parfois appelés *boucles conditionnelles* ont une condition d'arrêt booléenne plus générale et le **nombre d'itérations n'est pas connu à l'avance (il peut être de 0)**. \n",
    "\n",
    "**Exemple** :"
   ]
  },
  {
   "cell_type": "code",
   "execution_count": null,
   "metadata": {
    "deletable": false,
    "editable": false
   },
   "outputs": [],
   "source": [
    "print('entrez oui ou non')\n",
    "choix=input()\n",
    "while choix!=\"oui\" and choix!=\"non\" :\n",
    "    print('entrez oui ou non')\n",
    "    choix=input()\n",
    "print('Vous avez choisi ', choix)"
   ]
  },
  {
   "cell_type": "markdown",
   "metadata": {
    "deletable": false,
    "editable": false,
    "run_control": {
     "frozen": true
    }
   },
   "source": [
    "## Les boucles imbriquées"
   ]
  },
  {
   "cell_type": "markdown",
   "metadata": {},
   "source": [
    "* On dit que deux boucles sont _imbriquées_ si **l'une est contenue dans le bloc d'instructions de l'autre**. \n",
    "* Certains algorithmes nécessitent d'imbriquer des boucles. \n",
    ">C'est le cas si l'on souhaite par exemple afficher toutes les tables de multiplications de `1` à `10`. En effet, \n",
    ">* l'affichage de la table de multiplication d'un nombre, par exemple la table de multiplication de `7`, nécessite\n",
    "une boucle ;\n",
    ">* de plus, il faut afficher la table de multiplication pour chaque nombre entre `1` et `10`, ce qui nécessite une deuxième boucle contenant la première."
   ]
  },
  {
   "cell_type": "markdown",
   "metadata": {
    "deletable": false,
    "editable": false,
    "run_control": {
     "frozen": true
    }
   },
   "source": [
    "### Premier exemple\n",
    "\n",
    "Il s'agit d'afficher les tables de multiplication pour tous les nombres entre `1` et `10` inclus.\n",
    "Chaque table se présentera comme suit :\n",
    "\n",
    "``\n",
    "TABLE de 4 \n",
    "4 * 1 = 4 \n",
    "4 * 2 = 8 \n",
    "4 * 3 = 12 \n",
    "4 * 4 = 16 \n",
    "4 * 5 = 20 \n",
    "4 * 6 = 24 \n",
    "4 * 7 = 28 \n",
    "4 * 8 = 32 \n",
    "4 * 9 = 36 \n",
    "4 * 10 = 40\n",
    "``\n",
    "\n",
    "Comme très souvent, plutôt que d'essayer d'écrire directement le détail du programme, il peut être préférable de procéder par étape. Par exemple, nous pouvons dire que, globalement, notre programme doit écrire les `10` tables de multiplication de `1` à `10` et qu'il doit donc se présenter ainsi :\n",
    "\n",
    "````python\n",
    "i=1\n",
    "while i<=10 :\n",
    "           # écrire la table de i\n",
    "   i+=1\n",
    "\n",
    "````\n",
    "\n",
    "Pour écrire la table du nombre `i`, nous pouvons procéder ainsi :\n",
    "\n",
    "````python\n",
    "print(\"\\n\\nTABLE de \", i, '\\n')\n",
    "j=1\n",
    "while j<=10 : #Pour chaque nombre j variant de 1 à 10\n",
    "    print(i, \" * \", j, \" = \", i*j)\n",
    "    j+=1\n",
    " ````\n",
    " \n",
    "En insérant dans la boucle `while` principale le code permettant l'écriture de la table de multiplication, nous obtenons le code complet suivant :"
   ]
  },
  {
   "cell_type": "code",
   "execution_count": null,
   "metadata": {
    "deletable": false,
    "editable": false
   },
   "outputs": [],
   "source": [
    "i=1\n",
    "while  i<=10 :\n",
    "    print(\"\\n\\n TABLE de \", i, '\\n')\n",
    "    j=1\n",
    "    while j<=10 : #Pour chaque nombre j variant de 1 à 10\n",
    "        print(i, \" * \", j, \" = \", i*j)\n",
    "        j+=1\n",
    "    i+=1"
   ]
  },
  {
   "cell_type": "markdown",
   "metadata": {
    "deletable": false,
    "editable": false,
    "run_control": {
     "frozen": true
    }
   },
   "source": [
    "**Remarque** : On peut remplacer l'écriture de boucles imbriquées par l'appel de fonction. Par exemple, si l'on définit la fonction `tableMult` permettant d'écrire la table de multiplication d'un nombre `i`, l'algorithme devient :"
   ]
  },
  {
   "cell_type": "code",
   "execution_count": null,
   "metadata": {
    "deletable": false,
    "editable": false
   },
   "outputs": [],
   "source": [
    "def tableMult(i) :\n",
    "    \"\"\" Affiche la table de multiplication de i \"\"\"\n",
    "    j=1\n",
    "    while j<=10 : #Pour chaque nombre j variant de 1 à 10\n",
    "        print(i, \" * \", j, \" = \", i*j)\n",
    "        j+=1 \n",
    "        \n",
    "# algo principal     \n",
    "i=1\n",
    "while  i<=10 :\n",
    "    print(\"\\n\\n Table de \", i, '\\n')\n",
    "    tableMult(i)\n",
    "    i+=1"
   ]
  },
  {
   "cell_type": "markdown",
   "metadata": {},
   "source": [
    "La fonction `tableMult` contenant une boucle, il y a bien imbrication de boucles pour l'ordinateur mais le fait de transférer la boucle correspondant à l'écriture de la table de multiplication de l'entier `i` dans la fonction `tableMult` permet, lors de l'écriture de l'algorithme, de n'écrire qu'une simple boucle, **le programme est plus lisible**.\n",
    "- Sur ce thème : **Exercice 1, TD 10**"
   ]
  },
  {
   "cell_type": "markdown",
   "metadata": {
    "deletable": false,
    "editable": false,
    "run_control": {
     "frozen": true
    }
   },
   "source": [
    "### Deuxième exemple\n",
    "\n",
    "On souhaite écrire un programme permettant de jouer au nombre magique. Voici le déroulement d'une partie :\n",
    "1. l'ordinateur choisit un nombre aléatoire entre `1` et `100` inclus ;\n",
    "2. le joueur a `6` tentatives pour déterminer ce nombre. À chaque tentative, si le nombre saisi par le joueur n'est pas le nombre aléatoire choisi par l'ordinateur, le programme indique si le nombre proposé par le joueur est plus petit ou plus grand que le nombre aléatoire.\n",
    "\n",
    "On souhaite que le programme permette de jouer plusieurs fois de suite à ce jeu. Ainsi, après chaque partie, l'ordinateur demande à l'utilisateur s'il veut rejouer. Le programme s'arrête dès que le joueur ne veut plus jouer.\n",
    "\n",
    "Pour réaliser un tel programme, il faut d'abord déterminer le code permettant de jouer au nombre magique. On a donc un nombre choisi aléatoirement et une boucle qui demande à l'utilisateur de saisir un nombre puis indiquant si celui-ci est plus petit ou plus grand que le nombre magique, et ce jusqu'à ce que l'utilisateur ait effectué `6` tentatives ou trouvé le nombre magique.\n",
    "\n",
    "\n",
    "Un exemple de code est le suivant."
   ]
  },
  {
   "cell_type": "code",
   "execution_count": 1,
   "metadata": {
    "deletable": false,
    "editable": false
   },
   "outputs": [
    {
     "name": "stdout",
     "output_type": "stream",
     "text": [
      "Saisissez un nombre : \n",
      "50\n",
      "Le nombre magique est plus grand \n",
      "\n",
      "Saisissez un nombre : \n",
      "75\n",
      "Le nombre magique est plus petit \n",
      "\n",
      "Saisissez un nombre : \n",
      "67\n",
      "Le nombre magique est plus petit \n",
      "\n",
      "Saisissez un nombre : \n",
      "58\n",
      "Le nombre magique est plus petit \n",
      "\n",
      "Saisissez un nombre : \n",
      "54\n",
      "Le nombre magique est plus petit \n",
      "\n",
      "Saisissez un nombre : \n",
      "52\n",
      "Vous avez gagné ! \n",
      "\n"
     ]
    }
   ],
   "source": [
    "from random import *\n",
    "nombreAleatoire = randint(1,100)\n",
    "tentative = 0\n",
    "nombre = -1\n",
    "\n",
    "while nombre !=  nombreAleatoire and tentative < 6 :\n",
    "    tentative+=1\n",
    "    print(\"Saisissez un nombre : \")\n",
    "    nombre=int(input())\n",
    "    if nombre < nombreAleatoire :\n",
    "        print(\"Le nombre magique est plus grand \\n\")\n",
    "    elif nombre > nombreAleatoire :\n",
    "        print(\"Le nombre magique est plus petit \\n\")\n",
    "\n",
    "if nombre==nombreAleatoire :\n",
    "    print(\"Vous avez gagné ! \\n\")\n",
    "else :\n",
    "    print(\"Vous avez perdu  ! \\n\")"
   ]
  },
  {
   "cell_type": "markdown",
   "metadata": {
    "deletable": false,
    "editable": false,
    "run_control": {
     "frozen": true
    }
   },
   "source": [
    "Ce code doit être exécuté une première fois. Le programme doit ensuite demander à l'utilisateur s'il souhaite rejouer une autre fois et ceci doit se répéter tant que l'utilisateur saisit la lettre `O` pour oui. Cette boucle est alors de la forme :"
   ]
  },
  {
   "cell_type": "code",
   "execution_count": null,
   "metadata": {
    "deletable": false,
    "editable": false
   },
   "outputs": [],
   "source": [
    "rejoue=\"O\"\n",
    "while rejoue==\"O\" :\n",
    "    print(\"Nouvelle partie\\n\")\n",
    "  \n",
    "    #Code de la partie...\n",
    "  \n",
    "    print(\"Voulez-vous rejouer (O/N) ?\")\n",
    "    rejoue=input()"
   ]
  },
  {
   "cell_type": "markdown",
   "metadata": {
    "deletable": false,
    "editable": false,
    "run_control": {
     "frozen": true
    }
   },
   "source": [
    "En insérant le code permettant de jouer à une partie, on obtient alors le programme complet suivant :"
   ]
  },
  {
   "cell_type": "code",
   "execution_count": null,
   "metadata": {
    "deletable": false,
    "editable": false
   },
   "outputs": [],
   "source": [
    "from random import *\n",
    "\n",
    "rejoue=\"O\"\n",
    "while rejoue==\"O\" :\n",
    "\n",
    "    print(\"Nouvelle partie\\n\")\n",
    "    \n",
    "    nombreAleatoire = randint(1,100)\n",
    "    tentative = 0\n",
    "    nombre = -1 \n",
    "    while nombre !=  nombreAleatoire and tentative < 10 :\n",
    "        tentative=+1\n",
    "        print(\"Saisissez un nombre : \")\n",
    "        nombre=int(input())\n",
    "        if nombre < nombreAleatoire :\n",
    "            print(\"Le nombre magique est plus grand\\n\")\n",
    "        elif nombre > nombreAleatoire :\n",
    "            print(\"Le nombre magique est plus petit\\n\")\n",
    "\n",
    "    if nombre==nombreAleatoire :\n",
    "        print(\"Vous avez gagné\\n\")\n",
    "    else :\n",
    "        print(\"Vous avez perdu\\n\")    \n",
    "  \n",
    "    print(\"Voulez-vous rejouer (O/N) ?\")\n",
    "    rejoue=input()"
   ]
  },
  {
   "cell_type": "markdown",
   "metadata": {
    "deletable": false,
    "editable": false,
    "run_control": {
     "frozen": true
    }
   },
   "source": [
    "**Attention** : Il faut faire très attention à l'initialisation de la boucle interne. Pour chaque partie, il faut choisir un nombre aléatoire et mettre le compteur de tentatives à 0. Autrement dit, les instructions correspondantes (lignes 8 à 10) sont faites à l'intérieur de la boucle `while` et non au début du programme !\n",
    "\n",
    "Comme dans l'exemple précédent, il est possible d'encapsuler la boucle d'une *partie du jeu nombre magique* dans une fonction `jouer_partie_nombre_magique` :"
   ]
  },
  {
   "cell_type": "code",
   "execution_count": null,
   "metadata": {
    "deletable": false,
    "editable": false
   },
   "outputs": [],
   "source": [
    "def jouer_partie_nombre_magique() :\n",
    "    \"\"\" Permet de jouer une partie du jeu nombre magique\"\"\"\n",
    "    nombreAleatoire = randint(1,100)\n",
    "    tentative = 0\n",
    "    nombre = -1 \n",
    "    while nombre !=  nombreAleatoire and tentative < 10 :\n",
    "        tentative=+1\n",
    "        print(\"Saisissez un nombre : \")\n",
    "        nombre=int(input())\n",
    "        if nombre < nombreAleatoire :\n",
    "            print(\"Le nombre magique est plus grand\\n\")\n",
    "        elif nombre > nombreAleatoire :\n",
    "            print(\"Le nombre magique est plus petit\\n\")\n",
    "\n",
    "    if nombre==nombreAleatoire :\n",
    "        print(\"Vous avez gagné\\n\")\n",
    "    else :\n",
    "        print(\"Vous avez perdu\\n\")    "
   ]
  },
  {
   "cell_type": "markdown",
   "metadata": {
    "deletable": false,
    "editable": false,
    "run_control": {
     "frozen": true
    }
   },
   "source": [
    "L'algorithme final devient :"
   ]
  },
  {
   "cell_type": "code",
   "execution_count": null,
   "metadata": {
    "deletable": false,
    "editable": false
   },
   "outputs": [],
   "source": [
    "from random import *\n",
    "\n",
    "rejoue=\"O\"\n",
    "while rejoue==\"O\" :\n",
    "\n",
    "    print(\"Nouvelle partie\\n\")\n",
    "    jouer_partie_nombre_magique()\n",
    "    \n",
    "    print(\"Voulez-vous rejouer (O/N) ?\")\n",
    "    rejoue=input()"
   ]
  },
  {
   "cell_type": "markdown",
   "metadata": {
    "deletable": false,
    "editable": false
   },
   "source": [
    "- Sur ce thème : **Exercices 2 et 3, TD 10**"
   ]
  }
 ],
 "metadata": {
  "kernelspec": {
   "display_name": "Python 3",
   "language": "python",
   "name": "python3"
  },
  "language_info": {
   "codemirror_mode": {
    "name": "ipython",
    "version": 3
   },
   "file_extension": ".py",
   "mimetype": "text/x-python",
   "name": "python",
   "nbconvert_exporter": "python",
   "pygments_lexer": "ipython3",
   "version": "3.7.4"
  },
  "latex_envs": {
   "LaTeX_envs_menu_present": true,
   "autoclose": false,
   "autocomplete": true,
   "bibliofile": "biblio.bib",
   "cite_by": "apalike",
   "current_citInitial": 1,
   "eqLabelWithNumbers": true,
   "eqNumInitial": 1,
   "hotkeys": {
    "equation": "Ctrl-E",
    "itemize": "Ctrl-I"
   },
   "labels_anchors": false,
   "latex_user_defs": false,
   "report_style_numbering": false,
   "user_envs_cfg": false
  }
 },
 "nbformat": 4,
 "nbformat_minor": 2
}
