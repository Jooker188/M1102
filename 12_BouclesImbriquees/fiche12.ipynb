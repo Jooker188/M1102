{
 "cells": [
  {
   "cell_type": "markdown",
   "metadata": {
    "deletable": false,
    "editable": false,
    "run_control": {
     "frozen": true
    }
   },
   "source": [
    "# <center>Chapitre 10 : Boucles imbriquées</center>"
   ]
  },
  {
   "cell_type": "markdown",
   "metadata": {},
   "source": [
    "### Boucles avec itérateur numérique\n",
    "Boucles utilisées lorsque le **nombre d'itérations est connu (ou calculé)** avant l'entrée dans la boucle (pour exemple, un parcours complet de tableau) :\n",
    "   - l'itérateur numérique est de type entier et doit être initialisé avant l'entrée dans la boucle\n",
    "   - la condition d'arrêt porte sur l'itérateur\n",
    "   -  l'itérateur est incrémenté (ou décrémenté) par pas entier"
   ]
  },
  {
   "cell_type": "markdown",
   "metadata": {
    "deletable": false,
    "editable": false,
    "run_control": {
     "frozen": true
    }
   },
   "source": [
    "### Boucles \"conditionnelles\"\n",
    "\n",
    "Boucles dont le **nombre d'itérations n'est pas connu à l'avance** (par exemple, le parcours partiel d'un tableau)."
   ]
  },
  {
   "cell_type": "markdown",
   "metadata": {
    "deletable": false,
    "editable": false,
    "run_control": {
     "frozen": true
    }
   },
   "source": [
    "**Ces deux types de boucles peuvent toujours se traduire par un `while`**"
   ]
  },
  {
   "cell_type": "markdown",
   "metadata": {
    "deletable": false,
    "editable": false,
    "run_control": {
     "frozen": true
    }
   },
   "source": [
    "### Boucles imbriquées\n",
    "Deux boucles sont imbriquées si une boucle est incluse dans une autre. À chaque itération de la boucle englobante, la boucle interne est exécutée.\n",
    "\n",
    "**Exemple :**"
   ]
  },
  {
   "cell_type": "code",
   "execution_count": null,
   "metadata": {
    "deletable": false,
    "editable": false
   },
   "outputs": [],
   "source": [
    "n=10\n",
    "m=5\n",
    "i=0 # Initialisation de l'itérateur de la boucle externe\n",
    "# Boucle externe\n",
    "while(i<n):\n",
    "    j=0 # Initialisation de l'itérateur de la boucle interne\n",
    "    # Boucle interne\n",
    "    while(j<m):\n",
    "        print(i, ' ', j)\n",
    "        j+=1\n",
    "    i+=1"
   ]
  },
  {
   "cell_type": "markdown",
   "metadata": {},
   "source": [
    "L'instruction `print(i, ' ', j)` est exécutée `50` fois : il y a `10` itérations de la boucle englobante (`i` varie de `0` à `9`), et pour chacune de ces itérations la boucle interne (`while(j<m)`) est exécutée `5` fois (`j` varie de `0` à `4`)."
   ]
  },
  {
   "cell_type": "markdown",
   "metadata": {
    "deletable": false,
    "editable": false,
    "run_control": {
     "frozen": true
    }
   },
   "source": [
    "**Remarque :** pour faciliter l'écriture et la lecture d'un programme, les boucles internes peuvent être remplacées par un appel de fonction."
   ]
  },
  {
   "cell_type": "code",
   "execution_count": null,
   "metadata": {
    "deletable": false,
    "editable": false
   },
   "outputs": [],
   "source": [
    "def affich(i,m) :\n",
    "    \"\"\" Affiche i, m fois sous la forme \"\"\"\n",
    "    j=0\n",
    "    while(j<m):\n",
    "        print(str(i)+' '+str(j))\n",
    "        j+=1\n",
    "        \n",
    "# programme principal        \n",
    "n=10\n",
    "m=5\n",
    "i=0\n",
    "while(i<n):\n",
    "    affich(i,m)\n",
    "    i+=1"
   ]
  }
 ],
 "metadata": {
  "kernelspec": {
   "display_name": "Python 3",
   "language": "python",
   "name": "python3"
  },
  "language_info": {
   "codemirror_mode": {
    "name": "ipython",
    "version": 3
   },
   "file_extension": ".py",
   "mimetype": "text/x-python",
   "name": "python",
   "nbconvert_exporter": "python",
   "pygments_lexer": "ipython3",
   "version": "3.7.4"
  },
  "latex_envs": {
   "LaTeX_envs_menu_present": true,
   "autoclose": false,
   "autocomplete": true,
   "bibliofile": "biblio.bib",
   "cite_by": "apalike",
   "current_citInitial": 1,
   "eqLabelWithNumbers": true,
   "eqNumInitial": 1,
   "hotkeys": {
    "equation": "Ctrl-E",
    "itemize": "Ctrl-I"
   },
   "labels_anchors": false,
   "latex_user_defs": false,
   "report_style_numbering": false,
   "user_envs_cfg": false
  }
 },
 "nbformat": 4,
 "nbformat_minor": 2
}
