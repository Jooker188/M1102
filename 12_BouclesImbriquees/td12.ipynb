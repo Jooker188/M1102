{
 "cells": [
  {
   "cell_type": "markdown",
   "metadata": {
    "deletable": false,
    "editable": false,
    "run_control": {
     "frozen": true
    }
   },
   "source": [
    "# <center> Chapitre 12 : Boucles imbriquées - TD </center>"
   ]
  },
  {
   "cell_type": "markdown",
   "metadata": {
    "deletable": false,
    "editable": false,
    "run_control": {
     "frozen": true
    }
   },
   "source": [
    "### Exercice 1 : Puissance d'un circuit *\n",
    "Écrire un programme qui permet d'afficher la puissance `p=u*i` d'un circuit en fonction de la tension `u` variant par pas de 0.5V et de l'intensité `i` variant par pas de 0.05A sachant que les valeurs initiales et finales de `u` et `i` seront demandées à l'utilisateur.\n",
    "\n",
    "**Exemple d'affichage :** (pour `u` variant de 2 à 3V et `i` variant de 0.15 à 0.3A)\n",
    "````\n",
    "\n",
    "u=2.0 i=0.15 p=0.3\n",
    "u=2.0 i=0.2 p=0.4\n",
    "u=2.0 i=0.25 p=0.5\n",
    "u=2.0 i=0.3 p=0.6\n",
    "\n",
    "u=2.5 i=0.15 p=0.38\n",
    "u=2.5 i=0.2 p=0.5\n",
    "u=2.5 i=0.25 p=0.62\n",
    "u=2.5 i=0.3 p=0.75\n",
    "\n",
    "u=3.0 i=0.15 p=0.45\n",
    "u=3.0 i=0.2 p=0.6\n",
    "u=3.0 i=0.25 p=0.75\n",
    "u=3.0 i=0.3 p=0.9\n",
    "````\n"
   ]
  },
  {
   "cell_type": "code",
   "execution_count": null,
   "metadata": {},
   "outputs": [],
   "source": [
    "#-------------------------#\n",
    "#    Écrire le code ici   #\n",
    "#-------------------------#\n",
    "\n",
    "\n"
   ]
  },
  {
   "cell_type": "markdown",
   "metadata": {},
   "source": [
    "### Exercice 2 : Saisie d'un tableau d'entiers positifs *\n",
    "Définir une fonction `saisieValPositives` prenant en paramètre un tableau d'entiers `t` et un nombre d'éléments `nbElements`, et ajoutant au tableau  `nbElements` valeurs positives saisies par l'utilisateur. La saisie de chaque valeur sera répétée jusqu'à ce que la valeur donnée soit positive. \n",
    "\n",
    "Tester la fonction avec comme tableau initial `t=[]` et `3` éléments à saisir."
   ]
  },
  {
   "cell_type": "code",
   "execution_count": null,
   "metadata": {},
   "outputs": [],
   "source": [
    "#-------------------------#\n",
    "#    Écrire le code ici   #\n",
    "#-------------------------#\n",
    "\n",
    "\n"
   ]
  },
  {
   "cell_type": "markdown",
   "metadata": {
    "deletable": false,
    "editable": false,
    "run_control": {
     "frozen": true
    }
   },
   "source": [
    "### Exercice 3 : Calcul des puissances entières par des additions**"
   ]
  },
  {
   "cell_type": "markdown",
   "metadata": {
    "deletable": false,
    "editable": false,
    "run_control": {
     "frozen": true
    }
   },
   "source": [
    ">Le principe de l'algorithme est de considérer que  $x^y$ est équivalent à $x * x * x* x ...$ ($y$ fois) et qu'une multiplication ($z * x$) peut s'écrire $z + z + z + z ...$ ($x$ fois). Il faut donc deux boucles imbriquées : une qui permet de faire $y$ fois la multiplication, chaque multiplication étant elle-même une boucle de $x$ additions. Cependant, ce qui doit être additionné $x$ fois dans la boucle interne évolue. Au premier passage, c'est $1$ qu'on additionne $x$ fois ; au second passage, c'est $x$ qu'on additionne $x$ fois ; au troisième, c'est $x^2$, etc. Il faut donc mémoriser le résultat de la multiplication précédente dans une variable auxiliaire pour faire la multiplication suivante. "
   ]
  },
  {
   "cell_type": "markdown",
   "metadata": {
    "deletable": false,
    "editable": false,
    "run_control": {
     "frozen": true
    }
   },
   "source": [
    "#### Question 1 : Fonction implantant l'algorithme calculant $x^y$\n",
    "- Ecrire une fonction `puissance` permettant de calculer $x^y$ où `x` et `y` sont des entiers positifs. \n",
    "Seule l'addition est autorisée."
   ]
  },
  {
   "cell_type": "code",
   "execution_count": null,
   "metadata": {},
   "outputs": [],
   "source": [
    "#-------------------------#\n",
    "#    Écrire le code ici   #\n",
    "#-------------------------#\n",
    "\n",
    "\n"
   ]
  },
  {
   "cell_type": "markdown",
   "metadata": {
    "deletable": false,
    "editable": false,
    "run_control": {
     "frozen": true
    }
   },
   "source": [
    "#### Question 2 : Tests unitaires\n",
    "- Ecrire une fonction de tests unitaires permettant de valider la conformité de la fonction `puissance`."
   ]
  },
  {
   "cell_type": "code",
   "execution_count": null,
   "metadata": {},
   "outputs": [],
   "source": [
    "#-------------------------#\n",
    "#    Écrire le code ici   #\n",
    "#-------------------------#\n",
    "\n",
    "\n"
   ]
  },
  {
   "cell_type": "markdown",
   "metadata": {
    "deletable": false,
    "editable": false,
    "run_control": {
     "frozen": true
    }
   },
   "source": [
    "# Pour aller plus loin"
   ]
  },
  {
   "cell_type": "markdown",
   "metadata": {
    "deletable": false,
    "editable": false,
    "run_control": {
     "frozen": true
    }
   },
   "source": [
    "### Exercice 4 : Tri à bulles ***\n",
    "\n",
    "On souhaite trier un tableau d'entiers à l'aide de l'algorithme du tri à bulles. Cet algorithme fonctionne de la manière suivante. Pour toute case du tableau sauf la dernière, on compare la valeur de cette case avec celle de sa voisine de droite. Si sa valeur est supérieure à celle de sa voisine, on échange les deux valeurs. On recommence ceci tant que l'on a échangé au moins deux valeurs.\n",
    "\n",
    "#### Question 1 : Exemple \n",
    "Appliquer le tri à bulles sur le tableau `[3, 2, 1, 5, 7, 4, 8, 6]`"
   ]
  },
  {
   "cell_type": "markdown",
   "metadata": {},
   "source": [
    "**REPONSE**"
   ]
  },
  {
   "cell_type": "markdown",
   "metadata": {
    "deletable": false,
    "editable": false,
    "run_control": {
     "frozen": true
    }
   },
   "source": [
    "#### Question 2 : Programme \n",
    "\n",
    "Ecrire un programme implantant le tri à bulles."
   ]
  },
  {
   "cell_type": "code",
   "execution_count": null,
   "metadata": {},
   "outputs": [],
   "source": [
    "#-------------------------#\n",
    "#    Écrire le code ici   #\n",
    "#-------------------------#\n",
    "\n",
    "\n"
   ]
  },
  {
   "cell_type": "markdown",
   "metadata": {
    "deletable": false,
    "editable": false,
    "run_control": {
     "frozen": true
    }
   },
   "source": [
    "#### Question 3 : Découpage en fonction\n",
    "Découper l'algorithme précédent en fonctions."
   ]
  },
  {
   "cell_type": "code",
   "execution_count": null,
   "metadata": {},
   "outputs": [],
   "source": [
    "#-------------------------#\n",
    "#    Écrire le code ici   #\n",
    "#-------------------------#\n",
    "\n",
    "\n"
   ]
  }
 ],
 "metadata": {
  "kernelspec": {
   "display_name": "Python 3",
   "language": "python",
   "name": "python3"
  },
  "language_info": {
   "codemirror_mode": {
    "name": "ipython",
    "version": 3
   },
   "file_extension": ".py",
   "mimetype": "text/x-python",
   "name": "python",
   "nbconvert_exporter": "python",
   "pygments_lexer": "ipython3",
   "version": "3.7.4"
  },
  "latex_envs": {
   "LaTeX_envs_menu_present": true,
   "autoclose": false,
   "autocomplete": true,
   "bibliofile": "biblio.bib",
   "cite_by": "apalike",
   "current_citInitial": 1,
   "eqLabelWithNumbers": true,
   "eqNumInitial": 1,
   "hotkeys": {
    "equation": "Ctrl-E",
    "itemize": "Ctrl-I"
   },
   "labels_anchors": false,
   "latex_user_defs": false,
   "report_style_numbering": false,
   "user_envs_cfg": false
  },
  "toc": {
   "base_numbering": 1,
   "nav_menu": {},
   "number_sections": true,
   "sideBar": true,
   "skip_h1_title": false,
   "title_cell": "Table of Contents",
   "title_sidebar": "Contents",
   "toc_cell": false,
   "toc_position": {},
   "toc_section_display": true,
   "toc_window_display": false
  }
 },
 "nbformat": 4,
 "nbformat_minor": 2
}
