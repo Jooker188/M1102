{
 "cells": [
  {
   "cell_type": "markdown",
   "metadata": {
    "deletable": false,
    "editable": false,
    "run_control": {
     "frozen": true
    }
   },
   "source": [
    "# <center> Chapitre 13 : Chaines de caractères - TD  </center>"
   ]
  },
  {
   "cell_type": "markdown",
   "metadata": {
    "deletable": false,
    "editable": false,
    "run_control": {
     "frozen": true
    }
   },
   "source": [
    "### Exercice 1 : Insertions de symboles * \n",
    "\n",
    "- Ecrire une fonction qui prend une chaîne en paramètre et qui renvoie une chaîne dans laquelle ont été insérées des tirets bas (`_`) entre chaque lettre de la chaîne d'origine.\n",
    "Par exemple, si on lui passe la chaîne `bonjour`, la fonction retourne la chaîne `b_o_n_j_o_u_r`.\n",
    "\n",
    "- Ecrire une fonction de tests unitaires permettant de verifier que la fonction fait ce qui est attendu."
   ]
  },
  {
   "cell_type": "code",
   "execution_count": null,
   "metadata": {},
   "outputs": [],
   "source": [
    "#-------------------------#\n",
    "#    Écrire le code ici   #\n",
    "#-------------------------#\n",
    "\n",
    "\n"
   ]
  },
  {
   "cell_type": "markdown",
   "metadata": {
    "deletable": false,
    "editable": false,
    "run_control": {
     "frozen": true
    }
   },
   "source": [
    "### Exercice 2 : Enumeration dans une phrase*\n",
    "\n",
    "#### Question 1 : Nombre de mots\n",
    "- Définir une fonction `compteMots(phrase)` qui renvoie le\n",
    "nombre de mots contenus dans la phrase `phrase` (une phrase est un\n",
    "chaîne de caractères qui contient éventuellement des espaces). <br> \n",
    "On considère comme mots les ensembles de caractères inclus entre des espaces. On suppose qu'il n'y a jamais deux espaces consécutifs.\n",
    "\n",
    "- Ecrire une fonction de tests unitaires permettant de verifier que la fonction fait ce qui est attendu."
   ]
  },
  {
   "cell_type": "code",
   "execution_count": null,
   "metadata": {},
   "outputs": [],
   "source": [
    "#-------------------------#\n",
    "#    Écrire le code ici   #\n",
    "#-------------------------#\n",
    "\n",
    "\n"
   ]
  },
  {
   "cell_type": "markdown",
   "metadata": {
    "deletable": false,
    "editable": false,
    "run_control": {
     "frozen": true
    }
   },
   "source": [
    "#### Question 2 :  Comptage des majuscules\n",
    "- Ecrire une fonction `estUneMaj()` qui renvoie `True` si l'argument transmis est une majuscule.  On ne tiendra pas compte des majuscules accentuées.\n",
    "- Ecrire une fonction de tests unitaires permettant de verifier que la fonction fait ce qui est attendu."
   ]
  },
  {
   "cell_type": "code",
   "execution_count": null,
   "metadata": {},
   "outputs": [],
   "source": [
    "#-------------------------#\n",
    "#    Écrire le code ici   #\n",
    "#-------------------------#\n",
    "\n",
    "\n"
   ]
  },
  {
   "cell_type": "markdown",
   "metadata": {
    "deletable": false,
    "editable": false,
    "run_control": {
     "frozen": true
    }
   },
   "source": [
    "#### Question 3 : Décomposition d'une phrase en mots\n",
    "- Ecrire une fonction qui prend en paramètre une chaîne de caractères et retourne un tableau formé des mots de phrases (*i.e.* des suites de caractères séparés par un espace)\n",
    "- Ecrire une fonction de tests unitaires permettant de verifier que la fonction fait ce qui est attendu."
   ]
  },
  {
   "cell_type": "code",
   "execution_count": null,
   "metadata": {},
   "outputs": [],
   "source": [
    "#-------------------------#\n",
    "#    Écrire le code ici   #\n",
    "#-------------------------#\n",
    "\n",
    "\n"
   ]
  },
  {
   "cell_type": "markdown",
   "metadata": {
    "deletable": false,
    "editable": false,
    "run_control": {
     "frozen": true
    }
   },
   "source": [
    "#### Question 4 : Nombre de mots commençant par une majuscule\n",
    "- En utilisant les fonctions précédemment définies, écrire une fonction `compteMaj()` qui renvoie le nombre de mots commençant par majuscule dans une phrase passée  en argument.\n",
    "- Ecrire une fonction de tests unitaires permettant de vérifier que cette fonction satisfait les spécifications indiquées."
   ]
  },
  {
   "cell_type": "code",
   "execution_count": null,
   "metadata": {},
   "outputs": [],
   "source": [
    "#-------------------------#\n",
    "#    Écrire le code ici   #\n",
    "#-------------------------#\n",
    "\n",
    "\n"
   ]
  },
  {
   "cell_type": "markdown",
   "metadata": {
    "deletable": false,
    "editable": false,
    "run_control": {
     "frozen": true
    }
   },
   "source": [
    "#### Question 5 : Proportion de mots commençant par une majuscule\n",
    "- En utilisant les fonctions précédemment définies, écrire une\n",
    "fonction `proportionMaj()}` qui affiche la proportion de mots commençant par une majuscule parmi tous les mots d'une phrase. \n",
    "- Ecrire une fonction de tests unitaires permettant de vérifier que cette fonction satisfait les spécifications indiquées."
   ]
  },
  {
   "cell_type": "code",
   "execution_count": null,
   "metadata": {},
   "outputs": [],
   "source": [
    "#-------------------------#\n",
    "#    Écrire le code ici   #\n",
    "#-------------------------#\n",
    "\n",
    "\n"
   ]
  },
  {
   "cell_type": "markdown",
   "metadata": {
    "deletable": false,
    "editable": false,
    "run_control": {
     "frozen": true
    }
   },
   "source": [
    "#### Question 6 : Somme des longueurs des mots \n",
    "- En utilisant les fonctions précédemment définies, écrire une fonction `longueurMots()` qui renvoie la somme des longueurs des mots d'une phrase passée en argument.\n",
    "- Ecrire une fonction de tests unitaires permettant de vérifier que cette fonction satisfait les spécifications indiquées."
   ]
  },
  {
   "cell_type": "code",
   "execution_count": null,
   "metadata": {},
   "outputs": [],
   "source": [
    "#-------------------------#\n",
    "#    Écrire le code ici   #\n",
    "#-------------------------#\n",
    "\n",
    "\n"
   ]
  },
  {
   "cell_type": "markdown",
   "metadata": {
    "deletable": false,
    "editable": false,
    "run_control": {
     "frozen": true
    }
   },
   "source": [
    "#### Question 7 : Longueur moyenne des mots \n",
    "\n",
    "- En utilisant les fonctions précédemment définies, écrire une\n",
    "fonction `longueurMoy()` qui retourne la longueur moyenne des mots d'une phrase passée en argument.\n",
    "- Ecrire une fonction de tests unitaires permettant de vérifier que cette fonction satisfait les spécifications indiquées."
   ]
  },
  {
   "cell_type": "code",
   "execution_count": null,
   "metadata": {},
   "outputs": [],
   "source": [
    "#-------------------------#\n",
    "#    Écrire le code ici   #\n",
    "#-------------------------#\n",
    "\n",
    "\n"
   ]
  },
  {
   "cell_type": "markdown",
   "metadata": {
    "deletable": false,
    "editable": false,
    "run_control": {
     "frozen": true
    }
   },
   "source": [
    "#### Question 8 : Programme principal \n",
    "\n",
    "- Ecrire un programme qui permet la saisie d'une phrase, affiche la proportion de mots commençant par une majuscule ainsi que  la longueur moyenne des mots de la phrase.  "
   ]
  },
  {
   "cell_type": "code",
   "execution_count": null,
   "metadata": {},
   "outputs": [],
   "source": [
    "#-------------------------#\n",
    "#    Écrire le code ici   #\n",
    "#-------------------------#\n",
    "\n",
    "\n"
   ]
  },
  {
   "cell_type": "markdown",
   "metadata": {
    "deletable": false,
    "editable": false,
    "run_control": {
     "frozen": true
    }
   },
   "source": [
    "## Exercice 7 : Chaînes et tableaux*\n",
    "\n",
    "- Créer à partir d'une chaîne de caractères `s` un tableau `t`\n",
    "ayant pour éléments les caractères de `s`\n",
    "- Créer une chaîne `s2` dont les caractères sont\n",
    "les éléments de `t`. Qu'en dire ?"
   ]
  },
  {
   "cell_type": "code",
   "execution_count": null,
   "metadata": {},
   "outputs": [],
   "source": [
    "#-------------------------#\n",
    "#    Écrire le code ici   #\n",
    "#-------------------------#\n",
    "\n",
    "\n"
   ]
  }
 ],
 "metadata": {
  "kernelspec": {
   "display_name": "Python 3",
   "language": "python",
   "name": "python3"
  },
  "language_info": {
   "codemirror_mode": {
    "name": "ipython",
    "version": 3
   },
   "file_extension": ".py",
   "mimetype": "text/x-python",
   "name": "python",
   "nbconvert_exporter": "python",
   "pygments_lexer": "ipython3",
   "version": "3.7.4"
  },
  "latex_envs": {
   "LaTeX_envs_menu_present": true,
   "autoclose": false,
   "autocomplete": true,
   "bibliofile": "biblio.bib",
   "cite_by": "apalike",
   "current_citInitial": 1,
   "eqLabelWithNumbers": true,
   "eqNumInitial": 1,
   "hotkeys": {
    "equation": "Ctrl-E",
    "itemize": "Ctrl-I"
   },
   "labels_anchors": false,
   "latex_user_defs": false,
   "report_style_numbering": false,
   "user_envs_cfg": false
  },
  "toc": {
   "base_numbering": 1,
   "nav_menu": {},
   "number_sections": true,
   "sideBar": true,
   "skip_h1_title": false,
   "title_cell": "Table of Contents",
   "title_sidebar": "Contents",
   "toc_cell": false,
   "toc_position": {},
   "toc_section_display": true,
   "toc_window_display": false
  }
 },
 "nbformat": 4,
 "nbformat_minor": 2
}
