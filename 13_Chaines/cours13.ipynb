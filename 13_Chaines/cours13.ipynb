{
 "cells": [
  {
   "cell_type": "markdown",
   "metadata": {
    "deletable": false,
    "editable": false,
    "run_control": {
     "frozen": true
    }
   },
   "source": [
    "# <center>Chapitre 13 : Les chaînes de caractères </center>"
   ]
  },
  {
   "cell_type": "markdown",
   "metadata": {},
   "source": [
    "### Introduction"
   ]
  },
  {
   "cell_type": "markdown",
   "metadata": {
    "deletable": false,
    "editable": false,
    "run_control": {
     "frozen": true
    }
   },
   "source": [
    "On appelle *chaîne de caractères* des fragments de texte utilisés par un programme.  Il n'est pas nécessaire que le texte ait un sens pour un humain : il suffit qu'il soit composé d'une suite de caractères (un caractère n'est pas obligatoirement une lettre de l'alphabet :`` 'A','9', ' ', '.' ``sont des caractères).\n",
    "\n",
    "La chaîne de caractères (string) est un type de base pour beaucoup de langages  de programmation et il existe de nombreuses bibliothèques de fonctions pour les manipuler.\n",
    "Comprendre et savoir traiter les chaînes de caractères est indispensable pour un informaticien tant elles sont omniprésentes dans tous les domaines de l'informatique :\n",
    "\n",
    "- pour le Web : les pages HTML, les scripts PHP par exemple,\n",
    "- les bases de données : SGBDR,\n",
    "- les réseaux : dans la constitution des trames ethernet,\n",
    "- les systèmes d'exploitation : écriture de scripts sous linux,\n",
    "- programmation : sources de programmes, fichiers textes etc.\n",
    "\n",
    "Le but de ce chapitre est de comprendre et concevoir des algorithmes de traitements de chaînes de caractères. Ces algorithmes seront de plus en plus\n",
    "élaborés; cela vous permettra d'entrevoir la puissance des chaînes de caractères au travers des algorithmes qui les traitent.\n",
    "\n",
    "Pour rappel, une chaîne de caractères est une suite ordonnée de caractères. Cette\n",
    "suite est délimitée par des guillemets `\"\"` ou, plus rarement, par deux apostrophes `''` (en Python les deux sont possibles). Une chaîne de caractères n'est pas modifiable.\n",
    "\n",
    "**Exemples de chaînes littérales :**\n",
    "\n",
    "``\"bonjour\"`` est une chaînes de caractères contenant 7 caractères.\n",
    "``\"\"`` est la chaîne de caractères vide contenant 0 caractère.\n",
    "\n",
    "**On peut initialiser une variable** avec une chaîne de caractères littérale,  cette variable sera de type chaîne de caractères.\n"
   ]
  },
  {
   "cell_type": "code",
   "execution_count": null,
   "metadata": {
    "deletable": false,
    "editable": false
   },
   "outputs": [],
   "source": [
    "message='L\\'hiver approche, vite vite, il faut se couvrir des morsures du froid.'\n",
    "print(message)"
   ]
  },
  {
   "cell_type": "markdown",
   "metadata": {
    "deletable": false,
    "editable": false,
    "run_control": {
     "frozen": true
    }
   },
   "source": [
    "**NB:** Le caractère ``\\`` avant l'apostrophe de ``L'hiver`` qui permet que le caractère ``'`` ne soit pas interprété comme un délimiteur de chaînes de caractères.  Pour éviter l'utilisation de caractères d'échappement on peut utiliser les guillemets ``\"`` pour délimiter la chaîne de caractères."
   ]
  },
  {
   "cell_type": "code",
   "execution_count": null,
   "metadata": {
    "deletable": false,
    "editable": false
   },
   "outputs": [],
   "source": [
    "message=\"L'hiver approche, vite vite, il faut se couvrir des morsures du froid.\"\n",
    "print(message)"
   ]
  },
  {
   "cell_type": "markdown",
   "metadata": {
    "deletable": false,
    "editable": false,
    "run_control": {
     "frozen": true
    }
   },
   "source": [
    "On peut affecter une variable à partir d'une autre variable de type chaîne de caractères."
   ]
  },
  {
   "cell_type": "code",
   "execution_count": null,
   "metadata": {
    "deletable": false,
    "editable": false
   },
   "outputs": [],
   "source": [
    "message=\"L'hiver approche, vite vite, il faut se couvrir des morsures du froid.\"\n",
    "messageBis=message\n",
    "print(messageBis)"
   ]
  },
  {
   "cell_type": "markdown",
   "metadata": {
    "deletable": false,
    "editable": false,
    "run_control": {
     "frozen": true
    }
   },
   "source": [
    "### Concaténation de chaînes de caractères"
   ]
  },
  {
   "cell_type": "markdown",
   "metadata": {
    "deletable": false,
    "editable": false,
    "run_control": {
     "frozen": true
    }
   },
   "source": [
    "L'opérateur ``+`` permet de concaténer des chaînes de caractères."
   ]
  },
  {
   "cell_type": "code",
   "execution_count": null,
   "metadata": {
    "deletable": false,
    "editable": false,
    "scrolled": true
   },
   "outputs": [],
   "source": [
    "message=\"L'hiver approche, vite vite, il faut se couvrir des morsures du froid.\"\n",
    "messageBis=\" Couvrons nous!\"\n",
    "messageTierce=\" Oui, couvrons nos oreilles!\"\n",
    "superMessage = message + messageBis + '\\n'+ messageTierce\n",
    "print(superMessage)"
   ]
  },
  {
   "cell_type": "markdown",
   "metadata": {
    "deletable": false,
    "editable": false,
    "run_control": {
     "frozen": true
    }
   },
   "source": [
    "### Les chaînes de caractères vues comme des tableaux"
   ]
  },
  {
   "cell_type": "markdown",
   "metadata": {
    "deletable": false,
    "editable": false,
    "run_control": {
     "frozen": true
    }
   },
   "source": [
    "Les chaînes de caractères sont analogues aux tableaux de caractères, à ceci près qu'elles ne sont plus modifiables après leur initialisation : seule la lecture des caractères de la chaîne de caractères est autorisée.\n",
    "\n",
    "**Important :** même si les chaînes de caractères peuvent être soumises à une partie des opérations prévues pour les tableaux, elle ne sont pas de **\"type\"** tableau, c'est-à-dire que ``\"abc\"`` est différent de ``['a', 'b', 'c']`` : le second est modifiable, pas le premier. "
   ]
  },
  {
   "cell_type": "code",
   "execution_count": null,
   "metadata": {
    "deletable": false,
    "editable": false
   },
   "outputs": [],
   "source": [
    "message=\"L'hiver approche, vite vite, il faut se couvrir des morsures du froid.\"\n",
    "print(message[4]) # affichage : v\n",
    "print(message[3] + message[6]) # affichage : ir\n",
    "message[1] = 'c'"
   ]
  },
  {
   "cell_type": "markdown",
   "metadata": {
    "deletable": false,
    "editable": false,
    "run_control": {
     "frozen": true
    }
   },
   "source": [
    " Il faut alors bien distinguer les opérations qui **recopient** la chaîne  de  celles qui la **modifient**. \n",
    " Par exemple :"
   ]
  },
  {
   "cell_type": "code",
   "execution_count": null,
   "metadata": {
    "deletable": false,
    "editable": false
   },
   "outputs": [],
   "source": [
    "mot=\"abc\"\n",
    "mot=mot + 'd'  # correct parce que + crée une nouvelle chaîne\n",
    "print(mot)"
   ]
  },
  {
   "cell_type": "markdown",
   "metadata": {
    "deletable": false,
    "editable": false,
    "run_control": {
     "frozen": true
    }
   },
   "source": [
    "On peut déterminer la longueur (c'est-à-dire le nombre de caractères) d'une chaîne, en faisant appel à la fonction `len()`."
   ]
  },
  {
   "cell_type": "code",
   "execution_count": null,
   "metadata": {
    "deletable": false,
    "editable": false
   },
   "outputs": [],
   "source": [
    "print(len(message))"
   ]
  },
  {
   "cell_type": "markdown",
   "metadata": {
    "deletable": false,
    "editable": false,
    "run_control": {
     "frozen": true
    }
   },
   "source": [
    "### Les chaînes sont comparables"
   ]
  },
  {
   "cell_type": "markdown",
   "metadata": {
    "deletable": false,
    "editable": false,
    "run_control": {
     "frozen": true
    }
   },
   "source": [
    "La fonction `ord(car)` permet de connaître la valeur de l'unicode représentant le caractère `car`. La fonction `chr(n)`permet de connaître le caractère représenté par l'unicode `n`."
   ]
  },
  {
   "cell_type": "code",
   "execution_count": null,
   "metadata": {
    "deletable": false,
    "editable": false
   },
   "outputs": [],
   "source": [
    "# code point of integer\n",
    "print(ord('5'))\n",
    "print(ord('5')- ord('0'))\n",
    "\n",
    "# code point of alphabet \n",
    "print(ord('A'))\n",
    "print(ord('B'))\n",
    "\n",
    "print(ord('a'))\n",
    "print(ord('b'))\n",
    "\n",
    "# code point of character\n",
    "print(ord('$'))\n",
    "print(ord('\\n'))\n",
    "\n",
    "print(chr(97))"
   ]
  },
  {
   "cell_type": "markdown",
   "metadata": {
    "deletable": false,
    "editable": false,
    "run_control": {
     "frozen": true
    }
   },
   "source": [
    "Les chaînes peuvent être comparées alphabétiquement selon l'ordre de leur unicode. Tous les opérateurs de comparaison ``(>, <..)`` fonctionnent avec les chaînes de caractères. Cela est très utile pour trier des mots selon l'ordre alphabétique usuel s'ils sont écrits en majuscules ou en minuscules :"
   ]
  },
  {
   "cell_type": "code",
   "execution_count": null,
   "metadata": {
    "deletable": false,
    "editable": false
   },
   "outputs": [],
   "source": [
    "mot = input(\"Entrez un mot quelconque : \")\n",
    "if mot < \"chat\":\n",
    "    place = \"est avant\"\n",
    "elif mot > \"chat\":\n",
    "    place = \"est après\"\n",
    "else:\n",
    "    place = \"se confond avec\"\n",
    "print (\"Le mot\", mot, place, \"le mot 'chat' dans l'ordre alphabétique\")"
   ]
  },
  {
   "cell_type": "markdown",
   "metadata": {
    "deletable": false,
    "editable": false,
    "run_control": {
     "frozen": true
    }
   },
   "source": [
    "- Sur ce thème : **Exercice 1, TD 11**"
   ]
  },
  {
   "cell_type": "markdown",
   "metadata": {
    "deletable": false,
    "editable": false,
    "run_control": {
     "frozen": true
    }
   },
   "source": [
    "### Quelques fonctions sur les chaînes de caractères"
   ]
  },
  {
   "cell_type": "markdown",
   "metadata": {
    "deletable": false,
    "editable": false,
    "run_control": {
     "frozen": true
    }
   },
   "source": [
    "`find(mot)` : renvoie la position du début de la sous-chaîne `mot`\n",
    " dans la chaîne, en partant du début de la chaîne et `-1` si `mot`est absent de la chaîne."
   ]
  },
  {
   "cell_type": "code",
   "execution_count": null,
   "metadata": {
    "deletable": false,
    "editable": false
   },
   "outputs": [],
   "source": [
    "ch= \"je suis étudiant à Paris 13\"\n",
    "mot = \"suis\"\n",
    "print (ch.find(mot))\n",
    "mot2=\"non\"\n",
    "print(ch.find(mot2))"
   ]
  },
  {
   "cell_type": "markdown",
   "metadata": {
    "deletable": false,
    "editable": false,
    "run_control": {
     "frozen": true
    }
   },
   "source": [
    "- Sur ce thème : **Exercices 2 et 3, TD 11**"
   ]
  },
  {
   "cell_type": "markdown",
   "metadata": {
    "deletable": false,
    "editable": false,
    "run_control": {
     "frozen": true
    }
   },
   "source": [
    "`count(mot)` : renvoie le nombre d'occurrences de la sous-chaîne `mot` qui apparaissent sans chevauchement dans la chaîne."
   ]
  },
  {
   "cell_type": "code",
   "execution_count": null,
   "metadata": {
    "deletable": false,
    "editable": false
   },
   "outputs": [],
   "source": [
    "ch = \"Le héron au long bec et au long cou\"\n",
    "mot = 'long'\n",
    "print (ch.count(mot))"
   ]
  },
  {
   "cell_type": "markdown",
   "metadata": {},
   "source": [
    "- Sur ce thème : **Exercice 4, TD 11**"
   ]
  },
  {
   "cell_type": "markdown",
   "metadata": {
    "deletable": false,
    "editable": false,
    "run_control": {
     "frozen": true
    }
   },
   "source": [
    "`ch.lower()` : retourne  une chaîne obtenue à partir de la chaîne `ch` en remplaçant les majuscules par des minuscules.<br>\n",
    "`ch.upper()` : retourne une chaîne obtenue à partir de la chaîne `ch` en remplaçant les minuscules par majuscules."
   ]
  },
  {
   "cell_type": "code",
   "execution_count": null,
   "metadata": {
    "deletable": false,
    "editable": false
   },
   "outputs": [],
   "source": [
    "phrase1 = \"Merci beaucoup\"\n",
    "print (phrase1.upper())\n",
    "\n",
    "phrase2 =\"ATTENTION : Danger !\"\n",
    "print (phrase2.lower())"
   ]
  },
  {
   "cell_type": "markdown",
   "metadata": {
    "deletable": false,
    "editable": false,
    "run_control": {
     "frozen": true
    }
   },
   "source": [
    "`ch.strip()` : retourne la chaîne obtenur après avoir enlèvé les espaces et `\\n` éventuels au début et à la fin de la chaîne `ch`."
   ]
  },
  {
   "cell_type": "code",
   "execution_count": null,
   "metadata": {
    "deletable": false,
    "editable": false
   },
   "outputs": [],
   "source": [
    "phrase = \"   Monty Python   \"\n",
    "print(phrase.strip())"
   ]
  },
  {
   "cell_type": "markdown",
   "metadata": {
    "deletable": false,
    "editable": false,
    "run_control": {
     "frozen": true
    }
   },
   "source": [
    "`ch.replace(old, new)` : retoune la chaîne obtenue après avoir remplacé tous les caractères `old` par des caractères `new` dans la chaîne `ch`."
   ]
  },
  {
   "cell_type": "code",
   "execution_count": null,
   "metadata": {
    "deletable": false,
    "editable": false
   },
   "outputs": [],
   "source": [
    "phrase = \"Je suis étudiant en Informatique\"\n",
    "print(phrase.replace(\" \",\"_\"))"
   ]
  },
  {
   "cell_type": "markdown",
   "metadata": {},
   "source": [
    "- Sur ce thème : **Exercices 5 et 6, TD 11**"
   ]
  }
 ],
 "metadata": {
  "kernelspec": {
   "display_name": "Python 3",
   "language": "python",
   "name": "python3"
  },
  "language_info": {
   "codemirror_mode": {
    "name": "ipython",
    "version": 3
   },
   "file_extension": ".py",
   "mimetype": "text/x-python",
   "name": "python",
   "nbconvert_exporter": "python",
   "pygments_lexer": "ipython3",
   "version": "3.7.4"
  },
  "latex_envs": {
   "LaTeX_envs_menu_present": true,
   "autoclose": false,
   "autocomplete": true,
   "bibliofile": "biblio.bib",
   "cite_by": "apalike",
   "current_citInitial": 1,
   "eqLabelWithNumbers": true,
   "eqNumInitial": 1,
   "hotkeys": {
    "equation": "Ctrl-E",
    "itemize": "Ctrl-I"
   },
   "labels_anchors": false,
   "latex_user_defs": false,
   "report_style_numbering": false,
   "user_envs_cfg": false
  }
 },
 "nbformat": 4,
 "nbformat_minor": 2
}
